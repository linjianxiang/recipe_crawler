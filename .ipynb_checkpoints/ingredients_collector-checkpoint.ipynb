{
 "cells": [
  {
   "cell_type": "code",
   "execution_count": 1,
   "metadata": {},
   "outputs": [],
   "source": [
    "import pandas as pd\n",
    "import re"
   ]
  },
  {
   "cell_type": "code",
   "execution_count": 119,
   "metadata": {},
   "outputs": [],
   "source": [
    "def find_unit(test_string, units_dic):\n",
    "    for unit in units_dic:\n",
    "        if unit in test_string and re.search(\"\\d+\\s*\"+unit, test_string)!= None:\n",
    "            return unit\n",
    "    return None\n",
    "\n",
    "\n",
    "units_dic = {\n",
    "    'grams','gram','g',\n",
    "    'slices','slice',\n",
    "    'cloves','clove',\n",
    "    'cups','cup',\n",
    "    'florets','floret'\n",
    "    'tbsp','tsp',\n",
    "    'dash'\n",
    "}\n",
    "\n",
    "path = \"/home/linjian/projects/web_crawler/recipe_crawler/\"\n",
    "categories_info_file = path+\"crawler_categories.csv\"\n",
    "categories_data = pd.read_csv(categories_info_file, index_col=0)"
   ]
  },
  {
   "cell_type": "code",
   "execution_count": 87,
   "metadata": {},
   "outputs": [],
   "source": [
    "categories_indices = categories_data.index\n",
    "\n",
    "\n",
    "category1 = categories_indices[0].replace(\"/\",\"\").replace(\" \",\"\")\n",
    "category1_path = path+category1\n",
    "category1_csv = category1_path+'/'+category1+'.csv'\n",
    "category1_data = pd.read_csv(category1_csv, index_col=0)"
   ]
  },
  {
   "cell_type": "code",
   "execution_count": 121,
   "metadata": {},
   "outputs": [
    {
     "name": "stdout",
     "output_type": "stream",
     "text": [
      "[\"'125 g rice\", \"1 banana, approx 125g, peeled'\"]\n"
     ]
    }
   ],
   "source": [
    "test_ingredients = category1_data['ingredients'][5].replace('[','').replace(']','')\n",
    "test_ingredients = test_ingredients.split(\"', '\")\n",
    "print(test_ingredients)"
   ]
  },
  {
   "cell_type": "code",
   "execution_count": 123,
   "metadata": {},
   "outputs": [
    {
     "name": "stdout",
     "output_type": "stream",
     "text": [
      "1 banana, approx 125g, peeled'\n",
      "g\n",
      "[]\n"
     ]
    }
   ],
   "source": [
    "test_string = test_ingredients[1]\n",
    "print(test_string)\n",
    "matched_unit = find_unit(test_string, units_dic)\n",
    "print(matched_unit)\n",
    "if (matched_unit != None):\n",
    "#     x = re.findall(\"\\d+\\s*\"+matched_unit+\"\\s*([a-zA-Z]*\\s*[a-zA-Z]*)\", test_string)\n",
    "    x = re.findall(\"\\d+\\s*\"+matched_unit+\"\\s*([a-zA-Z]+\\s*[a-zA-Z]*\\s*[a-zA-Z]*)\", test_string)\n",
    "else:\n",
    "    x = re.findall(\"\\d+\\s*([a-zA-Z]+\\s*[a-zA-Z]*\\s*[a-zA-Z]*)\", test_string)\n",
    "print(x)"
   ]
  },
  {
   "cell_type": "code",
   "execution_count": 111,
   "metadata": {},
   "outputs": [
    {
     "data": {
      "text/plain": [
       "['red capsicum']"
      ]
     },
     "execution_count": 111,
     "metadata": {},
     "output_type": "execute_result"
    }
   ],
   "source": [
    "re.findall(\"\\d+\\s*([a-zA-Z]+\\s*[a-zA-Z]*\\s*[a-zA-Z]*)\", test_string)"
   ]
  },
  {
   "cell_type": "code",
   "execution_count": 118,
   "metadata": {},
   "outputs": [
    {
     "name": "stdout",
     "output_type": "stream",
     "text": [
      "1\n"
     ]
    }
   ],
   "source": [
    "if re.search(\"\\d+\\s*\"+unit, test_string) == None:\n",
    "    print(1)"
   ]
  },
  {
   "cell_type": "code",
   "execution_count": 53,
   "metadata": {},
   "outputs": [],
   "source": [
    "for unit in units_dic:\n",
    "    if unit in test_string:\n",
    "        unit\n",
    "    else:\n",
    "        None"
   ]
  },
  {
   "cell_type": "code",
   "execution_count": null,
   "metadata": {},
   "outputs": [],
   "source": []
  }
 ],
 "metadata": {
  "kernelspec": {
   "display_name": "Python 3",
   "language": "python",
   "name": "python3"
  },
  "language_info": {
   "codemirror_mode": {
    "name": "ipython",
    "version": 3
   },
   "file_extension": ".py",
   "mimetype": "text/x-python",
   "name": "python",
   "nbconvert_exporter": "python",
   "pygments_lexer": "ipython3",
   "version": "3.6.9"
  }
 },
 "nbformat": 4,
 "nbformat_minor": 4
}
