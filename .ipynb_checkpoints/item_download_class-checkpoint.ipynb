{
 "cells": [
  {
   "cell_type": "code",
   "execution_count": 1,
   "metadata": {},
   "outputs": [],
   "source": [
    "from categories_download import get_categories\n",
    "from requests import get\n",
    "from bs4 import BeautifulSoup,NavigableString\n",
    "import pandas as pd\n",
    "import os\n",
    "import re\n",
    "import urllib.request, urllib.error, urllib.parse\n",
    "import sys"
   ]
  },
  {
   "cell_type": "code",
   "execution_count": 2,
   "metadata": {},
   "outputs": [],
   "source": [
    "class recipe_info:\n",
    "    def __init__(self):\n",
    "        self.recipe_name = None\n",
    "        self.recipe_url = None\n",
    "        self.recipe_img_link = None\n",
    "        self.recipe_rating = None\n",
    "        self.recipe_difficulty = None\n",
    "        self.recipe_time = None\n",
    "        self.preparation_time = None\n",
    "        self.recipe_author = None\n",
    "        self.recipe_steps = None\n",
    "        self.recipe_ingredients = None\n",
    "        self.recipe_portion = None\n",
    "        self.recipe_accessories = None\n",
    "        self.number_vote = None\n",
    "        self.number_favorites = None\n",
    "        self.variation_link = None\n",
    "        self.variation_name = None\n",
    "        self.machine_name = None\n",
    "        self.machine_addtional_info = None\n",
    "        self.addtional_categories_dic = None\n",
    "        self.addtional_categories_name = None\n",
    "        self.tips = None\n",
    "        self.iftested = None\n",
    "        \n",
    "    def item_info_download(self,item):\n",
    "        #download author\n",
    "        author_container = item.find_all('div',class_='item-author')[0]\n",
    "        self.recipe_author = author_container.a.text\n",
    "#         print(item_author)\n",
    "        #download rating\n",
    "        item_rating_container = item.find('div',class_ = 'item-rating clearfix')\n",
    "        if (item_rating_container != None):\n",
    "            self.recipe_rating = item_rating_container.div['data-average']\n",
    "#             print(self.recipe_rating)\n",
    "            #downloadd number of vote\n",
    "            if (item_rating_container.span != None):\n",
    "                vote_string = item_rating_container.span.text.strip()\n",
    "                self.number_vote = re.findall('[0-9]+', vote_string)\n",
    "\n",
    "        favourite_container = item.find('div',class_ = 'col-xs-2 favourite-inf')\n",
    "        self.number_favorites = favourite_container.text.strip()\n",
    "#         print(self.favorites)\n",
    "        #download difficulty\n",
    "        item_difficulty_container = item.find('div',class_ = 'col-xs-3 difficulty-inf')\n",
    "        self.recipe_difficulty = item_difficulty_container.text.strip()\n",
    "#         print(item_difficulty)\n",
    "        #download cooking time\n",
    "        item_time_container = item.find('div',class_ = 'col-xs-3 cooking-time-inf')\n",
    "        self.recipe_time = item_time_container.text.strip()\n",
    "#         print(item_time)\n",
    "        #download name\n",
    "        self.recipe_name = item.a['title'].replace('/','')\n",
    "#         print(item_name)\n",
    "        #download image link\n",
    "        self.recipe_img_link = item.img['src']\n",
    "#         print(item_img_link)\n",
    "        #download item url\n",
    "        item_url_add = item.a['href']\n",
    "        self.recipe_url = home_url+item_url_add\n",
    "#         print(item_extend_url)\n",
    "        \n",
    "\n",
    "    def insert_icon_text(self,step):\n",
    "        try:\n",
    "            img_string = step.img\n",
    "            operation = '#'+img_string['title']+'#'\n",
    "            step_icon = str(step).replace(str(img_string),operation)\n",
    "            step_icon_soup = BeautifulSoup(step_icon, 'html.parser')\n",
    "            return step_icon_soup.text.strip().replace('\\xa0','')\n",
    "        except:\n",
    "            step_image_url = step.img['src']\n",
    "            return \" \".join(step.text.split()) + \"$\" + step_image_url+\"$\"\n",
    "\n",
    "    \n",
    "    def download_recipe_steps_ingredients(self, step_list,ingredient_list):\n",
    "        self.recipe_steps = []\n",
    "        if len(step_list) == 1:\n",
    "            try:\n",
    "                recipe_steps.append(insert_icon_text(step_list[0]))\n",
    "            except:\n",
    "                step_list_container = step_list[0].find_all('p')\n",
    "                if (len(step_list_container) > 1):\n",
    "                    for step in step_list_container:\n",
    "                        step_text = step.text.strip()\n",
    "                        if step_text != '':\n",
    "                            self.recipe_steps.append(step_text.replace('\\xa0',' '))\n",
    "                elif(sum(1 for e in step_list[0].childGenerator())>4):\n",
    "                    for step in step_list[0].childGenerator():\n",
    "                        if not (step and isinstance(step,NavigableString)):\n",
    "                            continue\n",
    "                        elif(str(step).strip() ==''):\n",
    "                            continue\n",
    "                        else:\n",
    "                            self.recipe_steps.append(str(step).strip())\n",
    "                else:\n",
    "                    self.recipe_steps.append(\" \".join(step_list[0].text.split()))\n",
    "        else:\n",
    "            for i in range(len(step_list)):\n",
    "                if (step_list[i].img != None):\n",
    "                    self.recipe_steps.append(self.insert_icon_text(step_list[i]))\n",
    "                else:                \n",
    "                    self.recipe_steps.append(\" \".join(step_list[i].text.split()))   \n",
    "                \n",
    "        #append ingredients to dictionary\n",
    "        self.recipe_ingredients = []\n",
    "        for i in range(len(ingredient_list)):\n",
    "             self.recipe_ingredients.append(\" \".join(ingredient_list[i].text.split()))\n",
    "        \n",
    "    def recipe_download_details(self):\n",
    "        recipe_response = get(self.recipe_url)\n",
    "        recipe_html_soup = BeautifulSoup(recipe_response.text, 'html.parser')\n",
    "        \n",
    "        #download variations \n",
    "        variations_container = recipe_html_soup.find('div',class_= 'col-sm-12 sidebar-box variant-box')\n",
    "        if (variations_container != None):\n",
    "            self.variation_link = home_url+variations_container.a['href']\n",
    "            self.variation_name = variations_container.a.text\n",
    "        \n",
    "        #find recipe steps list\n",
    "        step_container = recipe_html_soup.find('ol', class_ = 'steps-list')\n",
    "        step_list = step_container.find_all('li')\n",
    "        \n",
    "        #find tips \n",
    "        tips_container = recipe_html_soup.find('div',class_='tips')\n",
    "#         print(tips_container.find('p'))\n",
    "        tips = tips_container.find('p')\n",
    "        if(tips!=None):\n",
    "            self.tips = tips.text\n",
    "        #find ingredients list and portion\n",
    "        ingredients_container = recipe_html_soup.find('div', class_ = 'ingredients')\n",
    "        ingredient_list = ingredients_container.find_all('li')\n",
    "        if (ingredients_container.find('p',class_='padding-bottom-10')):\n",
    "            self.recipe_portion = ingredients_container.find('p',class_='padding-bottom-10').text.strip()\n",
    "\n",
    "        #download if tested \n",
    "        iftested_container = recipe_html_soup.find('span','recipe-testing-status-text')\n",
    "        self.iftested = re.findall('\\w+\\stested', iftested_container.text)[0]\n",
    "        \n",
    "        #process recipe step and ingredient list\n",
    "        self.download_recipe_steps_ingredients(step_list,ingredient_list)\n",
    "        \n",
    "        #accessories list download\n",
    "        accessories_container = recipe_html_soup.find('div', class_ = 'accessories-list')\n",
    "        if accessories_container == None:\n",
    "            self.accessories = []\n",
    "        else:\n",
    "            tools_list = accessories_container.find_all(\"meta\")\n",
    "            accessories = []\n",
    "            for tool in tools_list:\n",
    "                accessories.append(tool.get(\"content\"))\n",
    "            self.recipe_accessories = [accessories]\n",
    "        \n",
    "        #download addtional info\n",
    "        self.download_addtional_info(recipe_html_soup)\n",
    "       \n",
    "    def download_addtional_info(self,recipe_html_soup):\n",
    "        addtional_info_container = recipe_html_soup.find('div',class_= 'additional-info')\n",
    "        addtion_info_list = addtional_info_container.find_all('li')\n",
    "        #preparation time dowload\n",
    "        time_container = addtion_info_list[0]\n",
    "        preparation_time_container = time_container.find_all('div',class_='smallText')\n",
    "        \n",
    "        if (preparation_time_container):\n",
    "            self.preparation_time = preparation_time_container[0].find(\"span\", id=\"preparation-time-final\").text.strip()\n",
    "            #cooking method\n",
    "            cooking_method = preparation_time_container[1].text.strip()\n",
    "        #machine and machine addtional info\n",
    "        machine_contianer = addtion_info_list[2]\n",
    "        self.machine_name = machine_contianer.h5.text\n",
    "        self.machine_addtional_info = machine_contianer.find('div',class_=\"margin-top-10\")\n",
    "        if(self.machine_addtional_info!=None):\n",
    "            self.machine_addtional_info = self.machine_addtional_info.text.strip()\n",
    "        #addtional categroies\n",
    "        addtional_categories_container = addtion_info_list[4]\n",
    "        addtional_categories_list =addtional_categories_container.find_all('a',class_='catText preventDefault')\n",
    "        self.addtional_categories_dic ={}\n",
    "        self.addtional_categories_name = []\n",
    "        for category in addtional_categories_list:\n",
    "            self.addtional_categories_name.append(category.text)\n",
    "            self.addtional_categories_dic[category.text] = category['href']\n",
    "        \n",
    "    def create_data_frame(self):\n",
    "        #create data frame\n",
    "        item_dic = {}\n",
    "        item_dic['link'] = self.recipe_url\n",
    "        item_dic['img link']= self.recipe_img_link\n",
    "        item_dic['rating'] = self.recipe_rating\n",
    "        item_dic['number vote'] = self.number_vote\n",
    "        item_dic['difficulty'] = self.recipe_difficulty\n",
    "        item_dic['cooking time'] = self.recipe_time\n",
    "        item_dic['preparation time'] = self.preparation_time\n",
    "        item_dic['author'] = self.recipe_author\n",
    "        item_dic['steps'] = [self.recipe_steps]\n",
    "        item_dic['tips'] = self.tips\n",
    "        item_dic['ingredients'] = [self.recipe_ingredients]\n",
    "        item_dic['accessories'] = self.recipe_accessories\n",
    "        item_dic['number favorite'] = self.number_favorites\n",
    "        item_dic['variation link'] = self.variation_link\n",
    "        item_dic['variation name'] = self.variation_name\n",
    "        item_dic['portion'] = self.recipe_portion\n",
    "        item_dic['recipe created for'] = self.machine_name\n",
    "        item_dic['machine addtional info'] = self.machine_addtional_info\n",
    "#         item_dic['addtional categories'] = self.addtional_categories_dic\n",
    "        item_dic['addtional categories'] = [self.addtional_categories_name]\n",
    "        item_dic['if tested'] = self.iftested\n",
    "        return item_dic\n",
    "    \n",
    "    \n",
    "    def download_html(self,path):\n",
    "        #save html to file\n",
    "        response = urllib.request.urlopen(self.recipe_url)\n",
    "        webContent = response.read()\n",
    "\n",
    "        f = open(path+'/'+self.recipe_name+'.html', 'wb')\n",
    "        f.write(webContent)\n",
    "        f.close"
   ]
  },
  {
   "cell_type": "code",
   "execution_count": 3,
   "metadata": {},
   "outputs": [
    {
     "name": "stdout",
     "output_type": "stream",
     "text": [
      "/******************************/\n",
      "finish categories info download\n",
      "/******************************/\n"
     ]
    }
   ],
   "source": [
    "home_url = \"https://www.recipecommunity.com.au\"\n",
    "categories_info_file = get_categories()\n",
    "categories_data = pd.read_csv(categories_info_file, index_col=0)"
   ]
  },
  {
   "cell_type": "code",
   "execution_count": null,
   "metadata": {
    "scrolled": true
   },
   "outputs": [
    {
     "name": "stdout",
     "output_type": "stream",
     "text": [
      "/*******************************/\n",
      "Start Download Category Baby food\n",
      "/*******************************/\n",
      "https://www.recipecommunity.com.au/categories/baby-food?page=1\n",
      "downloading Baby Biscuits (sugar free)\n",
      "downloading Baby coconut chicken meal\n",
      "downloading Apple, Pear and Cinnamon Puree (Baby Food 6+ months)\n",
      "downloading Raw cacao bites\n",
      "downloading 'Sausage' rolls\n",
      "downloading Baby Rice Rusks\n",
      "downloading Apricot Chicken Puree (Baby Food 8+ months)\n",
      "downloading Fruity vegetables\n",
      "downloading Red Lentil and Sweet Potato Puree (From 6 months)\n",
      "downloading Baby's first meals\n",
      "downloading Super Quick & Easy Banana Porridge\n",
      "downloading Apple Spelt Rusks\n",
      "https://www.recipecommunity.com.au/categories/baby-food?page=2\n",
      "downloading Baby Veggie Frittata\n",
      "downloading Kerry's Baby Super Muesli Mix\n",
      "downloading Chicken and Corn Patties - 12months+\n",
      "downloading Organic Beef with Vegetables and Millet (Baby Food 8+ months)\n",
      "downloading Mia's Favourite Apple and Oatmeal Squeezy Fruit\n",
      "downloading 2 ingredient Pumpkin Custard (Dairy, Grain & Gluten Free, GAPS & Paleo)\n",
      "downloading Babys First Pork\n",
      "downloading Cauliflower Nuggets\n",
      "downloading Chicken, apricot and butternut pumpkin casserole\n",
      "downloading Lentil & vegetable puree\n",
      "downloading Chocolate and banana sugar free custard\n",
      "downloading Coconut Cream Custard\n",
      "https://www.recipecommunity.com.au/categories/baby-food?page=3\n",
      "downloading Cous Cous Patties\n",
      "downloading Baby Sausage Scrolls\n",
      "downloading Tasty chicken, pumpkin, chick pea and lentil baby food\n",
      "downloading Avonana Puree\n",
      "downloading Hidden veg and beef napoletana for fussy toddlers!\n",
      "downloading SWEET KIWI + PEAR + ZUCCHINI + MINT BABY PUREE\n",
      "downloading Apple, kiwi and Clove Puree (for reusable pouches)\n",
      "downloading Carrot and Zucchini Purée - ThermieBub\n",
      "downloading GAPS & Paleo Zucchini Pancakes - Hidden Veggies\n",
      "downloading Lamb With Apple - Baby or Toddler Meal\n",
      "downloading Strawberry, kiwi and apple baby food\n",
      "downloading Potato Gumbo\n",
      "https://www.recipecommunity.com.au/categories/baby-food?page=4\n",
      "downloading Baby Custard - sugar free whole egg custard\n",
      "downloading Baby Puree - Baby's first chicken casserole\n",
      "downloading Baby Kichari\n",
      "downloading Baby Vanilla Custard\n",
      "downloading Chicken, Rice and Vegetable Baby Food\n",
      "downloading GAPS Baby Soup - Great way to get little kids to eat veggies\n",
      "downloading Baby Food - Quinoa and Apple Puree\n",
      "downloading Baby Porridge with Berries\n",
      "downloading Babys First Tofu\n",
      "downloading Lactation Cookies\n",
      "downloading Ann Inspired Vege Mash (for big or small people, GAPS & Paleo, densely nutritious)\n",
      "downloading Apple, Pear & Cinnamon Puree\n",
      "https://www.recipecommunity.com.au/categories/baby-food?page=5\n",
      "downloading baby food (4 months +)\n",
      "downloading Baby's first chicken dinner Chicken and vegetable puree\n",
      "downloading Banana baby custard (sugar & egg free)\n",
      "downloading Hidden Veggie Chicken Nuggets \n",
      "downloading Chicken and leek baby puree\n",
      "downloading Infanttoddler brown rice and veggie risotto\n",
      "downloading Vegetable and Couscous Soup\n",
      "downloading Apple & Pear Puree - Baby's First Food\n",
      "downloading Kids Hidden Veg Chicken Bites\n",
      "downloading Baby Banana Custard\n",
      "downloading Fruit Bars with Oats (toddlers & babies)\n",
      "downloading Chocolate Custard (Yogo-style)\n",
      "https://www.recipecommunity.com.au/categories/baby-food?page=6\n",
      "downloading Sweet Potato and Lamb Casserole\n",
      "downloading Brown rice and quinoa baby rusks\n",
      "downloading Sweet Potato with Spinach, Leek and Peas - Baby 4 months +\n",
      "downloading Yummy chicken pasta\n",
      "downloading Chicken and Apple Balls\n",
      "downloading Banana pikelets \n",
      "downloading Creamy Chicken and Vegetable Puree (Baby Food 8+months)\n",
      "downloading Banana & Oat baby biscuits\n",
      "downloading Baby Puree - Sweet potato with Spinach and Peas\n",
      "downloading Banana Flapjacks\n",
      "downloading Healthy Muesli Cookies\n",
      "downloading Moroccan Lamb with Vegetables (Baby Food 8+ months)\n",
      "https://www.recipecommunity.com.au/categories/baby-food?page=7\n",
      "downloading Sugar Free Strawberry Yogurt Muffins for Babies\n",
      "downloading Lamb Veggie Baby Food\n",
      "downloading Chick-Chick burgers\n",
      "downloading Dairy Free Creamy Chicken and Veg Rice For Bubs\n",
      "downloading Banana, Blueberry and Quinoa Puree\n",
      "downloading Fruity Beef Curry - Baby or Toddler meal\n",
      "downloading Banana Muffins\n",
      "downloading Kids Veggie Slice\n",
      "downloading Arrowroot Biscuits\n",
      "downloading Fresh Fruit Jelly\n",
      "downloading Hearty Chicken & Sweet Corn Soup\n",
      "downloading Baby chicken & veg risotto\n",
      "https://www.recipecommunity.com.au/categories/baby-food?page=8\n",
      "downloading Baby First Food\n",
      "downloading Carrot Cake Porridge - Kermie Kreations\n",
      "downloading Potato, Zuchnni & Peas (6months+) can freeze\n",
      "downloading Chicken and cauliflower baby congee (from 6 months)\n",
      "downloading Baby Vegetable Lasagne\n",
      "downloading Baby Dhal\n",
      "downloading Fish and veggies with cheese sauce\n",
      "downloading Minted Spring Lamb Casserole\n",
      "downloading Carrot and Banana Baby Cakes (paleo)\n",
      "downloading Nutritious Baby Porridge\n",
      "downloading Roasted pumpkin, zucchini and carrot puree\n",
      "downloading Baby Pumpkin Puree 4+ months\n",
      "https://www.recipecommunity.com.au/categories/baby-food?page=9\n",
      "downloading Gluten Free Baby Cereal with Quinoa\n",
      "downloading Strawberry and apple purée\n",
      "downloading Peach & Coconut milk rice pudding (Baby Food)\n",
      "error ocurred\n",
      "/*******************************/\n",
      "Start Download Category Baking - savoury\n",
      "/*******************************/\n",
      "https://www.recipecommunity.com.au/categories/baking-savoury?page=1\n",
      "downloading Vegetarian Sausage Rolls\n",
      "downloading Coconut Lentil and Vegetable Pocket Pies\n",
      "downloading Corn and Bacon Flan\n",
      "downloading Leek and Four Cheese Flan\n",
      "downloading Tuna Empanada\n",
      "downloading Blade Cookies\n",
      "downloading THREE CHEESE AND SPINACH ROLL \n",
      "downloading Yorkshire Puddings\n",
      "downloading Corn Chips\n",
      "downloading Silverbeet quiche with oat and Parmesan crust\n",
      "downloading Caramelised leek and goat's cheese tart\n",
      "downloading Clone of Cyndi O'Meara's Vegetarian Sausage Rolls\n",
      "https://www.recipecommunity.com.au/categories/baking-savoury?page=2\n",
      "downloading French Gougeres\n",
      "downloading Spelt Crackers\n",
      "downloading Asparagus, Ricotta and Walnut Tarts\n",
      "downloading Seeded Salami Scrolls\n",
      "downloading Seeded Cheesey Scone Ring\n",
      "downloading Savoury Potato and Walnut Cakes\n",
      "downloading Bacon and cinnamon scrolls with salted maple glaze\n",
      "downloading Zucchini Slice\n",
      "downloading IMPOSSIBLE QUICHE- NO PASTRY\n",
      "downloading Sally's Special Sausage Rolls\n",
      "downloading Little Party Savouries\n",
      "downloading CHICKEN AND CHEESE SAUSAGE ROLLS\n",
      "https://www.recipecommunity.com.au/categories/baking-savoury?page=3\n",
      "downloading Middle Eastern Lamb Pide\n",
      "downloading Ginger and Soy Glazed Salmon with Bok Choy and Coconut Rice\n",
      "downloading Pumpkin Scones\n",
      "downloading Brazilian cheese puffs\n",
      "downloading Charlie's thin pizza base\n",
      "downloading Zucchini Slice with Bacon, Carrot & Curry Powder\n",
      "downloading Cheesy Herb Crackers \n",
      "downloading Mum's Sausage Rolls\n",
      "downloading Chicken, Cheese and Vegetable Nuggets \n",
      "downloading Pumpkin, Spinach and Feta Lunchbox Muffins \n",
      "downloading Grain-free Crackers\n",
      "downloading Too Easy Lemonade Scones\n",
      "https://www.recipecommunity.com.au/categories/baking-savoury?page=4\n",
      "downloading Summer quinoa bites\n",
      "downloading Zucchini & Bacon Muffins\n",
      "downloading 4 Ingredient Cheese Crackers\n",
      "downloading Clone of Subway Bread - Italian Herb & Cheese\n",
      "downloading Cheese Scones\n",
      "downloading Paleo Bread (converted from Elena's Pantry by www.wholefoodiekitchen)\n",
      "downloading Pumpkin, Feta, Caramelised Onion, Polenta Crust Tart\n",
      "downloading Chicken and Vegetable Sausage Rolls\n",
      "downloading Lunchbox Spinach and Feta Tarts\n",
      "downloading Bacon and Leek Quiche\n",
      "downloading Yve's Mini quiches\n",
      "downloading TJ's Choritzo and Two Cheese Scrolls\n",
      "https://www.recipecommunity.com.au/categories/baking-savoury?page=5\n",
      "downloading Pizza Shapes\n",
      "downloading Cheesy Bacon mini muffins \n",
      "downloading Spinach TortillasWraps\n",
      "downloading Zucchini Muffins\n",
      "downloading Pumpkin, Chickpea, Pesto & Cheese Scrolls\n",
      "downloading Cheesy Crackers\n",
      "downloading Pumpkin,chorizo and spinach frittata\n",
      "downloading Apple & Banana Muffins\n",
      "downloading Vegetarian \"sausage\" rolls, that taste like real sausage rolls! Nut Free!\n",
      "error ocurred\n",
      "/*******************************/\n",
      "Start Download Category Baking - sweet\n",
      "/*******************************/\n",
      "https://www.recipecommunity.com.au/categories/baking-sweet?page=1\n"
     ]
    }
   ],
   "source": [
    "dataset_columns = ['link','img link','rating','number vote','number favorite',\n",
    "                   'difficulty','cooking time','portion','preparation time',\n",
    "                   'author','accessories','steps','tips','ingredients','if tested','recipe created for',\n",
    "                   'machine addtional info','addtional categories','variation link','variation name']\n",
    "\n",
    "\n",
    "categories_indices = categories_data.index\n",
    "counter = 0\n",
    "for category_index in categories_indices:\n",
    "    print('/*******************************/')\n",
    "    print('Start Download Category '+ str(category_index))\n",
    "    print('/*******************************/')\n",
    "    #creat folders and init file name\n",
    "    os.mkdir(str(category_index))\n",
    "    category_recipe_outfile = str(category_index) + '/'+str(category_index)+'.csv' \n",
    "    items_data = pd.DataFrame(columns=dataset_columns)\n",
    "    #get item url\n",
    "    category_url = categories_data['link'][category_index]\n",
    "#     print(item_url)\n",
    "    category_response = get(category_url)\n",
    "    category_html_soup = BeautifulSoup(category_response.text, 'html.parser')\n",
    "    \n",
    "    pager_container = category_html_soup.find('div',class_= 'pager')\n",
    "    lastpage_extend = pager_container.a['href']\n",
    "    pager_number = re.findall('[0-9]+', lastpage_extend)[0]\n",
    "    pager_number = int(pager_number)\n",
    "    \n",
    "    try:\n",
    "    \n",
    "        for current_page in range(1,pager_number+1): \n",
    "\n",
    "            page_url= category_url + '?page=' + str(current_page)\n",
    "            print(page_url)\n",
    "\n",
    "            #download url contents and apply beautifulsoup\n",
    "            item_response = get(page_url)\n",
    "            item_html_soup = BeautifulSoup(item_response.text, 'html.parser')\n",
    "\n",
    "\n",
    "            #find items on the first page\n",
    "            items_container = item_html_soup.find_all('div', class_ = 'thumbnail result-recipe result-grid-display')\n",
    "        #     print(len(items_container))\n",
    "\n",
    "            for item in items_container:\n",
    "                #init recipe class\n",
    "                recipe_class = recipe_info()\n",
    "                recipe_class.item_info_download(item)\n",
    "                print(\"downloading \"+ recipe_class.recipe_name)\n",
    "\n",
    "                #download html\n",
    "                html_path = str(category_index)\n",
    "                recipe_class.download_html(html_path)\n",
    "\n",
    "        #         #process recipe url\n",
    "                recipe_class.recipe_download_details()\n",
    "\n",
    "                #create recipe data frame\n",
    "                item_dic = recipe_class.create_data_frame()\n",
    "                item_info = pd.DataFrame(item_dic,index=[recipe_class.recipe_name])\n",
    "                items_data = items_data.append(item_info)\n",
    "    #             counter = counter +1\n",
    "    #             if counter >= 1:\n",
    "    #                 break\n",
    "        print('/*******************************/')\n",
    "        print('Category '+ str(category_index)+' saved')\n",
    "        print('/*******************************/')\n",
    "        items_data.to_csv(category_recipe_outfile, index = True,sep=\",\")\n",
    "            #finish current pager crawler\n",
    "        #finish all pages\n",
    "#         break\n",
    "    except:\n",
    "        items_data.to_csv(category_recipe_outfile, index = True,sep=\",\")\n",
    "        print(\"error ocurred\")"
   ]
  },
  {
   "cell_type": "code",
   "execution_count": 4,
   "metadata": {},
   "outputs": [
    {
     "name": "stdout",
     "output_type": "stream",
     "text": [
      "https://www.recipecommunity.com.au/categories/baby-food?page=17\n",
      "downloading Baby moroccan lamb with vegetables\n",
      "downloading Baby pear and prune porridge\n",
      "downloading Baby's apricot chicken with orange vegetables\n"
     ]
    },
    {
     "ename": "AttributeError",
     "evalue": "'NoneType' object has no attribute 'text'",
     "output_type": "error",
     "traceback": [
      "\u001b[0;31m---------------------------------------------------------------------------\u001b[0m",
      "\u001b[0;31mAttributeError\u001b[0m                            Traceback (most recent call last)",
      "\u001b[0;32m<ipython-input-4-a2cea0c9bc7d>\u001b[0m in \u001b[0;36m<module>\u001b[0;34m\u001b[0m\n\u001b[1;32m     24\u001b[0m \u001b[0;34m\u001b[0m\u001b[0m\n\u001b[1;32m     25\u001b[0m \u001b[0;31m#         #process recipe url\u001b[0m\u001b[0;34m\u001b[0m\u001b[0;34m\u001b[0m\u001b[0;34m\u001b[0m\u001b[0m\n\u001b[0;32m---> 26\u001b[0;31m     \u001b[0mrecipe_class\u001b[0m\u001b[0;34m.\u001b[0m\u001b[0mrecipe_download_details\u001b[0m\u001b[0;34m(\u001b[0m\u001b[0;34m)\u001b[0m\u001b[0;34m\u001b[0m\u001b[0;34m\u001b[0m\u001b[0m\n\u001b[0m\u001b[1;32m     27\u001b[0m \u001b[0;34m\u001b[0m\u001b[0m\n\u001b[1;32m     28\u001b[0m     \u001b[0;31m#create recipe data frame\u001b[0m\u001b[0;34m\u001b[0m\u001b[0;34m\u001b[0m\u001b[0;34m\u001b[0m\u001b[0m\n",
      "\u001b[0;32m<ipython-input-2-26e83539a15d>\u001b[0m in \u001b[0;36mrecipe_download_details\u001b[0;34m(self)\u001b[0m\n\u001b[1;32m    149\u001b[0m \u001b[0;34m\u001b[0m\u001b[0m\n\u001b[1;32m    150\u001b[0m         \u001b[0;31m#download addtional info\u001b[0m\u001b[0;34m\u001b[0m\u001b[0;34m\u001b[0m\u001b[0;34m\u001b[0m\u001b[0m\n\u001b[0;32m--> 151\u001b[0;31m         \u001b[0mself\u001b[0m\u001b[0;34m.\u001b[0m\u001b[0mdownload_addtional_info\u001b[0m\u001b[0;34m(\u001b[0m\u001b[0mrecipe_html_soup\u001b[0m\u001b[0;34m)\u001b[0m\u001b[0;34m\u001b[0m\u001b[0;34m\u001b[0m\u001b[0m\n\u001b[0m\u001b[1;32m    152\u001b[0m \u001b[0;34m\u001b[0m\u001b[0m\n\u001b[1;32m    153\u001b[0m     \u001b[0;32mdef\u001b[0m \u001b[0mdownload_addtional_info\u001b[0m\u001b[0;34m(\u001b[0m\u001b[0mself\u001b[0m\u001b[0;34m,\u001b[0m\u001b[0mrecipe_html_soup\u001b[0m\u001b[0;34m)\u001b[0m\u001b[0;34m:\u001b[0m\u001b[0;34m\u001b[0m\u001b[0;34m\u001b[0m\u001b[0m\n",
      "\u001b[0;32m<ipython-input-2-26e83539a15d>\u001b[0m in \u001b[0;36mdownload_addtional_info\u001b[0;34m(self, recipe_html_soup)\u001b[0m\n\u001b[1;32m    164\u001b[0m         \u001b[0;31m#machine and machine addtional info\u001b[0m\u001b[0;34m\u001b[0m\u001b[0;34m\u001b[0m\u001b[0;34m\u001b[0m\u001b[0m\n\u001b[1;32m    165\u001b[0m         \u001b[0mmachine_contianer\u001b[0m \u001b[0;34m=\u001b[0m \u001b[0maddtion_info_list\u001b[0m\u001b[0;34m[\u001b[0m\u001b[0;36m2\u001b[0m\u001b[0;34m]\u001b[0m\u001b[0;34m\u001b[0m\u001b[0;34m\u001b[0m\u001b[0m\n\u001b[0;32m--> 166\u001b[0;31m         \u001b[0mself\u001b[0m\u001b[0;34m.\u001b[0m\u001b[0mmachine_name\u001b[0m \u001b[0;34m=\u001b[0m \u001b[0mmachine_contianer\u001b[0m\u001b[0;34m.\u001b[0m\u001b[0mh5\u001b[0m\u001b[0;34m.\u001b[0m\u001b[0mtext\u001b[0m\u001b[0;34m\u001b[0m\u001b[0;34m\u001b[0m\u001b[0m\n\u001b[0m\u001b[1;32m    167\u001b[0m         \u001b[0mself\u001b[0m\u001b[0;34m.\u001b[0m\u001b[0mmachine_addtional_info\u001b[0m \u001b[0;34m=\u001b[0m \u001b[0mmachine_contianer\u001b[0m\u001b[0;34m.\u001b[0m\u001b[0mfind\u001b[0m\u001b[0;34m(\u001b[0m\u001b[0;34m'div'\u001b[0m\u001b[0;34m,\u001b[0m\u001b[0mclass_\u001b[0m\u001b[0;34m=\u001b[0m\u001b[0;34m\"margin-top-10\"\u001b[0m\u001b[0;34m)\u001b[0m\u001b[0;34m\u001b[0m\u001b[0;34m\u001b[0m\u001b[0m\n\u001b[1;32m    168\u001b[0m         \u001b[0;32mif\u001b[0m\u001b[0;34m(\u001b[0m\u001b[0mself\u001b[0m\u001b[0;34m.\u001b[0m\u001b[0mmachine_addtional_info\u001b[0m\u001b[0;34m!=\u001b[0m\u001b[0;32mNone\u001b[0m\u001b[0;34m)\u001b[0m\u001b[0;34m:\u001b[0m\u001b[0;34m\u001b[0m\u001b[0;34m\u001b[0m\u001b[0m\n",
      "\u001b[0;31mAttributeError\u001b[0m: 'NoneType' object has no attribute 'text'"
     ]
    }
   ],
   "source": [
    "dataset_columns = ['link','img link','rating','number vote','number favorite',\n",
    "                   'difficulty','cooking time','portion','preparation time',\n",
    "                   'author','accessories','steps','tips','ingredients','if tested','recipe created for',\n",
    "                   'machine addtional info','addtional categories','variation link','variation name']\n",
    "items_data = pd.DataFrame(columns=dataset_columns)\n",
    "\n",
    "page_url= \"https://www.recipecommunity.com.au/categories/baby-food?page=17\"\n",
    "print(page_url)\n",
    "\n",
    "#download url contents and apply beautifulsoup\n",
    "item_response = get(page_url)\n",
    "item_html_soup = BeautifulSoup(item_response.text, 'html.parser')\n",
    "\n",
    "\n",
    "#find items on the first page\n",
    "items_container = item_html_soup.find_all('div', class_ = 'thumbnail result-recipe result-grid-display')\n",
    "#     print(len(items_container))\n",
    "\n",
    "for item in items_container:\n",
    "    #init recipe class\n",
    "    recipe_class = recipe_info()\n",
    "    recipe_class.item_info_download(item)\n",
    "    print(\"downloading \"+ recipe_class.recipe_name)\n",
    "\n",
    "#         #process recipe url\n",
    "    recipe_class.recipe_download_details()\n",
    "\n",
    "    #create recipe data frame\n",
    "    item_dic = recipe_class.create_data_frame()\n",
    "    item_info = pd.DataFrame(item_dic,index=[recipe_class.recipe_name])\n",
    "    items_data = items_data.append(item_info)"
   ]
  },
  {
   "cell_type": "code",
   "execution_count": 19,
   "metadata": {},
   "outputs": [
    {
     "name": "stdout",
     "output_type": "stream",
     "text": [
      "https://www.recipecommunity.com.au/baby-food-recipes/baby-coconut-chicken-meal/4wyfnaab-f9c28-481590-cfcd2-xs7vp6mu\n",
      "['1. Place chicken, vegetables and coconut milk into TM bowl.2. Cook for 10MIN - 100DEG -#Counter-clockwise operation#3. Pulverise for about 10SECS - SP7, checking there are no lumps. (or try for just 5SECS for a chunkier meal).The fats in coconut milk have been found to be close those in breast milk and thus is an ideal way to keep meat moist for your baby as well as being nutritious. This meal can be frozen (after using fresh chicken) and made thinner by adding more coconut milk, milk, breast milk if required.']\n"
     ]
    }
   ],
   "source": [
    "def insert_icon_text(step):\n",
    "    try:\n",
    "        img_string = step.img\n",
    "        operation = '#'+img_string['title']+'#'\n",
    "        step_icon = str(step).replace(str(img_string),operation)\n",
    "        step_icon_soup = BeautifulSoup(step_icon, 'html.parser')\n",
    "        return step_icon_soup.text.strip().replace('\\xa0','')\n",
    "\n",
    "    except:\n",
    "        step_image_url = step.img['src']\n",
    "        return \" \".join(step.text.split()) + \".$\" + step_image_url+\"$\"\n",
    "page_url= \"https://www.recipecommunity.com.au/baby-food-recipes/baby-coconut-chicken-meal/4wyfnaab-f9c28-481590-cfcd2-xs7vp6mu\"\n",
    "# page_url= \"https://www.recipecommunity.com.au/baby-food-recipes/brown-rice-and-quinoa-baby-rusks/ff5c7zsn-b0b2e-764829-cfcd2-dqad3va8\"\n",
    "print(page_url)\n",
    "\n",
    "#download url contents and apply beautifulsoup\n",
    "item_response = get(page_url)\n",
    "recipe_html_soup = BeautifulSoup(item_response.text, 'html.parser')\n",
    "#find recipe steps list\n",
    "step_container = recipe_html_soup.find('ol', class_ = 'steps-list')\n",
    "step_list = step_container.find_all('li')\n",
    "    \n",
    "recipe_steps = []\n",
    "if len(step_list) == 1:\n",
    "    try:\n",
    "        recipe_steps.append(insert_icon_text(step_list[0]))\n",
    "    except:\n",
    "        step_list_container = step_list[0].find_all('p')\n",
    "        if (len(step_list_container) > 1):\n",
    "            for step in step_list_container:\n",
    "                step_text = step.text.strip()\n",
    "                if step_text != '':\n",
    "                    recipe_steps.append(step_text)\n",
    "        elif(sum(1 for e in step_list[0].childGenerator())>4):\n",
    "            for step in step_list[0].childGenerator():\n",
    "                if not (step and isinstance(step,NavigableString)):\n",
    "                    continue\n",
    "                elif(str(step).strip() ==''):\n",
    "                    continue\n",
    "                else:\n",
    "                    recipe_steps.append(str(step).strip())\n",
    "        else:\n",
    "            for i in range(len(step_list)):\n",
    "                recipe_steps.append(\" \".join(step_list[i].text.split()))\n",
    "\n",
    "else:\n",
    "    for i in range(len(step_list)):\n",
    "        if (step_list[i].img != None):\n",
    "            recipe_steps.append(insert_icon_text(step_list[i]))\n",
    "        else:\n",
    "            recipe_steps.append(\" \".join(step_list[i].text.split()))\n",
    "print(recipe_steps)"
   ]
  },
  {
   "cell_type": "code",
   "execution_count": 12,
   "metadata": {},
   "outputs": [
    {
     "data": {
      "text/plain": [
       "'Counter-clockwise operation'"
      ]
     },
     "execution_count": 12,
     "metadata": {},
     "output_type": "execute_result"
    }
   ],
   "source": [
    "step_list[0].img['title']"
   ]
  },
  {
   "cell_type": "code",
   "execution_count": 7,
   "metadata": {},
   "outputs": [
    {
     "data": {
      "text/plain": [
       "'1. Place chicken, vegetables and coconut milk into TM bowl.\\xa02. Cook for 10MIN - 100DEG -\\xa0#Counter-clockwise operation#3. Pulverise for about 10SECS - SP7, checking there are no lumps. (or try for just 5SECS for a chunkier meal).\\xa0The fats in coconut milk have been found to be close those in breast milk and thus is an ideal way to keep meat moist for your baby as well as being nutritious. \\xa0This meal can be frozen (after using fresh chicken) and made thinner by adding more coconut milk, milk, breast milk if required.'"
      ]
     },
     "execution_count": 7,
     "metadata": {},
     "output_type": "execute_result"
    }
   ],
   "source": [
    "step = step_list[0]\n",
    "img_string = step.img\n",
    "operation = '#'+img_string['title']+'#'\n",
    "step_icon = str(step).replace(str(img_string),operation)\n",
    "step_icon_soup = BeautifulSoup(step_icon, 'html.parser')\n",
    "step_icon_soup.text.strip()"
   ]
  },
  {
   "cell_type": "code",
   "execution_count": null,
   "metadata": {},
   "outputs": [],
   "source": []
  },
  {
   "cell_type": "code",
   "execution_count": 18,
   "metadata": {},
   "outputs": [
    {
     "name": "stdout",
     "output_type": "stream",
     "text": [
      "[]\n"
     ]
    }
   ],
   "source": [
    "addtional_info_container = recipe_html_soup.find('div',class_= 'additional-info')\n",
    "addtion_info_list = addtional_info_container.find_all('li')\n",
    "#preparation time dowload\n",
    "time_container = addtion_info_list[0]\n",
    "preparation_time_container = time_container.find_all('div',class_='smallText')\n",
    "print(preparation_time_container)\n",
    "if (preparation_time_container):\n",
    "    print('not none')\n",
    "    self.preparation_time = preparation_time_container[0].find(\"span\", id=\"preparation-time-final\").text.strip()\n",
    "    #cooking method\n",
    "    cooking_method = preparation_time_container[1].text.strip()"
   ]
  },
  {
   "cell_type": "code",
   "execution_count": 16,
   "metadata": {},
   "outputs": [
    {
     "data": {
      "text/plain": [
       "False"
      ]
     },
     "execution_count": 16,
     "metadata": {},
     "output_type": "execute_result"
    }
   ],
   "source": [
    "preparation_time_container == None"
   ]
  },
  {
   "cell_type": "code",
   "execution_count": 10,
   "metadata": {},
   "outputs": [],
   "source": [
    "recipe_response = get('https://www.recipecommunity.com.au/baby-food-recipes/apple-kiwi-and-clove-puree-for-reusable-pouches/kl3uxs3v-0745c-386041-cfcd2-c0f9cw9z')\n",
    "# recipe_response = get('https://www.recipecommunity.com.au/baby-food-recipes/baby-biscuits-sugar-free/vdttw1rs-09448-352970-cfcd2-icxafnee')\n",
    "recipe_html_soup = BeautifulSoup(recipe_response.text, 'html.parser')\n",
    "\n",
    "#download variations \n",
    "variations_container = recipe_html_soup.find('div',class_= 'col-sm-12 sidebar-box variant-box')\n",
    "if (variations_container != None):\n",
    "    variation_link = variations_container.a['href']\n",
    "    variation_name = variations_container.a.text\n",
    "\n",
    "#find recipe steps list\n",
    "step_container = recipe_html_soup.find('ol', class_ = 'steps-list')\n",
    "step_list = step_container.find_all('li')\n",
    "\n",
    "#find ingredients list\n",
    "ingredients_container = recipe_html_soup.find('div', class_ = 'ingredients')\n",
    "ingredient_list = ingredients_container.find_all('li')\n",
    "\n",
    "#process recipe step and ingredient list\n",
    "# download_recipe_steps_ingredients(step_list,ingredient_list)\n",
    "\n",
    "#accessories list download\n",
    "accessories_container = recipe_html_soup.find('div', class_ = 'accessories-list')\n",
    "if accessories_container == None:\n",
    "    accessories = []\n",
    "else:\n",
    "    tools_list = accessories_container.find_all(\"meta\")\n",
    "    accessories = []\n",
    "    for tool in tools_list:\n",
    "        accessories.append(tool.get(\"content\"))\n",
    "    recipe_accessories = [accessories]\n",
    "    \n",
    "addtional_info_container = recipe_html_soup.find('div',class_= 'additional-info')\n",
    "addtion_info_list = addtional_info_container.find_all('li')"
   ]
  },
  {
   "cell_type": "code",
   "execution_count": 11,
   "metadata": {},
   "outputs": [
    {
     "ename": "NameError",
     "evalue": "name 'addtion_info_list' is not defined",
     "output_type": "error",
     "traceback": [
      "\u001b[0;31m---------------------------------------------------------------------------\u001b[0m",
      "\u001b[0;31mNameError\u001b[0m                                 Traceback (most recent call last)",
      "\u001b[0;32m<ipython-input-11-dc2353264723>\u001b[0m in \u001b[0;36m<module>\u001b[0;34m\u001b[0m\n\u001b[0;32m----> 1\u001b[0;31m \u001b[0mtime_container\u001b[0m \u001b[0;34m=\u001b[0m \u001b[0maddtion_info_list\u001b[0m\u001b[0;34m[\u001b[0m\u001b[0;36m0\u001b[0m\u001b[0;34m]\u001b[0m\u001b[0;34m\u001b[0m\u001b[0;34m\u001b[0m\u001b[0m\n\u001b[0m\u001b[1;32m      2\u001b[0m \u001b[0mtime\u001b[0m \u001b[0;34m=\u001b[0m \u001b[0mtime_container\u001b[0m\u001b[0;34m.\u001b[0m\u001b[0mh5\u001b[0m\u001b[0;34m.\u001b[0m\u001b[0mtext\u001b[0m\u001b[0;34m\u001b[0m\u001b[0;34m\u001b[0m\u001b[0m\n\u001b[1;32m      3\u001b[0m \u001b[0mpreparation_time_container\u001b[0m \u001b[0;34m=\u001b[0m \u001b[0mtime_container\u001b[0m\u001b[0;34m.\u001b[0m\u001b[0mfind_all\u001b[0m\u001b[0;34m(\u001b[0m\u001b[0;34m'div'\u001b[0m\u001b[0;34m,\u001b[0m\u001b[0mclass_\u001b[0m\u001b[0;34m=\u001b[0m\u001b[0;34m'smallText'\u001b[0m\u001b[0;34m)\u001b[0m\u001b[0;34m\u001b[0m\u001b[0;34m\u001b[0m\u001b[0m\n\u001b[1;32m      4\u001b[0m \u001b[0mpreparation_time\u001b[0m \u001b[0;34m=\u001b[0m \u001b[0mpreparation_time_container\u001b[0m\u001b[0;34m[\u001b[0m\u001b[0;36m0\u001b[0m\u001b[0;34m]\u001b[0m\u001b[0;34m.\u001b[0m\u001b[0mfind\u001b[0m\u001b[0;34m(\u001b[0m\u001b[0;34m\"span\"\u001b[0m\u001b[0;34m,\u001b[0m \u001b[0mid\u001b[0m\u001b[0;34m=\u001b[0m\u001b[0;34m\"preparation-time-final\"\u001b[0m\u001b[0;34m)\u001b[0m\u001b[0;34m.\u001b[0m\u001b[0mtext\u001b[0m\u001b[0;34m.\u001b[0m\u001b[0mstrip\u001b[0m\u001b[0;34m(\u001b[0m\u001b[0;34m)\u001b[0m\u001b[0;34m\u001b[0m\u001b[0;34m\u001b[0m\u001b[0m\n",
      "\u001b[0;31mNameError\u001b[0m: name 'addtion_info_list' is not defined"
     ]
    }
   ],
   "source": [
    "time_container = addtion_info_list[0]\n",
    "time = time_container.h5.text\n",
    "preparation_time_container = time_container.find_all('div',class_='smallText')\n",
    "preparation_time = preparation_time_container[0].find(\"span\", id=\"preparation-time-final\").text.strip()"
   ]
  },
  {
   "cell_type": "code",
   "execution_count": 19,
   "metadata": {},
   "outputs": [
    {
     "name": "stdout",
     "output_type": "stream",
     "text": [
      "not tested\n"
     ]
    }
   ],
   "source": [
    "iftested_container = recipe_html_soup.find('span','recipe-testing-status-text')\n",
    "iftested = re.findall('\\w+\\stested', iftested_container.text)[0]\n",
    "print(iftested)"
   ]
  },
  {
   "cell_type": "code",
   "execution_count": 137,
   "metadata": {},
   "outputs": [
    {
     "name": "stdout",
     "output_type": "stream",
     "text": [
      "Baking/Cooking\n"
     ]
    }
   ],
   "source": [
    "cooking_method_container = preparation_time_container[1].text.strip()\n",
    "print(cooking_method_container)"
   ]
  },
  {
   "cell_type": "code",
   "execution_count": 140,
   "metadata": {},
   "outputs": [
    {
     "name": "stdout",
     "output_type": "stream",
     "text": [
      "<li>\n",
      "<div class=\"step-container\">\n",
      "<div class=\"edit-icon\"></div>\n",
      "<span class=\"step-number\">8</span>\n",
      "<div class=\"appliances-list\">\n",
      "<ul>\n",
      "<li class=\"media appliance-version no-border\">\n",
      "<div class=\"media-left\">\n",
      "<img alt=\"Appliance TM 31 image\" class=\"media-object\" data-holder-rendered=\"true\" data-src=\"holder.js/50x50\" src=\"//tmrcv3-common.s3.amazonaws.com/appliances/tm31_small.png\" style=\"\"/>\n",
      "</div>\n",
      "<div class=\"media-body\">\n",
      "<span class=\"smallText\">\n",
      "                Recipe is created for\n",
      "              </span>\n",
      "<h5 class=\"media-heading\">TM 31</h5>\n",
      "</div>\n",
      "</li>\n",
      "</ul>\n",
      "</div>\n",
      "</div>\n",
      "</li>\n"
     ]
    }
   ],
   "source": [
    "machine_contianer = addtion_info_list[2]\n",
    "print(machine_contianer)"
   ]
  },
  {
   "cell_type": "code",
   "execution_count": 142,
   "metadata": {},
   "outputs": [
    {
     "name": "stdout",
     "output_type": "stream",
     "text": [
      "None\n"
     ]
    }
   ],
   "source": [
    "machine_name = machine_contianer.h5.text\n",
    "machine_addtional_info = machine_contianer.find('div',class_=\"margin-top-10\")\n",
    "if(machine_addtional_info!=None):\n",
    "    machine_addtional_info = machine_addtional_info.text\n",
    "print(machine_addtional_info)"
   ]
  },
  {
   "cell_type": "code",
   "execution_count": 159,
   "metadata": {},
   "outputs": [
    {
     "data": {
      "text/plain": [
       "{}"
      ]
     },
     "execution_count": 159,
     "metadata": {},
     "output_type": "execute_result"
    }
   ],
   "source": [
    "addtional_categories_container = addtion_info_list[4]\n",
    "addtional_categories_list =addtional_categories_container.find_all('a',class_='catText preventDefault')\n",
    "addtional_categories_dic ={}\n",
    "for category in addtional_categories_list:\n",
    "    addtional_categories_dic[category.text] = category['href']\n",
    "addtional_categories_dic"
   ]
  },
  {
   "cell_type": "code",
   "execution_count": 160,
   "metadata": {},
   "outputs": [
    {
     "name": "stdout",
     "output_type": "stream",
     "text": [
      "<div class=\"tips\">\n",
      "<div class=\"step-container\">\n",
      "<div class=\"edit-icon\"></div>\n",
      "<span class=\"step-number\">11</span>\n",
      "<h2 class=\"h3\">Tip</h2>\n",
      "<p><p> </p> </p>\n",
      "</div>\n",
      "</div>\n"
     ]
    }
   ],
   "source": [
    "tips_container = recipe_html_soup.find('div',class_='tips')\n",
    "tips = tips_container.find('p').text\n",
    "print(tips_container)\n"
   ]
  },
  {
   "cell_type": "code",
   "execution_count": 161,
   "metadata": {},
   "outputs": [
    {
     "name": "stdout",
     "output_type": "stream",
     "text": [
      "  \n"
     ]
    }
   ],
   "source": [
    "tips = tips_container.find('p').text\n",
    "print(tips)"
   ]
  },
  {
   "cell_type": "code",
   "execution_count": 155,
   "metadata": {},
   "outputs": [
    {
     "name": "stdout",
     "output_type": "stream",
     "text": [
      "\n",
      " 6 portion(s)\n",
      "\n"
     ]
    }
   ],
   "source": [
    "portion= ingredients_container.find('p',class_='padding-bottom-10').text\n",
    "print(portion)"
   ]
  },
  {
   "cell_type": "code",
   "execution_count": null,
   "metadata": {},
   "outputs": [],
   "source": []
  }
 ],
 "metadata": {
  "kernelspec": {
   "display_name": "Python 3",
   "language": "python",
   "name": "python3"
  },
  "language_info": {
   "codemirror_mode": {
    "name": "ipython",
    "version": 3
   },
   "file_extension": ".py",
   "mimetype": "text/x-python",
   "name": "python",
   "nbconvert_exporter": "python",
   "pygments_lexer": "ipython3",
   "version": "3.6.9"
  }
 },
 "nbformat": 4,
 "nbformat_minor": 2
}
