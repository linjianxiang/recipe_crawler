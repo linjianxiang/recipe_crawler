{
 "cells": [
  {
   "cell_type": "code",
   "execution_count": 1,
   "metadata": {},
   "outputs": [],
   "source": [
    "from categories_download import get_categories\n",
    "from requests import get\n",
    "from bs4 import BeautifulSoup,NavigableString\n",
    "import pandas as pd\n",
    "import os\n",
    "import re\n",
    "import urllib.request, urllib.error, urllib.parse\n",
    "import sys"
   ]
  },
  {
   "cell_type": "code",
   "execution_count": 156,
   "metadata": {},
   "outputs": [],
   "source": [
    "class recipe_info:\n",
    "    def __init__(self):\n",
    "        self.recipe_name = None\n",
    "        self.recipe_url = None\n",
    "        self.recipe_img_link = None\n",
    "        self.recipe_rating = None\n",
    "        self.recipe_difficulty = None\n",
    "        self.recipe_time = None\n",
    "        self.recipe_author = None\n",
    "        self.recipe_steps = None\n",
    "        self.recipe_ingredients = None\n",
    "        self.recipe_portion = None\n",
    "        self.recipe_accessories = None\n",
    "        self.number_vote = None\n",
    "        self.number_favorites = None\n",
    "        self.variation_link = None\n",
    "        self.variation_name = None\n",
    "        \n",
    "        \n",
    "    def item_info_download(self,item):\n",
    "        #download author\n",
    "        author_container = item.find_all('div',class_='item-author')[0]\n",
    "        self.recipe_author = author_container.a.text\n",
    "#         print(item_author)\n",
    "        #download rating\n",
    "        item_rating_container = item.find('div',class_ = 'item-rating clearfix')\n",
    "        if (item_rating_container != None):\n",
    "            self.recipe_rating = item_rating_container.div['data-average']\n",
    "#             print(self.recipe_rating)\n",
    "            #downloadd number of vote\n",
    "            if (item_rating_container.span != None):\n",
    "                vote_string = item_rating_container.span.text.strip()\n",
    "                self.number_vote = re.findall('[0-9]+', vote_string)\n",
    "\n",
    "        favourite_container = item.find('div',class_ = 'col-xs-2 favourite-inf')\n",
    "        self.number_favorites = favourite_container.text.strip()\n",
    "#         print(self.favorites)\n",
    "        #download difficulty\n",
    "        item_difficulty_container = item.find('div',class_ = 'col-xs-3 difficulty-inf')\n",
    "        self.recipe_difficulty = item_difficulty_container.text.strip()\n",
    "#         print(item_difficulty)\n",
    "        #download cooking time\n",
    "        item_time_container = item.find('div',class_ = 'col-xs-3 cooking-time-inf')\n",
    "        self.recipe_time = item_time_container.text.strip()\n",
    "#         print(item_time)\n",
    "        #download name\n",
    "        self.recipe_name = item.a['title']\n",
    "#         print(item_name)\n",
    "        #download image link\n",
    "        self.recipe_img_link = item.img['src']\n",
    "#         print(item_img_link)\n",
    "        #download item url\n",
    "        item_url_add = item.a['href']\n",
    "        self.recipe_url = home_url+item_url_add\n",
    "#         print(item_extend_url)\n",
    "        \n",
    "\n",
    "    def download_recipe_steps_ingredients(self, step_list,ingredient_list):\n",
    "        self.recipe_steps = []\n",
    "        if len(step_list) == 1:\n",
    "            step_list_container = step_list[0].find_all('p')\n",
    "            if (len(step_list_container) > 1):\n",
    "                for step in step_list_container:\n",
    "                    step_text = step.text.strip()\n",
    "                    if step_text != '':\n",
    "                        self.recipe_steps.append(step_text)\n",
    "            elif(sum(1 for e in step_list[0].childGenerator())>4):\n",
    "                for step in step_list[0].childGenerator():\n",
    "                    if not (step and isinstance(step,NavigableString)):\n",
    "                        continue\n",
    "                    elif(str(step).strip() ==''):\n",
    "                        continue\n",
    "                    else:\n",
    "                        self.recipe_steps.append(str(step).strip())\n",
    "            else:\n",
    "                self.recipe_steps.append(\" \".join(step_list[0].text.split()))\n",
    "        else:\n",
    "#             try:\n",
    "            for i in range(len(step_list)):\n",
    "                self.recipe_steps.append(\" \".join(step_list[i].text.split()))\n",
    "#             except:\n",
    "#                 for i in range(len(step_list)):\n",
    "#                     self.recipe_steps.append(step_list[i].p.text)\n",
    "        \n",
    "        self.recipe_ingredients = []\n",
    "        #append ingredients to dictionary\n",
    "        for i in range(len(ingredient_list)):\n",
    "             self.recipe_ingredients.append(\" \".join(ingredient_list[i].text.split()))\n",
    "        \n",
    "    def recipe_download_details(self):\n",
    "        recipe_response = get(self.recipe_url)\n",
    "        recipe_html_soup = BeautifulSoup(recipe_response.text, 'html.parser')\n",
    "        \n",
    "        #download variations \n",
    "        variations_container = recipe_html_soup.find('div',class_= 'col-sm-12 sidebar-box variant-box')\n",
    "        if (variations_container != None):\n",
    "            self.variation_link = variations_container.a['href']\n",
    "            self.variation_name = variations_container.a.text\n",
    "        \n",
    "        #find recipe steps list\n",
    "        step_container = recipe_html_soup.find('ol', class_ = 'steps-list')\n",
    "        step_list = step_container.find_all('li')\n",
    "\n",
    "        #find ingredients list and portion\n",
    "        ingredients_container = recipe_html_soup.find('div', class_ = 'ingredients')\n",
    "        ingredient_list = ingredients_container.find_all('li')\n",
    "        self.recipe_portion = ingredients_container.find('p',class_='padding-bottom-10').text\n",
    "\n",
    "        #process recipe step and ingredient list\n",
    "        self.download_recipe_steps_ingredients(step_list,ingredient_list)\n",
    "        \n",
    "        #accessories list download\n",
    "        accessories_container = recipe_html_soup.find('div', class_ = 'accessories-list')\n",
    "        if accessories_container == None:\n",
    "            self.accessories = []\n",
    "        else:\n",
    "            tools_list = accessories_container.find_all(\"meta\")\n",
    "            accessories = []\n",
    "            for tool in tools_list:\n",
    "                accessories.append(tool.get(\"content\"))\n",
    "            self.recipe_accessories = [accessories]\n",
    "        \n",
    "        #download addtional info\n",
    "        addtional_info_container = recipe_html_soup.find('div',class_= 'additional-info')\n",
    "        addtion_info_list = addtional_info_container.find_all('li')\n",
    "        \n",
    "        \n",
    "    def create_data_frame(self):\n",
    "        #create data frame\n",
    "        item_dic = {}\n",
    "        item_dic['link'] = self.recipe_url\n",
    "        item_dic['img link']= self.recipe_img_link\n",
    "        item_dic['rating'] = self.recipe_rating\n",
    "        item_dic['number vote'] = self.number_vote\n",
    "        item_dic['difficulty'] = self.recipe_difficulty\n",
    "        item_dic['cooking time'] = self.recipe_time\n",
    "        item_dic['author'] = self.recipe_author\n",
    "        item_dic['steps'] = [self.recipe_steps]\n",
    "        item_dic['ingredients'] = [self.recipe_ingredients]\n",
    "        item_dic['accessories'] = self.recipe_accessories\n",
    "        item_dic['number favorite'] = self.number_favorites\n",
    "        item_dic['variation link'] = self.variation_link\n",
    "        item_dic['variation name'] = self.variation_name\n",
    "        \n",
    "        return item_dic\n",
    "\n",
    "    def download_html(self,path):\n",
    "        #save html to file\n",
    "        response = urllib.request.urlopen(self.recipe_url)\n",
    "        webContent = response.read()\n",
    "\n",
    "        f = open(path+'/'+self.recipe_name+'.html', 'wb')\n",
    "        f.write(webContent)\n",
    "        f.close"
   ]
  },
  {
   "cell_type": "code",
   "execution_count": 6,
   "metadata": {},
   "outputs": [
    {
     "name": "stdout",
     "output_type": "stream",
     "text": [
      "/******************************/\n",
      "finish categories info download\n",
      "/******************************/\n"
     ]
    }
   ],
   "source": [
    "home_url = \"https://www.recipecommunity.com.au\"\n",
    "categories_info_file = get_categories()\n",
    "categories_data = pd.read_csv(categories_info_file, index_col=0)"
   ]
  },
  {
   "cell_type": "code",
   "execution_count": 14,
   "metadata": {
    "scrolled": true
   },
   "outputs": [
    {
     "name": "stdout",
     "output_type": "stream",
     "text": [
      "/*******************************/\n",
      "Start Download Category Baby food\n",
      "/*******************************/\n",
      "https://www.recipecommunity.com.au/categories/baby-food?page=1\n",
      "downloading Baby Biscuits (sugar free)\n"
     ]
    },
    {
     "name": "stderr",
     "output_type": "stream",
     "text": [
      "C:\\Users\\ljxia\\Anaconda3\\lib\\site-packages\\pandas\\core\\frame.py:6692: FutureWarning: Sorting because non-concatenation axis is not aligned. A future version\n",
      "of pandas will change to not sort by default.\n",
      "\n",
      "To accept the future behavior, pass 'sort=False'.\n",
      "\n",
      "To retain the current behavior and silence the warning, pass 'sort=True'.\n",
      "\n",
      "  sort=sort)\n"
     ]
    },
    {
     "name": "stdout",
     "output_type": "stream",
     "text": [
      "https://www.recipecommunity.com.au/categories/baby-food?page=2\n",
      "downloading Baby Veggie Frittata\n",
      "https://www.recipecommunity.com.au/categories/baby-food?page=3\n",
      "downloading Cous Cous Patties\n",
      "https://www.recipecommunity.com.au/categories/baby-food?page=4\n",
      "downloading Baby Custard - sugar free whole egg custard\n",
      "https://www.recipecommunity.com.au/categories/baby-food?page=5\n",
      "downloading baby food (4 months +)\n",
      "https://www.recipecommunity.com.au/categories/baby-food?page=6\n",
      "downloading Sweet Potato and Lamb Casserole\n",
      "https://www.recipecommunity.com.au/categories/baby-food?page=7\n",
      "downloading Sugar Free Strawberry Yogurt Muffins for Babies\n",
      "https://www.recipecommunity.com.au/categories/baby-food?page=8\n",
      "downloading Baby First Food\n",
      "https://www.recipecommunity.com.au/categories/baby-food?page=9\n",
      "downloading Gluten Free Baby Cereal with Quinoa\n",
      "https://www.recipecommunity.com.au/categories/baby-food?page=10\n",
      "downloading baby food (6 months +)\n",
      "https://www.recipecommunity.com.au/categories/baby-food?page=11\n",
      "downloading Beef and three-vegetable puree\n",
      "https://www.recipecommunity.com.au/categories/baby-food?page=12\n",
      "downloading Apple, Cinnamon and Quinoa Porridge\n",
      "https://www.recipecommunity.com.au/categories/baby-food?page=13\n",
      "downloading Baby banana oatmeal\n",
      "https://www.recipecommunity.com.au/categories/baby-food?page=14\n",
      "downloading Huevo duro\n",
      "https://www.recipecommunity.com.au/categories/baby-food?page=15\n",
      "downloading QUICK CARROT BABY PUREE\n",
      "https://www.recipecommunity.com.au/categories/baby-food?page=16\n",
      "downloading baby food (6 months +)\n",
      "https://www.recipecommunity.com.au/categories/baby-food?page=17\n",
      "downloading Baby moroccan lamb with vegetables\n",
      "https://www.recipecommunity.com.au/categories/baby-food?page=18\n",
      "downloading Tuna and Sweet Potato Patties\n",
      "/*******************************/\n",
      "Category Baby food saved\n",
      "/*******************************/\n"
     ]
    }
   ],
   "source": [
    "categories_indices = categories_data.index\n",
    "counter = 0\n",
    "for category_index in categories_indices:\n",
    "    print('/*******************************/')\n",
    "    print('Start Download Category '+ str(category_index))\n",
    "    print('/*******************************/')\n",
    "    #creat folders and init file name\n",
    "    os.mkdir(str(category_index))\n",
    "    category_recipe_outfile = str(category_index) + '/'+str(category_index)+'.csv' \n",
    "    items_data = pd.DataFrame(columns=['link','img link','rating','number vote',\n",
    "                                       'number favorite','variation link','variation name',\n",
    "                                       'difficulty','cooking time','author','accessories','steps','ingredients'])\n",
    "    #get item url\n",
    "    category_url = categories_data['link'][category_index]\n",
    "#     print(item_url)\n",
    "    category_response = get(category_url)\n",
    "    category_html_soup = BeautifulSoup(category_response.text, 'html.parser')\n",
    "    \n",
    "    pager_container = category_html_soup.find('div',class_= 'pager')\n",
    "    lastpage_extend = pager_container.a['href']\n",
    "    pager_number = re.findall('[0-9]+', lastpage_extend)[0]\n",
    "    pager_number = int(pager_number)\n",
    "    \n",
    "    \n",
    "    for current_page in range(1,pager_number+1): \n",
    "        \n",
    "        page_url= category_url + '?page=' + str(current_page)\n",
    "        print(page_url)\n",
    "                        \n",
    "        #download url contents and apply beautifulsoup\n",
    "        item_response = get(page_url)\n",
    "        item_html_soup = BeautifulSoup(item_response.text, 'html.parser')\n",
    "\n",
    "\n",
    "        #find items on the first page\n",
    "        items_container = item_html_soup.find_all('div', class_ = 'thumbnail result-recipe result-grid-display')\n",
    "    #     print(len(items_container))\n",
    "        \n",
    "        for item in items_container:\n",
    "            #init recipe class\n",
    "            recipe_class = recipe_info()\n",
    "            recipe_class.item_info_download(item)\n",
    "            print(\"downloading \"+ recipe_class.recipe_name)\n",
    "\n",
    "            #download html\n",
    "            html_path = str(category_index)\n",
    "            recipe_class.download_html(html_path)\n",
    "            \n",
    "    #         #process recipe url\n",
    "            recipe_class.recipe_download_details()\n",
    "\n",
    "            #create recipe data frame\n",
    "            item_dic = recipe_class.create_data_frame()\n",
    "            item_info = pd.DataFrame(item_dic,index=[recipe_class.recipe_name])\n",
    "            items_data = items_data.append(item_info)\n",
    "            counter = counter +1\n",
    "            if counter >= 1:\n",
    "                break\n",
    "    print('/*******************************/')\n",
    "    print('Category '+ str(category_index)+' saved')\n",
    "    print('/*******************************/')\n",
    "    items_data.to_csv(category_recipe_outfile, index = True,sep=\",\")\n",
    "        #finish current pager crawler\n",
    "    #finish all pages\n",
    "    break"
   ]
  },
  {
   "cell_type": "code",
   "execution_count": 10,
   "metadata": {},
   "outputs": [],
   "source": [
    "item_url = 'https://www.recipecommunity.com.au/categories/baby-food?page=6'"
   ]
  },
  {
   "cell_type": "code",
   "execution_count": 11,
   "metadata": {},
   "outputs": [],
   "source": [
    "recipe_response = get('https://www.recipecommunity.com.au/baby-food-recipes/beef-and-three-vegetable-puree/1etj02hr-9d870-628097-beea0-13numfvs')\n",
    "recipe_html_soup = BeautifulSoup(recipe_response.text, 'html.parser')\n",
    "\n",
    "#find recipe steps list\n",
    "step_container = recipe_html_soup.find('ol', class_ = 'steps-list')\n",
    "step_list = step_container.find_all('li')\n",
    "\n",
    "#find ingredients list\n",
    "ingredients_container = recipe_html_soup.find('div', class_ = 'ingredients')\n",
    "ingredient_list = ingredients_container.find_all('li')\n",
    "\n",
    "recipe_steps = []\n",
    "try:\n",
    "    for i in range(len(step_list)):\n",
    "        recipe_steps.append(\" \".join(step_list[i].text.split()))\n",
    "except:\n",
    "    for i in range(len(step_list)):\n",
    "        recipe_steps.append(step_list[i].p.text)\n",
    "\n",
    "recipe_ingredients = []\n",
    "#append ingredients to dictionary\n",
    "for i in range(len(ingredient_list)):\n",
    "     recipe_ingredients.append(\" \".join(ingredient_list[i].text.split()))\n",
    "\n"
   ]
  },
  {
   "cell_type": "code",
   "execution_count": 29,
   "metadata": {},
   "outputs": [],
   "source": [
    "recipe_steps = []\n",
    "if len(step_list) == 1:\n",
    "    step_list_container = step_list[0].find_all('p')\n",
    "    if (len(step_list_container) > 1):\n",
    "        for step in step_list_container:\n",
    "            step_text = step.text.strip()\n",
    "            if step_text != '':\n",
    "                recipe_steps.append(step_text)\n",
    "    elif(sum(1 for e in step_list[0].childGenerator())>4):\n",
    "        for step in step_list[0].childGenerator():\n",
    "            if not (step and isinstance(step,NavigableString)):\n",
    "                continue\n",
    "            elif(str(step).strip() ==''):\n",
    "                continue\n",
    "            else:\n",
    "                recipe_steps.append(str(step).strip())\n",
    "    else:\n",
    "        for i in range(len(step_list)):\n",
    "            recipe_steps.append(\" \".join(step_list[i].text.split()))\n",
    "\n",
    "else:\n",
    "#             try:\n",
    "    for i in range(len(step_list)):\n",
    "        recipe_steps.append(\" \".join(step_list[i].text.split()))"
   ]
  },
  {
   "cell_type": "code",
   "execution_count": 133,
   "metadata": {},
   "outputs": [],
   "source": [
    "recipe_response = get('https://www.recipecommunity.com.au/baby-food-recipes/apple-kiwi-and-clove-puree-for-reusable-pouches/kl3uxs3v-0745c-386041-cfcd2-c0f9cw9z')\n",
    "# recipe_response = get('https://www.recipecommunity.com.au/baby-food-recipes/baby-biscuits-sugar-free/vdttw1rs-09448-352970-cfcd2-icxafnee')\n",
    "recipe_html_soup = BeautifulSoup(recipe_response.text, 'html.parser')\n",
    "\n",
    "#download variations \n",
    "variations_container = recipe_html_soup.find('div',class_= 'col-sm-12 sidebar-box variant-box')\n",
    "if (variations_container != None):\n",
    "    variation_link = variations_container.a['href']\n",
    "    variation_name = variations_container.a.text\n",
    "\n",
    "#find recipe steps list\n",
    "step_container = recipe_html_soup.find('ol', class_ = 'steps-list')\n",
    "step_list = step_container.find_all('li')\n",
    "\n",
    "#find ingredients list\n",
    "ingredients_container = recipe_html_soup.find('div', class_ = 'ingredients')\n",
    "ingredient_list = ingredients_container.find_all('li')\n",
    "\n",
    "#process recipe step and ingredient list\n",
    "# download_recipe_steps_ingredients(step_list,ingredient_list)\n",
    "\n",
    "#accessories list download\n",
    "accessories_container = recipe_html_soup.find('div', class_ = 'accessories-list')\n",
    "if accessories_container == None:\n",
    "    accessories = []\n",
    "else:\n",
    "    tools_list = accessories_container.find_all(\"meta\")\n",
    "    accessories = []\n",
    "    for tool in tools_list:\n",
    "        accessories.append(tool.get(\"content\"))\n",
    "    recipe_accessories = [accessories]\n",
    "    \n",
    "addtional_info_container = recipe_html_soup.find('div',class_= 'additional-info')\n",
    "addtion_info_list = addtional_info_container.find_all('li')"
   ]
  },
  {
   "cell_type": "code",
   "execution_count": 157,
   "metadata": {},
   "outputs": [
    {
     "data": {
      "text/plain": [
       "''"
      ]
     },
     "execution_count": 157,
     "metadata": {},
     "output_type": "execute_result"
    }
   ],
   "source": [
    "time_container = addtion_info_list[0]\n",
    "time = time_container.h5.text\n",
    "preparation_time_container = time_container.find_all('div',class_='smallText')\n",
    "preparation_time = preparation_time_container[0].find(\"span\", id=\"preparation-time-final\").text.strip()"
   ]
  },
  {
   "cell_type": "code",
   "execution_count": 136,
   "metadata": {},
   "outputs": [
    {
     "data": {
      "text/plain": [
       "''"
      ]
     },
     "execution_count": 136,
     "metadata": {},
     "output_type": "execute_result"
    }
   ],
   "source": []
  },
  {
   "cell_type": "code",
   "execution_count": 137,
   "metadata": {},
   "outputs": [
    {
     "name": "stdout",
     "output_type": "stream",
     "text": [
      "Baking/Cooking\n"
     ]
    }
   ],
   "source": [
    "cooking_method_container = preparation_time_container[1].text.strip()\n",
    "print(cooking_method_container)"
   ]
  },
  {
   "cell_type": "code",
   "execution_count": 140,
   "metadata": {},
   "outputs": [
    {
     "name": "stdout",
     "output_type": "stream",
     "text": [
      "<li>\n",
      "<div class=\"step-container\">\n",
      "<div class=\"edit-icon\"></div>\n",
      "<span class=\"step-number\">8</span>\n",
      "<div class=\"appliances-list\">\n",
      "<ul>\n",
      "<li class=\"media appliance-version no-border\">\n",
      "<div class=\"media-left\">\n",
      "<img alt=\"Appliance TM 31 image\" class=\"media-object\" data-holder-rendered=\"true\" data-src=\"holder.js/50x50\" src=\"//tmrcv3-common.s3.amazonaws.com/appliances/tm31_small.png\" style=\"\"/>\n",
      "</div>\n",
      "<div class=\"media-body\">\n",
      "<span class=\"smallText\">\n",
      "                Recipe is created for\n",
      "              </span>\n",
      "<h5 class=\"media-heading\">TM 31</h5>\n",
      "</div>\n",
      "</li>\n",
      "</ul>\n",
      "</div>\n",
      "</div>\n",
      "</li>\n"
     ]
    }
   ],
   "source": [
    "machine_contianer = addtion_info_list[2]\n",
    "print(machine_contianer)"
   ]
  },
  {
   "cell_type": "code",
   "execution_count": 142,
   "metadata": {},
   "outputs": [
    {
     "name": "stdout",
     "output_type": "stream",
     "text": [
      "None\n"
     ]
    }
   ],
   "source": [
    "machine_name = machine_contianer.h5.text\n",
    "machine_addtional_info = machine_contianer.find('div',class_=\"margin-top-10\")\n",
    "if(machine_addtional_info!=None):\n",
    "    machine_addtional_info = machine_addtional_info.text\n",
    "print(machine_addtional_info)"
   ]
  },
  {
   "cell_type": "code",
   "execution_count": 143,
   "metadata": {},
   "outputs": [
    {
     "data": {
      "text/plain": [
       "{}"
      ]
     },
     "execution_count": 143,
     "metadata": {},
     "output_type": "execute_result"
    }
   ],
   "source": [
    "addtional_categories_container = addtion_info_list[4]\n",
    "addtional_categories_list =addtional_categories_container.find_all('a',class_='catText preventDefault')\n",
    "addtional_categories_dic ={}\n",
    "for category in addtional_categories_list:\n",
    "    addtional_categories_dic[category.text] = i['href']\n",
    "addtional_categories_dic"
   ]
  },
  {
   "cell_type": "code",
   "execution_count": 144,
   "metadata": {},
   "outputs": [
    {
     "name": "stdout",
     "output_type": "stream",
     "text": [
      "<div class=\"tips\">\n",
      "<div class=\"step-container\">\n",
      "<div class=\"edit-icon\"></div>\n",
      "<span class=\"step-number\">11</span>\n",
      "<h2 class=\"h3\">Tip</h2>\n",
      "<p><p> </p> </p>\n",
      "</div>\n",
      "</div>\n"
     ]
    }
   ],
   "source": [
    "tips_container = recipe_html_soup.find('div',class_='tips')\n",
    "print(tips_container)\n"
   ]
  },
  {
   "cell_type": "code",
   "execution_count": 145,
   "metadata": {},
   "outputs": [
    {
     "name": "stdout",
     "output_type": "stream",
     "text": [
      "  \n"
     ]
    }
   ],
   "source": [
    "tips = tips_container.find('p').text\n",
    "print(tips)"
   ]
  },
  {
   "cell_type": "code",
   "execution_count": 155,
   "metadata": {},
   "outputs": [
    {
     "name": "stdout",
     "output_type": "stream",
     "text": [
      "\n",
      " 6 portion(s)\n",
      "\n"
     ]
    }
   ],
   "source": [
    "portion= ingredients_container.find('p',class_='padding-bottom-10').text\n",
    "print(portion)"
   ]
  },
  {
   "cell_type": "code",
   "execution_count": null,
   "metadata": {},
   "outputs": [],
   "source": []
  }
 ],
 "metadata": {
  "kernelspec": {
   "display_name": "Python 3",
   "language": "python",
   "name": "python3"
  },
  "language_info": {
   "codemirror_mode": {
    "name": "ipython",
    "version": 3
   },
   "file_extension": ".py",
   "mimetype": "text/x-python",
   "name": "python",
   "nbconvert_exporter": "python",
   "pygments_lexer": "ipython3",
   "version": "3.7.3"
  }
 },
 "nbformat": 4,
 "nbformat_minor": 2
}
