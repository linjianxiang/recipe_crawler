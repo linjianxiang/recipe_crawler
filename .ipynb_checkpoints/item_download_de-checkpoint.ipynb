{
 "cells": [
  {
   "cell_type": "code",
   "execution_count": 1,
   "metadata": {},
   "outputs": [],
   "source": [
    "from requests import get\n",
    "from bs4 import BeautifulSoup,NavigableString\n",
    "from categories_download import get_categories_de\n",
    "import pandas as pd\n",
    "import os\n",
    "import re\n",
    "import urllib.request, urllib.error, urllib.parse\n",
    "import sys\n",
    "import time"
   ]
  },
  {
   "cell_type": "code",
   "execution_count": 2,
   "metadata": {},
   "outputs": [],
   "source": [
    "class recipe_info:\n",
    "    def __init__(self):\n",
    "        self.recipe_name = None\n",
    "        self.dates = None\n",
    "        self.recipe_url = None\n",
    "        self.recipe_img_link = None\n",
    "        self.recipe_rating = None\n",
    "        self.recipe_difficulty = None\n",
    "        self.recipe_time = None\n",
    "        self.preparation_time = None\n",
    "        self.recipe_author = None\n",
    "        self.recipe_steps = None\n",
    "        self.recipe_ingredients = None\n",
    "        self.recipe_portion = None\n",
    "        self.recipe_accessories = None\n",
    "        self.number_vote = None\n",
    "        self.number_favorites = None\n",
    "        self.variation_link = None\n",
    "        self.variation_name = None\n",
    "        self.machine_name = None\n",
    "        self.machine_addtional_info = None\n",
    "        self.addtional_categories_dic = None\n",
    "        self.addtional_categories_name = None\n",
    "        self.tips = None\n",
    "        self.iftested = None\n",
    "        \n",
    "    def item_info_download(self,item):\n",
    "        #download author\n",
    "        author_container = item.find_all('div',class_='item-author')[0]\n",
    "        self.recipe_author = author_container.a.text\n",
    "#         print(item_author)\n",
    "        #download rating\n",
    "        item_rating_container = item.find('div',class_ = 'item-rating clearfix')\n",
    "        if (item_rating_container != None):\n",
    "            self.recipe_rating = item_rating_container.div['data-average']\n",
    "#             print(self.recipe_rating)\n",
    "            #downloadd number of vote\n",
    "            if (item_rating_container.span != None):\n",
    "                vote_string = item_rating_container.span.text.strip()\n",
    "                self.number_vote = re.findall('[0-9]+', vote_string)\n",
    "\n",
    "        favourite_container = item.find('div',class_ = 'col-xs-2 favourite-inf')\n",
    "        self.number_favorites = favourite_container.text.strip()\n",
    "#         print(self.favorites)\n",
    "        #download difficulty\n",
    "        item_difficulty_container = item.find('div',class_ = 'col-xs-3 difficulty-inf')\n",
    "        self.recipe_difficulty = item_difficulty_container.text.strip()\n",
    "#         print(item_difficulty)\n",
    "        #download cooking time\n",
    "        item_time_container = item.find('div',class_ = 'col-xs-3 cooking-time-inf')\n",
    "        self.recipe_time = item_time_container.text.strip()\n",
    "#         print(item_time)\n",
    "        #download name\n",
    "        self.recipe_name = item.a['title'].replace('/','')\n",
    "#         print(item_name)\n",
    "        #download image link\n",
    "        self.recipe_img_link = item.img['src']\n",
    "#         print(item_img_link)\n",
    "        #download item url\n",
    "        item_url_add = item.a['href']\n",
    "        self.recipe_url = home_url+item_url_add\n",
    "#         print(item_extend_url)\n",
    "        \n",
    "\n",
    "    def insert_icon_text(self,step):\n",
    "        try:\n",
    "            img_string = step.img\n",
    "            operation = '#'+img_string['title']+'#'\n",
    "            step_icon = str(step).replace(str(img_string),operation)\n",
    "            step_icon_soup = BeautifulSoup(step_icon, 'html.parser')\n",
    "            return step_icon_soup.text.strip().replace('\\xa0',' ')\n",
    "        except:\n",
    "            step_image_url = step.img['src']\n",
    "            return \" \".join(step.text.split()) + \"$\" + step_image_url+\"$\"\n",
    "\n",
    "    \n",
    "    def download_recipe_steps_ingredients(self, step_list,ingredient_list):\n",
    "        self.recipe_steps = []\n",
    "        if len(step_list) == 1:\n",
    "            try:\n",
    "#                 print(insert_icon_text(step_list[0]))\n",
    "                self.recipe_steps.append(insert_icon_text(step_list[0]))\n",
    "            except:\n",
    "                step_list_container = step_list[0].find_all('p')\n",
    "                if (len(step_list_container) > 1):\n",
    "                    for step in step_list_container:\n",
    "                        step_text = step.text.strip()\n",
    "                        if step_text != '':\n",
    "                            self.recipe_steps.append(step_text.replace('\\xa0',' '))\n",
    "                elif(sum(1 for e in step_list[0].childGenerator())>4):\n",
    "                    for step in step_list[0].childGenerator():\n",
    "                        if not (step and isinstance(step,NavigableString)):\n",
    "                            continue\n",
    "                        elif(str(step).strip() ==''):\n",
    "                            continue\n",
    "                        else:\n",
    "                            self.recipe_steps.append(str(step).strip())\n",
    "                else:\n",
    "                    self.recipe_steps.append(\" \".join(step_list[0].text.split()))\n",
    "        else:\n",
    "            for i in range(len(step_list)):\n",
    "                if (step_list[i].img != None):\n",
    "                    self.recipe_steps.append(self.insert_icon_text(step_list[i]))\n",
    "                else:                \n",
    "                    self.recipe_steps.append(\" \".join(step_list[i].text.split()))   \n",
    "                \n",
    "        #append ingredients to dictionary\n",
    "        self.recipe_ingredients = []\n",
    "        for i in range(len(ingredient_list)):\n",
    "             self.recipe_ingredients.append(\" \".join(ingredient_list[i].text.split()))\n",
    "        \n",
    "    def recipe_download_details(self):\n",
    "        recipe_response = get(self.recipe_url)\n",
    "        recipe_html_soup = BeautifulSoup(recipe_response.text, 'html.parser')\n",
    "        \n",
    "        #download variations \n",
    "        variations_container = recipe_html_soup.find('div',class_= 'col-sm-12 sidebar-box variant-box')\n",
    "        if (variations_container != None):\n",
    "            self.variation_link = home_url+variations_container.a['href']\n",
    "            self.variation_name = variations_container.a.text\n",
    "        \n",
    "        #find recipe steps list\n",
    "        step_container = recipe_html_soup.find('ol', class_ = 'steps-list')\n",
    "        step_list = step_container.find_all('li')\n",
    "        \n",
    "        #find dates\n",
    "        self.dates = recipe_html_soup.find(\"meta\", itemprop=\"datePublished\").text.strip()\n",
    "        \n",
    "        #find tips \n",
    "        tips_container = recipe_html_soup.find('div',class_='tips')\n",
    "#         print(tips_container.find('p'))\n",
    "        tips = tips_container.find('p')\n",
    "        if(tips!=None):\n",
    "            self.tips = tips.text\n",
    "        #find ingredients list and portion\n",
    "        ingredients_container = recipe_html_soup.find('div', class_ = 'ingredients')\n",
    "        ingredient_list = ingredients_container.find_all('li')\n",
    "        if (ingredients_container.find('p',class_='padding-bottom-10')):\n",
    "            self.recipe_portion = ingredients_container.find('p',class_='padding-bottom-10').text.strip()\n",
    "\n",
    "        #download if tested \n",
    "        iftested_container = recipe_html_soup.find('span','recipe-testing-status-text')\n",
    "#         self.iftested = re.findall('\\w+\\sgetestet', iftested_container.text)[0]\n",
    "        self.iftested = iftested_container.text\n",
    "        \n",
    "        #process recipe step and ingredient list\n",
    "        self.download_recipe_steps_ingredients(step_list,ingredient_list)\n",
    "        \n",
    "        #accessories list download\n",
    "        accessories_container = recipe_html_soup.find('div', class_ = 'accessories-list')\n",
    "        if accessories_container == None:\n",
    "            self.accessories = []\n",
    "        else:\n",
    "            tools_list = accessories_container.find_all(\"meta\")\n",
    "            accessories = []\n",
    "            for tool in tools_list:\n",
    "                accessories.append(tool.get(\"content\"))\n",
    "            self.recipe_accessories = [accessories]\n",
    "        \n",
    "        #download addtional info\n",
    "        self.download_addtional_info(recipe_html_soup)\n",
    "       \n",
    "    def download_addtional_info(self,recipe_html_soup):\n",
    "        addtional_info_container = recipe_html_soup.find('div',class_= 'additional-info')\n",
    "        addtion_info_list = addtional_info_container.find_all('li')\n",
    "        #preparation time dowload\n",
    "        time_container = addtion_info_list[0]\n",
    "        preparation_time_container = time_container.find_all('div',class_='smallText')\n",
    "        \n",
    "        if (preparation_time_container):\n",
    "            self.preparation_time = preparation_time_container[0].find(\"span\", id=\"preparation-time-final\").text.strip()\n",
    "            #cooking method\n",
    "            cooking_method = preparation_time_container[1].text.strip()\n",
    "        #machine and machine addtional info\n",
    "        machine_contianer = addtion_info_list[2]\n",
    "        if (machine_contianer.h5 != None):\n",
    "            self.machine_name = machine_contianer.h5.text\n",
    "        self.machine_addtional_info = machine_contianer.find('div',class_=\"margin-top-10\")\n",
    "        if(self.machine_addtional_info!=None):\n",
    "            self.machine_addtional_info = self.machine_addtional_info.text.strip()\n",
    "        #addtional categroies\n",
    "        if (len(addtion_info_list) > 4):\n",
    "            addtional_categories_container = addtion_info_list[4]\n",
    "            addtional_categories_list =addtional_categories_container.find_all('a',class_='catText preventDefault')\n",
    "            self.addtional_categories_dic ={}\n",
    "            self.addtional_categories_name = []\n",
    "            for category in addtional_categories_list:\n",
    "                self.addtional_categories_name.append(category.text)\n",
    "                self.addtional_categories_dic[category.text] = category['href']\n",
    "\n",
    "    def create_data_frame(self):\n",
    "        #create data frame\n",
    "        item_dic = {}\n",
    "        item_dic['link'] = self.recipe_url\n",
    "        item_dic['img link']= self.recipe_img_link\n",
    "        item_dic['rating'] = self.recipe_rating\n",
    "        item_dic['number vote'] = self.number_vote\n",
    "        item_dic['difficulty'] = self.recipe_difficulty\n",
    "        item_dic['cooking time'] = self.recipe_time\n",
    "        item_dic['preparation time'] = self.preparation_time\n",
    "        item_dic['author'] = self.recipe_author\n",
    "        item_dic['steps'] = [self.recipe_steps]\n",
    "        item_dic['tips'] = self.tips\n",
    "        item_dic['ingredients'] = [self.recipe_ingredients]\n",
    "        item_dic['accessories'] = self.recipe_accessories\n",
    "        item_dic['number favorite'] = self.number_favorites\n",
    "        item_dic['variation link'] = self.variation_link\n",
    "        item_dic['variation name'] = self.variation_name\n",
    "        item_dic['portion'] = self.recipe_portion\n",
    "        item_dic['recipe created for'] = self.machine_name\n",
    "        item_dic['machine addtional info'] = self.machine_addtional_info\n",
    "#         item_dic['addtional categories'] = self.addtional_categories_dic\n",
    "        item_dic['addtional categories'] = [self.addtional_categories_name]\n",
    "        item_dic['if tested'] = self.iftested\n",
    "        item_dic['dates'] = self.dates\n",
    "        return item_dic\n",
    "    \n",
    "    \n",
    "    def download_html(self,path):\n",
    "        #save html to file\n",
    "        response = urllib.request.urlopen(self.recipe_url)\n",
    "        webContent = response.read()\n",
    "\n",
    "        f = open(path+'/'+self.recipe_name+'.html', 'wb')\n",
    "        f.write(webContent)\n",
    "        f.close"
   ]
  },
  {
   "cell_type": "code",
   "execution_count": 3,
   "metadata": {},
   "outputs": [],
   "source": [
    "home_url = \"https://www.rezeptwelt.de\"\n",
    "categories_info_file = get_categories_de()\n",
    "categories_data = pd.read_csv(categories_info_file, index_col=0)"
   ]
  },
  {
   "cell_type": "code",
   "execution_count": null,
   "metadata": {
    "scrolled": true
   },
   "outputs": [
    {
     "name": "stdout",
     "output_type": "stream",
     "text": [
      "/*******************************/\n",
      "Start Download Category Grundrezepte\n",
      "/*******************************/\n",
      "https://rezeptwelt.de/kategorien/grundrezepte?page=1\n",
      "downloading Grießbrei\n"
     ]
    },
    {
     "name": "stderr",
     "output_type": "stream",
     "text": [
      "/home/linjian/anaconda3/lib/python3.7/site-packages/pandas/core/frame.py:7123: FutureWarning: Sorting because non-concatenation axis is not aligned. A future version\n",
      "of pandas will change to not sort by default.\n",
      "\n",
      "To accept the future behavior, pass 'sort=False'.\n",
      "\n",
      "To retain the current behavior and silence the warning, pass 'sort=True'.\n",
      "\n",
      "  sort=sort,\n"
     ]
    },
    {
     "name": "stdout",
     "output_type": "stream",
     "text": [
      "downloading Vanillezucker\n",
      "downloading Eier kochen\n",
      "downloading Mürbegrundteig\n",
      "downloading Pfannkuchen-Grundteig\n",
      "downloading Sahne schlagen\n",
      "downloading Spaghetti\n",
      "downloading Brandteigklößchen\n",
      "downloading BACKTRENNMITTEL ( BTM )\n",
      "downloading Helens Bircher-Müsli\n",
      "downloading Weltbester Pizzateig\n",
      "downloading Gewürzpaste für Gemüsebrühe\n",
      "/*******************************/\n",
      "Category Grundrezepte saved\n",
      "/*******************************/\n",
      "/*******************************/\n",
      "Start Download Category Vorspeisen/Salate\n",
      "/*******************************/\n",
      "https://rezeptwelt.de/kategorien/vorspeisensalate?page=1\n",
      "downloading Brokkolisalat mit Pinienkernen\n",
      "downloading Hähnchen-Nuggets\n",
      "downloading Käsesalat\n",
      "downloading Zucchini süß-sauer\n",
      "downloading Vitello Tonnato\n",
      "downloading Blumenkohl-\"Couscous\"\n",
      "downloading Spargel-Rucola-Salat mit Erdbeeren an Orangensauce\n",
      "downloading Lachspastete mit Pfefferquarkdip\n",
      "downloading Kürbis süß-sauer eingelegt\n",
      "downloading Gurkencremesuppe mit Garnelenspießchen (Cucumber cream soup with prawn skewers)\n",
      "downloading Feldsalat-Cremesuppe (Lamb's lettuce cream soup)\n",
      "downloading Porree in Senfsauce\n",
      "/*******************************/\n",
      "Category Vorspeisen Salate saved\n",
      "/*******************************/\n",
      "/*******************************/\n",
      "Start Download Category Suppen\n",
      "/*******************************/\n",
      "https://rezeptwelt.de/kategorien/suppen?page=1\n",
      "downloading Kartoffelsuppe\n",
      "downloading Gulaschsuppe\n",
      "downloading Champignoncremesuppe\n",
      "downloading Tomatencremesuppe\n",
      "downloading Linsensuppe\n",
      "downloading Möhreneintopf\n",
      "downloading Grießklößchen\n",
      "downloading Italienische Gemüsesuppe\n",
      "downloading Gemüsecremesuppe\n",
      "downloading Tomatencremesuppe\n",
      "downloading Gemüsesuppe alla Nonna\n",
      "downloading Markklößchen\n",
      "/*******************************/\n",
      "Category Suppen saved\n",
      "/*******************************/\n",
      "/*******************************/\n",
      "Start Download Category Hauptgerichte mit Fleisch\n",
      "/*******************************/\n",
      "https://rezeptwelt.de/kategorien/hauptgerichte-mit-fleisch?page=1\n",
      "downloading Königsberger Klopse\n",
      "downloading Ungarisches Paprikagulasch\n",
      "downloading Hackbällchen mit Currysauce\n",
      "downloading Putenrouladen mediterran\n",
      "downloading Lasagne al forno\n",
      "downloading Kassler mit Wirsing\n",
      "downloading Türkische Pizza - Lahmacun\n",
      "downloading Cannelloni mit Hackfleisch und Gemüsesauce\n",
      "downloading Hackbällchen in Tomaten-Oliven-Sauce\n",
      "downloading Hähnchenbrust in Schinkenhülle auf Weißweinpilzen\n",
      "downloading Lasagne\n",
      "downloading Paella, klassisch\n",
      "/*******************************/\n",
      "Category Hauptgerichte mit Fleisch saved\n",
      "/*******************************/\n",
      "/*******************************/\n",
      "Start Download Category Hauptgerichte mit Fisch & Meeresfrüchten\n",
      "/*******************************/\n",
      "https://rezeptwelt.de/kategorien/hauptgerichte-mit-fisch-meeresfruchten?page=1\n",
      "downloading Muscheln mit Tomatensauce\n",
      "downloading Lachs gefüllt mit Lachsmousse an Mangosauce \n",
      "downloading Spaghetti mit Muscheln  Spaghettis with clams (Spaghettis aux palourdes)\n",
      "downloading Orangen-Lachs-Spieß zu Jasminreis\n",
      "downloading Norddeutsche Pfannkuchen\n",
      "downloading Gefüllter Lachs mit grünen Bohnen\n",
      "downloading Lachsfilet mit Sauerampfersauce\n",
      "downloading Fischrouladen mit Gemüse-Bandnudeln\n",
      "downloading Seezungenröllchen\n",
      "downloading Kabeljau in Senfsauce\n",
      "downloading Forellen mit Sauce Hollandaise\n",
      "downloading Fenchel-Lachs mit Zitronensauce\n",
      "/*******************************/\n",
      "Category Hauptgerichte mit Fisch & Meeresfrüchten saved\n",
      "/*******************************/\n",
      "/*******************************/\n",
      "Start Download Category Hauptgerichte mit Gemüse\n",
      "/*******************************/\n",
      "https://rezeptwelt.de/kategorien/hauptgerichte-mit-gemuse?page=1\n",
      "downloading Spargel mit Kartoffeln\n",
      "downloading Curry-Möhren-Risotto\n",
      "downloading Linsen-Moussaka\n",
      "downloading Mailänder Makkaroni\n",
      "downloading Zucchinischiffchen mit Bulgur\n",
      "downloading Steinpilzragout mit Semmelnocken\n",
      "downloading Blumenkohl-Käse-Burger\n",
      "downloading Spaghetti auf Matrosenart\n"
     ]
    }
   ],
   "source": [
    "dataset_columns = ['link','img link','rating','number vote','number favorite',\n",
    "                   'difficulty','cooking time','portion','preparation time',\n",
    "                   'author','accessories','steps','dates','tips','ingredients','if tested','recipe created for',\n",
    "                   'machine addtional info','addtional categories','variation link','variation name']\n",
    "\n",
    "\n",
    "categories_indices = categories_data.index\n",
    "counter = 0\n",
    "for category_index in categories_indices:\n",
    "    print('/*******************************/')\n",
    "    print('Start Download Category '+ str(category_index))\n",
    "    print('/*******************************/')\n",
    "\n",
    "    #get item url\n",
    "    category_url = categories_data['link'][category_index]\n",
    "    \n",
    "    #creat folders and init file name\n",
    "    category_index = category_index.replace('/',' ')\n",
    "    os.mkdir(str(category_index))\n",
    "    category_recipe_outfile = str(category_index) + '/'+str(category_index)+'de'+'.csv' \n",
    "    items_data = pd.DataFrame(columns=dataset_columns)\n",
    "\n",
    "    category_response = get(category_url)\n",
    "    category_html_soup = BeautifulSoup(category_response.text, 'html.parser')\n",
    "    \n",
    "    pager_container = category_html_soup.find('div',class_= 'pager')\n",
    "    lastpage_extend = pager_container.a['href']\n",
    "    pager_number = re.findall('[0-9]+', lastpage_extend)[0]\n",
    "    pager_number = int(pager_number)\n",
    "    \n",
    "  \n",
    "#     for current_page in range(1,pager_number+1): \n",
    "    for current_page in range(1,2):\n",
    "\n",
    "        page_url= category_url + '?page=' + str(current_page)\n",
    "        print(page_url)\n",
    "\n",
    "        #download url contents and apply beautifulsoup\n",
    "        item_response = get(page_url)\n",
    "        item_html_soup = BeautifulSoup(item_response.text, 'html.parser')\n",
    "\n",
    "\n",
    "        #find items on the first page\n",
    "        items_container = item_html_soup.find_all('div', class_ = 'thumbnail result-recipe result-grid-display')\n",
    "    #     print(len(items_container))\n",
    "\n",
    "        for item in items_container:\n",
    "            try:\n",
    "                #init recipe class\n",
    "                recipe_class = recipe_info()\n",
    "                recipe_class.item_info_download(item)\n",
    "                print(\"downloading \"+ recipe_class.recipe_name)\n",
    "\n",
    "                #download html\n",
    "                html_path = str(category_index)\n",
    "                recipe_class.download_html(html_path)\n",
    "\n",
    "        #         #process recipe url\n",
    "                recipe_class.recipe_download_details()\n",
    "\n",
    "                #create recipe data frame\n",
    "                item_dic = recipe_class.create_data_frame()\n",
    "                item_info = pd.DataFrame(item_dic,index=[recipe_class.recipe_name])\n",
    "                items_data = items_data.append(item_info)\n",
    "            except:\n",
    "                time.sleep(3)\n",
    "                print(recipe_class.recipe_url)\n",
    "                print(\"error ocurred\") \n",
    "        break;\n",
    "    print('/*******************************/')\n",
    "    print('Category '+ str(category_index)+' saved')\n",
    "    print('/*******************************/')\n",
    "    items_data.to_csv(category_recipe_outfile, index = True,sep=\",\")\n",
    "        #finish current pager crawler\n",
    "    #finish all pages\n",
    "#         break\n",
    "\n"
   ]
  },
  {
   "cell_type": "code",
   "execution_count": null,
   "metadata": {},
   "outputs": [],
   "source": [
    "dataset_columns = ['link','img link','rating','number vote','number favorite',\n",
    "                   'difficulty','cooking time','portion','preparation time',\n",
    "                   'author','accessories','steps','dates','tips','ingredients','if tested','recipe created for',\n",
    "                   'machine addtional info','addtional categories','variation link','variation name']\n",
    "\n",
    "\n",
    "categories_indices = categories_data.index\n",
    "counter = 0\n",
    "for category_index in categories_indices:\n",
    "    print('/*******************************/')\n",
    "    print('Start Download Category '+ str(category_index))\n",
    "    print('/*******************************/')\n",
    "\n",
    "    #get item url\n",
    "    category_url = categories_data['link'][category_index]\n",
    "    \n",
    "    #creat folders and init file name\n",
    "    category_index = category_index.replace('/',' ')\n",
    "    os.mkdir(str(category_index))\n",
    "    category_recipe_outfile = str(category_index) + '/'+str(category_index)+'de'+'.csv' \n",
    "    items_data = pd.DataFrame(columns=dataset_columns)\n",
    "\n",
    "    category_response = get(category_url)\n",
    "    category_html_soup = BeautifulSoup(category_response.text, 'html.parser')\n",
    "    \n",
    "    pager_container = category_html_soup.find('div',class_= 'pager')\n",
    "    lastpage_extend = pager_container.a['href']\n",
    "    pager_number = re.findall('[0-9]+', lastpage_extend)[0]\n",
    "    pager_number = int(pager_number)\n",
    "    \n",
    "  \n",
    "#     for current_page in range(1,pager_number+1): \n",
    "    for current_page in range(1,2):\n",
    "\n",
    "        page_url= category_url + '?page=' + str(current_page)\n",
    "        print(page_url)\n",
    "\n",
    "        #download url contents and apply beautifulsoup\n",
    "        item_response = get(page_url)\n",
    "        item_html_soup = BeautifulSoup(item_response.text, 'html.parser')\n",
    "\n",
    "\n",
    "        #find items on the first page\n",
    "        items_container = item_html_soup.find_all('div', class_ = 'thumbnail result-recipe result-grid-display')\n",
    "    #     print(len(items_container))\n",
    "\n",
    "        for item in items_container:\n",
    "            try:\n",
    "                #init recipe class\n",
    "                recipe_class = recipe_info()\n",
    "                recipe_class.item_info_download(item)\n",
    "                print(\"downloading \"+ recipe_class.recipe_name)\n",
    "\n",
    "                #download html\n",
    "                html_path = str(category_index)\n",
    "                recipe_class.download_html(html_path)\n",
    "\n",
    "        #         #process recipe url\n",
    "                recipe_class.recipe_download_details()\n",
    "\n",
    "                #create recipe data frame\n",
    "                item_dic = recipe_class.create_data_frame()\n",
    "                item_info = pd.DataFrame(item_dic,index=[recipe_class.recipe_name])\n",
    "                items_data = pd.DataFrame(columns=dataset_columns)\n",
    "                items_data = items_data.append(item_info)\n",
    "\n",
    "                items_data.to_csv(category_recipe_outfile, index = True,sep=\",\")\n",
    "                \n",
    "            except:\n",
    "                time.sleep(3)\n",
    "                print(recipe_class.recipe_url)\n",
    "                print(\"error ocurred\") \n",
    "\n",
    "        #finish current pager crawler\n",
    "    #finish all pages\n",
    "#         break\n",
    "\n"
   ]
  },
  {
   "cell_type": "code",
   "execution_count": 5,
   "metadata": {},
   "outputs": [
    {
     "name": "stdout",
     "output_type": "stream",
     "text": [
      "Empty DataFrame\n",
      "Columns: [link, img link, rating, number vote, number favorite, difficulty, cooking time, portion, preparation time, author, accessories, steps, dates, tips, ingredients, if tested, recipe created for, machine addtional info, addtional categories, variation link, variation name]\n",
      "Index: []\n",
      "\n",
      "[0 rows x 21 columns]\n"
     ]
    }
   ],
   "source": [
    "dataset_columns = ['link','img link','rating','number vote','number favorite',\n",
    "                   'difficulty','cooking time','portion','preparation time',\n",
    "                   'author','accessories','steps','dates','tips','ingredients','if tested','recipe created for',\n",
    "                   'machine addtional info','addtional categories','variation link','variation name']\n",
    "items_data = pd.DataFrame(columns=dataset_columns)\n",
    "print(items_data)"
   ]
  },
  {
   "cell_type": "code",
   "execution_count": null,
   "metadata": {},
   "outputs": [],
   "source": [
    "dataset_columns = ['link','img link','rating','number vote','number favorite',\n",
    "                   'difficulty','cooking time','portion','preparation time',\n",
    "                   'author','accessories','steps','tips','ingredients','if tested','recipe created for',\n",
    "                   'machine addtional info','addtional categories','variation link','variation name']\n",
    "items_data = pd.DataFrame(columns=dataset_columns)\n",
    "\n",
    "page_url= \"https://www.rezeptwelt.de/kategorien/grundrezepte?page=1\"\n",
    "print(page_url)\n",
    "\n",
    "#download url contents and apply beautifulsoup\n",
    "item_response = get(page_url)\n",
    "item_html_soup = BeautifulSoup(item_response.text, 'html.parser')\n",
    "\n",
    "\n",
    "#find items on the first page\n",
    "items_container = item_html_soup.find_all('div', class_ = 'thumbnail result-recipe result-grid-display')\n",
    "#     print(len(items_container))\n",
    "\n",
    "for item in items_container:\n",
    "    #init recipe class\n",
    "    recipe_class = recipe_info()\n",
    "    recipe_class.item_info_download(item)\n",
    "    print(\"downloading \"+ recipe_class.recipe_name)\n",
    "\n",
    "#         #process recipe url\n",
    "    recipe_class.recipe_download_details()\n",
    "\n",
    "    #create recipe data frame\n",
    "    item_dic = recipe_class.create_data_frame()\n",
    "    item_info = pd.DataFrame(item_dic,index=[recipe_class.recipe_name])\n",
    "    items_data = items_data.append(item_info)"
   ]
  },
  {
   "cell_type": "code",
   "execution_count": 30,
   "metadata": {},
   "outputs": [],
   "source": [
    "recipe_response = get(recipe_class.recipe_url)\n",
    "recipe_html_soup = BeautifulSoup(recipe_response.text, 'html.parser')\n",
    "# print(recipe_html_soup)\n",
    "\n",
    "iftested_container = recipe_html_soup.find('span','recipe-testing-status-text')\n",
    "iftested = re.findall('\\w+\\sgetestet', iftested_container.text)[0]\n"
   ]
  },
  {
   "cell_type": "code",
   "execution_count": 8,
   "metadata": {},
   "outputs": [
    {
     "name": "stdout",
     "output_type": "stream",
     "text": [
      "                                                                       link  \\\n",
      "Baby food                 https://www.recipecommunity.com.au/categories/...   \n",
      "Baking - savoury          https://www.recipecommunity.com.au/categories/...   \n",
      "Baking - sweet            https://www.recipecommunity.com.au/categories/...   \n",
      "Basics                    https://www.recipecommunity.com.au/categories/...   \n",
      "Breads & rolls            https://www.recipecommunity.com.au/categories/...   \n",
      "Desserts & sweets         https://www.recipecommunity.com.au/categories/...   \n",
      "Drinks                    https://www.recipecommunity.com.au/categories/...   \n",
      "Main dishes - fish        https://www.recipecommunity.com.au/categories/...   \n",
      "Main dishes - meat        https://www.recipecommunity.com.au/categories/...   \n",
      "Main dishes - others      https://www.recipecommunity.com.au/categories/...   \n",
      "Main dishes - vegetarian  https://www.recipecommunity.com.au/categories/...   \n",
      "Pasta & rice dishes       https://www.recipecommunity.com.au/categories/...   \n",
      "Sauces, dips & spreads    https://www.recipecommunity.com.au/categories/...   \n",
      "Side dishes               https://www.recipecommunity.com.au/categories/...   \n",
      "Soups                     https://www.recipecommunity.com.au/categories/...   \n",
      "Starters                  https://www.recipecommunity.com.au/categories/...   \n",
      "\n",
      "                                                                   img_link  \n",
      "Baby food                 //d2mkh7ukbp9xav.cloudfront.net/categoryimage/...  \n",
      "Baking - savoury          //d2mkh7ukbp9xav.cloudfront.net/categoryimage/...  \n",
      "Baking - sweet            //d2mkh7ukbp9xav.cloudfront.net/categoryimage/...  \n",
      "Basics                    //d2mkh7ukbp9xav.cloudfront.net/categoryimage/...  \n",
      "Breads & rolls            //d2mkh7ukbp9xav.cloudfront.net/categoryimage/...  \n",
      "Desserts & sweets         //d2mkh7ukbp9xav.cloudfront.net/categoryimage/...  \n",
      "Drinks                    //d2mkh7ukbp9xav.cloudfront.net/categoryimage/...  \n",
      "Main dishes - fish        //d2mkh7ukbp9xav.cloudfront.net/categoryimage/...  \n",
      "Main dishes - meat        //d2mkh7ukbp9xav.cloudfront.net/categoryimage/...  \n",
      "Main dishes - others      //d2mkh7ukbp9xav.cloudfront.net/categoryimage/...  \n",
      "Main dishes - vegetarian  //d2mkh7ukbp9xav.cloudfront.net/categoryimage/...  \n",
      "Pasta & rice dishes       //d2mkh7ukbp9xav.cloudfront.net/categoryimage/...  \n",
      "Sauces, dips & spreads    //d2mkh7ukbp9xav.cloudfront.net/categoryimage/...  \n",
      "Side dishes               //d2mkh7ukbp9xav.cloudfront.net/categoryimage/...  \n",
      "Soups                     //d2mkh7ukbp9xav.cloudfront.net/categoryimage/...  \n",
      "Starters                  //d2mkh7ukbp9xav.cloudfront.net/categoryimage/...  \n"
     ]
    }
   ],
   "source": [
    "print(categories_data)"
   ]
  },
  {
   "cell_type": "code",
   "execution_count": 7,
   "metadata": {},
   "outputs": [
    {
     "name": "stdout",
     "output_type": "stream",
     "text": [
      "https://www.recipecommunity.com.au/baby-food-recipes/baby-coconut-chicken-meal/4wyfnaab-f9c28-481590-cfcd2-xs7vp6mu\n",
      "['1. Place chicken, vegetables and coconut milk into TM bowl.2. Cook for 10MIN - 100DEG -#Counter-clockwise operation#3. Pulverise for about 10SECS - SP7, checking there are no lumps. (or try for just 5SECS for a chunkier meal).The fats in coconut milk have been found to be close those in breast milk and thus is an ideal way to keep meat moist for your baby as well as being nutritious. This meal can be frozen (after using fresh chicken) and made thinner by adding more coconut milk, milk, breast milk if required.']\n"
     ]
    }
   ],
   "source": [
    "def insert_icon_text(step):\n",
    "    try:\n",
    "        img_string = step.img\n",
    "        operation = '#'+img_string['title']+'#'\n",
    "        step_icon = str(step).replace(str(img_string),operation)\n",
    "        step_icon_soup = BeautifulSoup(step_icon, 'html.parser')\n",
    "        return step_icon_soup.text.strip().replace('\\xa0','')\n",
    "\n",
    "    except:\n",
    "        step_image_url = step.img['src']\n",
    "        return \" \".join(step.text.split()) + \".$\" + step_image_url+\"$\"\n",
    "page_url= \"https://www.recipecommunity.com.au/baby-food-recipes/baby-coconut-chicken-meal/4wyfnaab-f9c28-481590-cfcd2-xs7vp6mu\"\n",
    "# page_url= \"https://www.recipecommunity.com.au/baby-food-recipes/brown-rice-and-quinoa-baby-rusks/ff5c7zsn-b0b2e-764829-cfcd2-dqad3va8\"\n",
    "print(page_url)\n",
    "\n",
    "#download url contents and apply beautifulsoup\n",
    "item_response = get(page_url)\n",
    "recipe_html_soup = BeautifulSoup(item_response.text, 'html.parser')\n",
    "#find recipe steps list\n",
    "step_container = recipe_html_soup.find('ol', class_ = 'steps-list')\n",
    "step_list = step_container.find_all('li')\n",
    "    \n",
    "recipe_steps = []\n",
    "if len(step_list) == 1:\n",
    "    try:\n",
    "        recipe_steps.append(insert_icon_text(step_list[0]))\n",
    "    except:\n",
    "        step_list_container = step_list[0].find_all('p')\n",
    "        if (len(step_list_container) > 1):\n",
    "            for step in step_list_container:\n",
    "                step_text = step.text.strip()\n",
    "                if step_text != '':\n",
    "                    recipe_steps.append(step_text)\n",
    "        elif(sum(1 for e in step_list[0].childGenerator())>4):\n",
    "            for step in step_list[0].childGenerator():\n",
    "                if not (step and isinstance(step,NavigableString)):\n",
    "                    continue\n",
    "                elif(str(step).strip() ==''):\n",
    "                    continue\n",
    "                else:\n",
    "                    recipe_steps.append(str(step).strip())\n",
    "        else:\n",
    "            for i in range(len(step_list)):\n",
    "                recipe_steps.append(\" \".join(step_list[i].text.split()))\n",
    "\n",
    "else:\n",
    "    for i in range(len(step_list)):\n",
    "        if (step_list[i].img != None):\n",
    "            recipe_steps.append(insert_icon_text(step_list[i]))\n",
    "        else:\n",
    "            recipe_steps.append(\" \".join(step_list[i].text.split()))\n",
    "print(recipe_steps)"
   ]
  },
  {
   "cell_type": "code",
   "execution_count": 9,
   "metadata": {},
   "outputs": [
    {
     "data": {
      "text/plain": [
       "'published: 2012/08/09\\n\\nchanged: 2013/04/26'"
      ]
     },
     "execution_count": 9,
     "metadata": {},
     "output_type": "execute_result"
    }
   ],
   "source": [
    "recipe_html_soup.find(\"meta\", itemprop=\"datePublished\").text.strip()"
   ]
  },
  {
   "cell_type": "code",
   "execution_count": 7,
   "metadata": {},
   "outputs": [
    {
     "data": {
      "text/plain": [
       "'1. Place chicken, vegetables and coconut milk into TM bowl.\\xa02. Cook for 10MIN - 100DEG -\\xa0#Counter-clockwise operation#3. Pulverise for about 10SECS - SP7, checking there are no lumps. (or try for just 5SECS for a chunkier meal).\\xa0The fats in coconut milk have been found to be close those in breast milk and thus is an ideal way to keep meat moist for your baby as well as being nutritious. \\xa0This meal can be frozen (after using fresh chicken) and made thinner by adding more coconut milk, milk, breast milk if required.'"
      ]
     },
     "execution_count": 7,
     "metadata": {},
     "output_type": "execute_result"
    }
   ],
   "source": [
    "step = step_list[0]\n",
    "img_string = step.img\n",
    "operation = '#'+img_string['title']+'#'\n",
    "step_icon = str(step).replace(str(img_string),operation)\n",
    "step_icon_soup = BeautifulSoup(step_icon, 'html.parser')\n",
    "step_icon_soup.text.strip()"
   ]
  },
  {
   "cell_type": "code",
   "execution_count": null,
   "metadata": {},
   "outputs": [],
   "source": []
  },
  {
   "cell_type": "code",
   "execution_count": 18,
   "metadata": {},
   "outputs": [
    {
     "name": "stdout",
     "output_type": "stream",
     "text": [
      "[]\n"
     ]
    }
   ],
   "source": [
    "addtional_info_container = recipe_html_soup.find('div',class_= 'additional-info')\n",
    "addtion_info_list = addtional_info_container.find_all('li')\n",
    "#preparation time dowload\n",
    "time_container = addtion_info_list[0]\n",
    "preparation_time_container = time_container.find_all('div',class_='smallText')\n",
    "print(preparation_time_container)\n",
    "if (preparation_time_container):\n",
    "    print('not none')\n",
    "    self.preparation_time = preparation_time_container[0].find(\"span\", id=\"preparation-time-final\").text.strip()\n",
    "    #cooking method\n",
    "    cooking_method = preparation_time_container[1].text.strip()"
   ]
  },
  {
   "cell_type": "code",
   "execution_count": 16,
   "metadata": {},
   "outputs": [
    {
     "data": {
      "text/plain": [
       "False"
      ]
     },
     "execution_count": 16,
     "metadata": {},
     "output_type": "execute_result"
    }
   ],
   "source": [
    "preparation_time_container == None"
   ]
  },
  {
   "cell_type": "code",
   "execution_count": 10,
   "metadata": {},
   "outputs": [],
   "source": [
    "recipe_response = get('https://www.recipecommunity.com.au/baby-food-recipes/apple-kiwi-and-clove-puree-for-reusable-pouches/kl3uxs3v-0745c-386041-cfcd2-c0f9cw9z')\n",
    "# recipe_response = get('https://www.recipecommunity.com.au/baby-food-recipes/baby-biscuits-sugar-free/vdttw1rs-09448-352970-cfcd2-icxafnee')\n",
    "recipe_html_soup = BeautifulSoup(recipe_response.text, 'html.parser')\n",
    "\n",
    "#download variations \n",
    "variations_container = recipe_html_soup.find('div',class_= 'col-sm-12 sidebar-box variant-box')\n",
    "if (variations_container != None):\n",
    "    variation_link = variations_container.a['href']\n",
    "    variation_name = variations_container.a.text\n",
    "\n",
    "#find recipe steps list\n",
    "step_container = recipe_html_soup.find('ol', class_ = 'steps-list')\n",
    "step_list = step_container.find_all('li')\n",
    "\n",
    "#find ingredients list\n",
    "ingredients_container = recipe_html_soup.find('div', class_ = 'ingredients')\n",
    "ingredient_list = ingredients_container.find_all('li')\n",
    "\n",
    "#process recipe step and ingredient list\n",
    "# download_recipe_steps_ingredients(step_list,ingredient_list)\n",
    "\n",
    "#accessories list download\n",
    "accessories_container = recipe_html_soup.find('div', class_ = 'accessories-list')\n",
    "if accessories_container == None:\n",
    "    accessories = []\n",
    "else:\n",
    "    tools_list = accessories_container.find_all(\"meta\")\n",
    "    accessories = []\n",
    "    for tool in tools_list:\n",
    "        accessories.append(tool.get(\"content\"))\n",
    "    recipe_accessories = [accessories]\n",
    "    \n",
    "addtional_info_container = recipe_html_soup.find('div',class_= 'additional-info')\n",
    "addtion_info_list = addtional_info_container.find_all('li')"
   ]
  },
  {
   "cell_type": "code",
   "execution_count": 11,
   "metadata": {},
   "outputs": [
    {
     "ename": "NameError",
     "evalue": "name 'addtion_info_list' is not defined",
     "output_type": "error",
     "traceback": [
      "\u001b[0;31m---------------------------------------------------------------------------\u001b[0m",
      "\u001b[0;31mNameError\u001b[0m                                 Traceback (most recent call last)",
      "\u001b[0;32m<ipython-input-11-dc2353264723>\u001b[0m in \u001b[0;36m<module>\u001b[0;34m\u001b[0m\n\u001b[0;32m----> 1\u001b[0;31m \u001b[0mtime_container\u001b[0m \u001b[0;34m=\u001b[0m \u001b[0maddtion_info_list\u001b[0m\u001b[0;34m[\u001b[0m\u001b[0;36m0\u001b[0m\u001b[0;34m]\u001b[0m\u001b[0;34m\u001b[0m\u001b[0;34m\u001b[0m\u001b[0m\n\u001b[0m\u001b[1;32m      2\u001b[0m \u001b[0mtime\u001b[0m \u001b[0;34m=\u001b[0m \u001b[0mtime_container\u001b[0m\u001b[0;34m.\u001b[0m\u001b[0mh5\u001b[0m\u001b[0;34m.\u001b[0m\u001b[0mtext\u001b[0m\u001b[0;34m\u001b[0m\u001b[0;34m\u001b[0m\u001b[0m\n\u001b[1;32m      3\u001b[0m \u001b[0mpreparation_time_container\u001b[0m \u001b[0;34m=\u001b[0m \u001b[0mtime_container\u001b[0m\u001b[0;34m.\u001b[0m\u001b[0mfind_all\u001b[0m\u001b[0;34m(\u001b[0m\u001b[0;34m'div'\u001b[0m\u001b[0;34m,\u001b[0m\u001b[0mclass_\u001b[0m\u001b[0;34m=\u001b[0m\u001b[0;34m'smallText'\u001b[0m\u001b[0;34m)\u001b[0m\u001b[0;34m\u001b[0m\u001b[0;34m\u001b[0m\u001b[0m\n\u001b[1;32m      4\u001b[0m \u001b[0mpreparation_time\u001b[0m \u001b[0;34m=\u001b[0m \u001b[0mpreparation_time_container\u001b[0m\u001b[0;34m[\u001b[0m\u001b[0;36m0\u001b[0m\u001b[0;34m]\u001b[0m\u001b[0;34m.\u001b[0m\u001b[0mfind\u001b[0m\u001b[0;34m(\u001b[0m\u001b[0;34m\"span\"\u001b[0m\u001b[0;34m,\u001b[0m \u001b[0mid\u001b[0m\u001b[0;34m=\u001b[0m\u001b[0;34m\"preparation-time-final\"\u001b[0m\u001b[0;34m)\u001b[0m\u001b[0;34m.\u001b[0m\u001b[0mtext\u001b[0m\u001b[0;34m.\u001b[0m\u001b[0mstrip\u001b[0m\u001b[0;34m(\u001b[0m\u001b[0;34m)\u001b[0m\u001b[0;34m\u001b[0m\u001b[0;34m\u001b[0m\u001b[0m\n",
      "\u001b[0;31mNameError\u001b[0m: name 'addtion_info_list' is not defined"
     ]
    }
   ],
   "source": [
    "time_container = addtion_info_list[0]\n",
    "time = time_container.h5.text\n",
    "preparation_time_container = time_container.find_all('div',class_='smallText')\n",
    "preparation_time = preparation_time_container[0].find(\"span\", id=\"preparation-time-final\").text.strip()"
   ]
  },
  {
   "cell_type": "code",
   "execution_count": 19,
   "metadata": {},
   "outputs": [
    {
     "name": "stdout",
     "output_type": "stream",
     "text": [
      "not tested\n"
     ]
    }
   ],
   "source": [
    "iftested_container = recipe_html_soup.find('span','recipe-testing-status-text')\n",
    "iftested = re.findall('\\w+\\stested', iftested_container.text)[0]\n",
    "print(iftested)"
   ]
  },
  {
   "cell_type": "code",
   "execution_count": 137,
   "metadata": {},
   "outputs": [
    {
     "name": "stdout",
     "output_type": "stream",
     "text": [
      "Baking/Cooking\n"
     ]
    }
   ],
   "source": [
    "cooking_method_container = preparation_time_container[1].text.strip()\n",
    "print(cooking_method_container)"
   ]
  },
  {
   "cell_type": "code",
   "execution_count": 140,
   "metadata": {},
   "outputs": [
    {
     "name": "stdout",
     "output_type": "stream",
     "text": [
      "<li>\n",
      "<div class=\"step-container\">\n",
      "<div class=\"edit-icon\"></div>\n",
      "<span class=\"step-number\">8</span>\n",
      "<div class=\"appliances-list\">\n",
      "<ul>\n",
      "<li class=\"media appliance-version no-border\">\n",
      "<div class=\"media-left\">\n",
      "<img alt=\"Appliance TM 31 image\" class=\"media-object\" data-holder-rendered=\"true\" data-src=\"holder.js/50x50\" src=\"//tmrcv3-common.s3.amazonaws.com/appliances/tm31_small.png\" style=\"\"/>\n",
      "</div>\n",
      "<div class=\"media-body\">\n",
      "<span class=\"smallText\">\n",
      "                Recipe is created for\n",
      "              </span>\n",
      "<h5 class=\"media-heading\">TM 31</h5>\n",
      "</div>\n",
      "</li>\n",
      "</ul>\n",
      "</div>\n",
      "</div>\n",
      "</li>\n"
     ]
    }
   ],
   "source": [
    "machine_contianer = addtion_info_list[2]\n",
    "print(machine_contianer)"
   ]
  },
  {
   "cell_type": "code",
   "execution_count": 142,
   "metadata": {},
   "outputs": [
    {
     "name": "stdout",
     "output_type": "stream",
     "text": [
      "None\n"
     ]
    }
   ],
   "source": [
    "machine_name = machine_contianer.h5.text\n",
    "machine_addtional_info = machine_contianer.find('div',class_=\"margin-top-10\")\n",
    "if(machine_addtional_info!=None):\n",
    "    machine_addtional_info = machine_addtional_info.text\n",
    "print(machine_addtional_info)"
   ]
  },
  {
   "cell_type": "code",
   "execution_count": 159,
   "metadata": {},
   "outputs": [
    {
     "data": {
      "text/plain": [
       "{}"
      ]
     },
     "execution_count": 159,
     "metadata": {},
     "output_type": "execute_result"
    }
   ],
   "source": [
    "addtional_categories_container = addtion_info_list[4]\n",
    "addtional_categories_list =addtional_categories_container.find_all('a',class_='catText preventDefault')\n",
    "addtional_categories_dic ={}\n",
    "for category in addtional_categories_list:\n",
    "    addtional_categories_dic[category.text] = category['href']\n",
    "addtional_categories_dic"
   ]
  },
  {
   "cell_type": "code",
   "execution_count": 160,
   "metadata": {},
   "outputs": [
    {
     "name": "stdout",
     "output_type": "stream",
     "text": [
      "<div class=\"tips\">\n",
      "<div class=\"step-container\">\n",
      "<div class=\"edit-icon\"></div>\n",
      "<span class=\"step-number\">11</span>\n",
      "<h2 class=\"h3\">Tip</h2>\n",
      "<p><p> </p> </p>\n",
      "</div>\n",
      "</div>\n"
     ]
    }
   ],
   "source": [
    "tips_container = recipe_html_soup.find('div',class_='tips')\n",
    "tips = tips_container.find('p').text\n",
    "print(tips_container)\n"
   ]
  },
  {
   "cell_type": "code",
   "execution_count": 161,
   "metadata": {},
   "outputs": [
    {
     "name": "stdout",
     "output_type": "stream",
     "text": [
      "  \n"
     ]
    }
   ],
   "source": [
    "tips = tips_container.find('p').text\n",
    "print(tips)"
   ]
  },
  {
   "cell_type": "code",
   "execution_count": 155,
   "metadata": {},
   "outputs": [
    {
     "name": "stdout",
     "output_type": "stream",
     "text": [
      "\n",
      " 6 portion(s)\n",
      "\n"
     ]
    }
   ],
   "source": [
    "portion= ingredients_container.find('p',class_='padding-bottom-10').text\n",
    "print(portion)"
   ]
  },
  {
   "cell_type": "code",
   "execution_count": 5,
   "metadata": {},
   "outputs": [],
   "source": [
    "category_recipe_outfile = 'Baby food' + '/'+'Baby food'+'.csv' "
   ]
  },
  {
   "cell_type": "code",
   "execution_count": 6,
   "metadata": {},
   "outputs": [],
   "source": [
    "category_data = pd.read_csv(category_recipe_outfile, index_col=0)"
   ]
  },
  {
   "cell_type": "code",
   "execution_count": 14,
   "metadata": {},
   "outputs": [
    {
     "data": {
      "text/plain": [
       "Index(['TunaandSweetPotatoPatties', 'WatermelonJelly',\n",
       "       'ZucchiniGratinforBaby6+months'],\n",
       "      dtype='object')"
      ]
     },
     "execution_count": 14,
     "metadata": {},
     "output_type": "execute_result"
    }
   ],
   "source": [
    "category_data.index"
   ]
  },
  {
   "cell_type": "code",
   "execution_count": 16,
   "metadata": {},
   "outputs": [
    {
     "name": "stdout",
     "output_type": "stream",
     "text": [
      "1\n"
     ]
    }
   ],
   "source": [
    "if \"TunaandSweetPotatoPatties\" in category_data.index:\n",
    "    print(1)"
   ]
  },
  {
   "cell_type": "code",
   "execution_count": null,
   "metadata": {},
   "outputs": [],
   "source": []
  }
 ],
 "metadata": {
  "kernelspec": {
   "display_name": "Python 3",
   "language": "python",
   "name": "python3"
  },
  "language_info": {
   "codemirror_mode": {
    "name": "ipython",
    "version": 3
   },
   "file_extension": ".py",
   "mimetype": "text/x-python",
   "name": "python",
   "nbconvert_exporter": "python",
   "pygments_lexer": "ipython3",
   "version": "3.7.4"
  }
 },
 "nbformat": 4,
 "nbformat_minor": 2
}
