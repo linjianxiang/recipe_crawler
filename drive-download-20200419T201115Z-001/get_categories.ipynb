{
 "cells": [
  {
   "cell_type": "code",
   "execution_count": 2,
   "metadata": {},
   "outputs": [],
   "source": [
    "from requests import get\n",
    "from bs4 import BeautifulSoup\n",
    "import pandas as pd\n",
    "import os"
   ]
  },
  {
   "cell_type": "code",
   "execution_count": 3,
   "metadata": {},
   "outputs": [],
   "source": [
    "home_url = \"https://www.recipecommunity.com.au\"\n",
    "category_url = \"https://www.recipecommunity.com.au/categories/\"\n",
    "response = get(category_url)\n",
    "html_soup = BeautifulSoup(response.text, 'html.parser')"
   ]
  },
  {
   "cell_type": "code",
   "execution_count": 13,
   "metadata": {},
   "outputs": [
    {
     "name": "stdout",
     "output_type": "stream",
     "text": [
      "                                                                       link  \\\n",
      "Baby food                 https://www.recipecommunity.com.au/categories/...   \n",
      "Baking - savoury          https://www.recipecommunity.com.au/categories/...   \n",
      "Baking - sweet            https://www.recipecommunity.com.au/categories/...   \n",
      "Basics                    https://www.recipecommunity.com.au/categories/...   \n",
      "Breads & rolls            https://www.recipecommunity.com.au/categories/...   \n",
      "Desserts & sweets         https://www.recipecommunity.com.au/categories/...   \n",
      "Drinks                    https://www.recipecommunity.com.au/categories/...   \n",
      "Main dishes - fish        https://www.recipecommunity.com.au/categories/...   \n",
      "Main dishes - meat        https://www.recipecommunity.com.au/categories/...   \n",
      "Main dishes - others      https://www.recipecommunity.com.au/categories/...   \n",
      "Main dishes - vegetarian  https://www.recipecommunity.com.au/categories/...   \n",
      "Pasta & rice dishes       https://www.recipecommunity.com.au/categories/...   \n",
      "Sauces, dips & spreads    https://www.recipecommunity.com.au/categories/...   \n",
      "Side dishes               https://www.recipecommunity.com.au/categories/...   \n",
      "Soups                     https://www.recipecommunity.com.au/categories/...   \n",
      "Starters                  https://www.recipecommunity.com.au/categories/...   \n",
      "\n",
      "                                                                   img_link  \n",
      "Baby food                 //d2mkh7ukbp9xav.cloudfront.net/categoryimage/...  \n",
      "Baking - savoury          //d2mkh7ukbp9xav.cloudfront.net/categoryimage/...  \n",
      "Baking - sweet            //d2mkh7ukbp9xav.cloudfront.net/categoryimage/...  \n",
      "Basics                    //d2mkh7ukbp9xav.cloudfront.net/categoryimage/...  \n",
      "Breads & rolls            //d2mkh7ukbp9xav.cloudfront.net/categoryimage/...  \n",
      "Desserts & sweets         //d2mkh7ukbp9xav.cloudfront.net/categoryimage/...  \n",
      "Drinks                    //d2mkh7ukbp9xav.cloudfront.net/categoryimage/...  \n",
      "Main dishes - fish        //d2mkh7ukbp9xav.cloudfront.net/categoryimage/...  \n",
      "Main dishes - meat        //d2mkh7ukbp9xav.cloudfront.net/categoryimage/...  \n",
      "Main dishes - others      //d2mkh7ukbp9xav.cloudfront.net/categoryimage/...  \n",
      "Main dishes - vegetarian  //d2mkh7ukbp9xav.cloudfront.net/categoryimage/...  \n",
      "Pasta & rice dishes       //d2mkh7ukbp9xav.cloudfront.net/categoryimage/...  \n",
      "Sauces, dips & spreads    //d2mkh7ukbp9xav.cloudfront.net/categoryimage/...  \n",
      "Side dishes               //d2mkh7ukbp9xav.cloudfront.net/categoryimage/...  \n",
      "Soups                     //d2mkh7ukbp9xav.cloudfront.net/categoryimage/...  \n",
      "Starters                  //d2mkh7ukbp9xav.cloudfront.net/categoryimage/...  \n"
     ]
    }
   ],
   "source": [
    "#find all categories\n",
    "categories_container = html_soup.find_all('div', class_ = 'col-sm-6 col-md-4 sectionbox')\n",
    "categories_data = pd.DataFrame(columns=['link','img_link'])\n",
    "counter = 0\n",
    "for category in categories_container:\n",
    "    #get the link of category image\n",
    "    category_img_link = category.img['src']\n",
    "    #get the name of the category\n",
    "    category_name = category.h4.a.text\n",
    "    #get the url for category\n",
    "    category_link_add = category.a['href']\n",
    "    category_extend_url = home_url+category_link_add\n",
    "    #dictionary category\n",
    "    category_dic = {'link': [category_extend_url],\n",
    "       'img_link': [category_img_link]}\n",
    "    category_info = pd.DataFrame(category_dic,index=[category_name])\n",
    "    categories_data = categories_data.append(category_info)\n",
    "    #save to csv\n",
    "    categories_data.to_csv(r'crawler_categories.csv', index = True,sep=\",\")    \n",
    "print(categories_data)"
   ]
  },
  {
   "cell_type": "code",
   "execution_count": null,
   "metadata": {},
   "outputs": [],
   "source": []
  }
 ],
 "metadata": {
  "kernelspec": {
   "display_name": "Python 3",
   "language": "python",
   "name": "python3"
  },
  "language_info": {
   "codemirror_mode": {
    "name": "ipython",
    "version": 3
   },
   "file_extension": ".py",
   "mimetype": "text/x-python",
   "name": "python",
   "nbconvert_exporter": "python",
   "pygments_lexer": "ipython3",
   "version": "3.7.4"
  }
 },
 "nbformat": 4,
 "nbformat_minor": 2
}
