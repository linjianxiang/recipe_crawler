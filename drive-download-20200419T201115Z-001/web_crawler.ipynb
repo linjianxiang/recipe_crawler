{
 "cells": [
  {
   "cell_type": "code",
   "execution_count": 1,
   "metadata": {},
   "outputs": [],
   "source": [
    "from requests import get\n",
    "from bs4 import BeautifulSoup\n",
    "import pandas as pd\n",
    "import os"
   ]
  },
  {
   "cell_type": "code",
   "execution_count": 2,
   "metadata": {},
   "outputs": [],
   "source": [
    "home_url = \"https://www.recipecommunity.com.au\"\n",
    "category_url = \"https://www.recipecommunity.com.au/categories/\"\n",
    "response = get(category_url)\n",
    "# print(response.text[:500])"
   ]
  },
  {
   "cell_type": "code",
   "execution_count": 3,
   "metadata": {},
   "outputs": [
    {
     "data": {
      "text/plain": [
       "bs4.BeautifulSoup"
      ]
     },
     "execution_count": 3,
     "metadata": {},
     "output_type": "execute_result"
    }
   ],
   "source": [
    "html_soup = BeautifulSoup(response.text, 'html.parser')\n",
    "type(html_soup)"
   ]
  },
  {
   "cell_type": "code",
   "execution_count": 4,
   "metadata": {},
   "outputs": [
    {
     "name": "stdout",
     "output_type": "stream",
     "text": [
      "<class 'bs4.element.ResultSet'>\n",
      "16\n"
     ]
    }
   ],
   "source": [
    "category_container = html_soup.find_all('div', class_ = 'col-sm-6 col-md-4 sectionbox')\n",
    "print(type(category_container))\n",
    "print(len(category_container))\n",
    "first_category = category_container[0]"
   ]
  },
  {
   "cell_type": "code",
   "execution_count": 5,
   "metadata": {},
   "outputs": [
    {
     "data": {
      "text/plain": [
       "<div class=\"col-sm-6 col-md-4 sectionbox\" data-id=\"6771e2f\" id=\"cat_6771e2f\">\n",
       "<div class=\"thumbnail\">\n",
       "<a class=\"overlay\" href=\"/categories/baby-food\"></a>\n",
       "<a href=\"/categories/baby-food\" title=\"Baby food\">\n",
       "<img alt=\"Baby food\" class=\"img-responsive\" src=\"//d2mkh7ukbp9xav.cloudfront.net/categoryimage/recipe_category_overview_search_119.jpg\">\n",
       "</img></a>\n",
       "<div class=\"caption no-checkbox\">\n",
       "<h4><a href=\"/categories/baby-food\" title=\"Baby food\">Baby food</a></h4>\n",
       "<p>207 recipes</p>\n",
       "</div>\n",
       "</div>\n",
       "</div>"
      ]
     },
     "execution_count": 5,
     "metadata": {},
     "output_type": "execute_result"
    }
   ],
   "source": [
    "first_category"
   ]
  },
  {
   "cell_type": "code",
   "execution_count": 6,
   "metadata": {},
   "outputs": [
    {
     "name": "stdout",
     "output_type": "stream",
     "text": [
      "//d2mkh7ukbp9xav.cloudfront.net/categoryimage/recipe_category_overview_search_119.jpg\n"
     ]
    }
   ],
   "source": [
    "first_category_img_link = first_category.img['src']\n",
    "print(first_category_img_link)"
   ]
  },
  {
   "cell_type": "code",
   "execution_count": 7,
   "metadata": {},
   "outputs": [
    {
     "name": "stdout",
     "output_type": "stream",
     "text": [
      "Baby food\n"
     ]
    }
   ],
   "source": [
    "first_category_name = first_category.h4.a.text\n",
    "print(first_category_name)"
   ]
  },
  {
   "cell_type": "code",
   "execution_count": 8,
   "metadata": {},
   "outputs": [
    {
     "name": "stdout",
     "output_type": "stream",
     "text": [
      "/categories/baby-food\n"
     ]
    }
   ],
   "source": [
    "first_category_link_add = first_category.a['href']\n",
    "print(first_category_link_add)"
   ]
  },
  {
   "cell_type": "code",
   "execution_count": 9,
   "metadata": {},
   "outputs": [
    {
     "name": "stdout",
     "output_type": "stream",
     "text": [
      "https://www.recipecommunity.com.au/categories/baby-food\n"
     ]
    }
   ],
   "source": [
    "first_category_extend_url = home_url+first_category_link_add\n",
    "print(first_category_extend_url)\n",
    "# https://www.recipecommunity.com.au/categories/baby-food"
   ]
  },
  {
   "cell_type": "code",
   "execution_count": 10,
   "metadata": {},
   "outputs": [
    {
     "name": "stdout",
     "output_type": "stream",
     "text": [
      "                                                        link  \\\n",
      "Baby food  https://www.recipecommunity.com.au/categories/...   \n",
      "\n",
      "                                                    img_link  \n",
      "Baby food  //d2mkh7ukbp9xav.cloudfront.net/categoryimage/...  \n"
     ]
    }
   ],
   "source": [
    "dic1 = {'link': [first_category_extend_url],\n",
    "       'img_link': [first_category_img_link]}\n",
    "category_info = pd.DataFrame(dic1,index=[first_category_name])\n",
    "# category_info1 = pd.DataFrame(dic1,index=['first_category_name'])\n",
    "# category_info = category_info.append(category_info1)\n",
    "print(category_info)"
   ]
  },
  {
   "cell_type": "code",
   "execution_count": 11,
   "metadata": {},
   "outputs": [],
   "source": [
    "category_info.to_csv(r'crawler_categories.csv', index = True,sep=\",\")"
   ]
  },
  {
   "cell_type": "code",
   "execution_count": 12,
   "metadata": {},
   "outputs": [
    {
     "name": "stdout",
     "output_type": "stream",
     "text": [
      "https://www.recipecommunity.com.au/categories/baby-food\n"
     ]
    },
    {
     "data": {
      "text/plain": [
       "bs4.BeautifulSoup"
      ]
     },
     "execution_count": 12,
     "metadata": {},
     "output_type": "execute_result"
    }
   ],
   "source": [
    "category_data = pd.read_csv(r'crawler_categories.csv', index_col=0)\n",
    "item_url = category_data['link'][first_category_name]\n",
    "print(item_url)\n",
    "item_response = get(item_url)\n",
    "# print(baby_food_response.text[:500])\n",
    "item_html_soup = BeautifulSoup(item_response.text, 'html.parser')\n",
    "type(item_html_soup)"
   ]
  },
  {
   "cell_type": "code",
   "execution_count": 13,
   "metadata": {},
   "outputs": [
    {
     "name": "stdout",
     "output_type": "stream",
     "text": [
      "<class 'bs4.element.ResultSet'>\n",
      "12\n",
      "Jessscott\n"
     ]
    }
   ],
   "source": [
    "item_container = item_html_soup.find_all('div', class_ = 'thumbnail result-recipe result-grid-display')\n",
    "print(type(item_container))\n",
    "print(len(item_container))\n",
    "first_item = item_container[0]\n",
    "author_container = first_item.find_all('div',class_='item-author')[0]\n",
    "item_author = author_container.a.text\n",
    "print(item_author)"
   ]
  },
  {
   "cell_type": "code",
   "execution_count": 14,
   "metadata": {},
   "outputs": [
    {
     "name": "stdout",
     "output_type": "stream",
     "text": [
      "4.71\n",
      "easy\n",
      "13min\n"
     ]
    }
   ],
   "source": [
    "item_rating_container = first_item.find('div',class_ = 'item-rating clearfix')\n",
    "item_rating = item_rating_container.div['data-average']\n",
    "print(item_rating)\n",
    "\n",
    "item_difficulty_container = first_item.find('div',class_ = 'col-xs-3 difficulty-inf')\n",
    "item_difficulty = item_difficulty_container.text.strip()\n",
    "print(item_difficulty)\n",
    "\n",
    "item_time_container = first_item.find('div',class_ = 'col-xs-3 cooking-time-inf')\n",
    "item_time = item_time_container.text.strip()\n",
    "print(item_time)"
   ]
  },
  {
   "cell_type": "code",
   "execution_count": 15,
   "metadata": {},
   "outputs": [
    {
     "name": "stdout",
     "output_type": "stream",
     "text": [
      "Baby Biscuits (sugar free)\n"
     ]
    }
   ],
   "source": [
    "first_item_name = first_item.a['title']\n",
    "print(first_item_name)"
   ]
  },
  {
   "cell_type": "code",
   "execution_count": 16,
   "metadata": {},
   "outputs": [
    {
     "name": "stdout",
     "output_type": "stream",
     "text": [
      "https://d2mkh7ukbp9xav.cloudfront.net/recipeimage/vdttw1rs-09448-352970-cfcd2-icxafnee/9297a21d-e1dc-48bf-b452-3abedb686230/medium/baby-biscuits-sugar-free.jpg\n"
     ]
    }
   ],
   "source": [
    "first_item_img_link = first_item.img['src']\n",
    "print(first_item_img_link)"
   ]
  },
  {
   "cell_type": "code",
   "execution_count": 17,
   "metadata": {},
   "outputs": [
    {
     "name": "stdout",
     "output_type": "stream",
     "text": [
      "/baby-food-recipes/baby-biscuits-sugar-free/vdttw1rs-09448-352970-cfcd2-icxafnee\n",
      "https://www.recipecommunity.com.au/baby-food-recipes/baby-biscuits-sugar-free/vdttw1rs-09448-352970-cfcd2-icxafnee\n"
     ]
    }
   ],
   "source": [
    "first_item_url_add = first_item.a['href']\n",
    "print(first_item_url_add)\n",
    "first_item_extend_url = home_url+first_item_url_add\n",
    "print(first_item_extend_url)"
   ]
  },
  {
   "cell_type": "code",
   "execution_count": 18,
   "metadata": {},
   "outputs": [
    {
     "name": "stdout",
     "output_type": "stream",
     "text": [
      "                                                                         link  \\\n",
      "Baby Biscuits (sugar free)  https://www.recipecommunity.com.au/baby-food-r...   \n",
      "\n",
      "                                                                     img link  \\\n",
      "Baby Biscuits (sugar free)  https://d2mkh7ukbp9xav.cloudfront.net/recipeim...   \n",
      "\n",
      "                           rating difficulty cooking time     author  \n",
      "Baby Biscuits (sugar free)   4.71       easy        13min  Jessscott  \n"
     ]
    }
   ],
   "source": [
    "item_dic = {}\n",
    "# item_dic = {'link': [first_item_extend_url],\n",
    "#        'img link': [first_item_img_link]}\n",
    "item_dic['link'] = first_item_extend_url\n",
    "item_dic['img link']= first_item_img_link\n",
    "item_dic['rating'] = item_rating\n",
    "item_dic['difficulty'] = item_difficulty\n",
    "item_dic['cooking time'] = item_time\n",
    "item_dic['author'] = item_author\n",
    "\n",
    "item_info = pd.DataFrame(item_dic,index=[first_item_name])\n",
    "print(item_info)"
   ]
  },
  {
   "cell_type": "code",
   "execution_count": 19,
   "metadata": {},
   "outputs": [],
   "source": [
    "# item_info.to_csv(r'C:\\Users\\ljxia\\Documents\\web_crawler\\items_list.csv', index = True,sep=\",\")"
   ]
  },
  {
   "cell_type": "code",
   "execution_count": 20,
   "metadata": {},
   "outputs": [
    {
     "name": "stdout",
     "output_type": "stream",
     "text": [
      "https://www.recipecommunity.com.au/baby-food-recipes/baby-biscuits-sugar-free/vdttw1rs-09448-352970-cfcd2-icxafnee\n"
     ]
    },
    {
     "data": {
      "text/plain": [
       "bs4.BeautifulSoup"
      ]
     },
     "execution_count": 20,
     "metadata": {},
     "output_type": "execute_result"
    }
   ],
   "source": [
    "# item_data = pd.read_csv(r'C:\\Users\\ljxia\\Documents\\web_crawler\\items_list.csv', index_col=0)\n",
    "# recipe_url = item_data['link'][first_item_name]\n",
    "recipe_url = first_item_extend_url\n",
    "print(recipe_url)\n",
    "recipe_response = get(recipe_url)\n",
    "# print(baby_food_response.text[:500])\n",
    "recipe_html_soup = BeautifulSoup(recipe_response.text, 'html.parser')\n",
    "type(recipe_html_soup)"
   ]
  },
  {
   "cell_type": "code",
   "execution_count": 21,
   "metadata": {},
   "outputs": [
    {
     "name": "stdout",
     "output_type": "stream",
     "text": [
      "<ol class=\"steps-list\" itemprop=\"description\">\n",
      "<h5>Baby Biscuits</h5>\n",
      "<li>\n",
      "<p>Preheat oven to 180 degrees</p>\n",
      "</li>\n",
      "<li>\n",
      "<p>Line 2 baking trays with baking paper</p>\n",
      "</li>\n",
      "<li>\n",
      "<p>Add rolled oats and dates to the mixing bowl. Mix on speed 9 for 10 seconds</p>\n",
      "</li>\n",
      "<li>\n",
      "<p>Add all the rest of the ingredients. Mix on speed 5 for 15 seconds. </p>\n",
      "</li>\n",
      "<li>\n",
      "<p>Place teaspoon-sized balls on the baking trays and bake in oven for 8-10 mins or until the edges are golden. </p>\n",
      "</li>\n",
      "</ol>\n",
      "<class 'bs4.element.Tag'>\n"
     ]
    },
    {
     "data": {
      "text/plain": [
       "<li>\n",
       "<p>Preheat oven to 180 degrees</p>\n",
       "</li>"
      ]
     },
     "execution_count": 21,
     "metadata": {},
     "output_type": "execute_result"
    }
   ],
   "source": [
    "recipe_container = recipe_html_soup.find('ol', class_ = 'steps-list')\n",
    "print(recipe_container)\n",
    "print(type(recipe_container))\n",
    "recipe_container.li"
   ]
  },
  {
   "cell_type": "code",
   "execution_count": 22,
   "metadata": {},
   "outputs": [],
   "source": [
    "step_list = recipe_container.find_all('li')\n",
    "# step_dic = {}\n",
    "for i in range(len(step_list)):\n",
    "#     step_dic['Step '+str(i)] = step_list[i].p.text\n",
    "    item_dic['Step '+str(i)] = step_list[i].p.text\n",
    "    \n"
   ]
  },
  {
   "cell_type": "code",
   "execution_count": 23,
   "metadata": {},
   "outputs": [
    {
     "name": "stdout",
     "output_type": "stream",
     "text": [
      "<class 'bs4.element.Tag'>\n",
      "['60 gram rolled oats', '40 gram pitted dates', '25 gram desicated coconut', '1 egg', '1 Ripe banana', '50 gram Butter', '60 gram SR flour']\n"
     ]
    }
   ],
   "source": [
    "ingredients_container = recipe_html_soup.find('div', class_ = 'ingredients')\n",
    "print(type(ingredients_container))\n",
    "ingredient_list = ingredients_container.find_all('li')\n",
    "\n",
    "ingredients = []\n",
    "for i in range(len(ingredient_list)):\n",
    "     ingredients.append(\" \".join(ingredient_list[i].text.split()))\n",
    "        \n",
    "print(ingredients)\n",
    "item_dic['ingredients'] = [ingredients]"
   ]
  },
  {
   "cell_type": "code",
   "execution_count": 24,
   "metadata": {},
   "outputs": [
    {
     "name": "stdout",
     "output_type": "stream",
     "text": [
      "                                                                         link  \\\n",
      "Baby Biscuits (sugar free)  https://www.recipecommunity.com.au/baby-food-r...   \n",
      "\n",
      "                                                                     img link  \\\n",
      "Baby Biscuits (sugar free)  https://d2mkh7ukbp9xav.cloudfront.net/recipeim...   \n",
      "\n",
      "                           rating difficulty cooking time     author  \\\n",
      "Baby Biscuits (sugar free)   4.71       easy        13min  Jessscott   \n",
      "\n",
      "                                                 Step 0  \\\n",
      "Baby Biscuits (sugar free)  Preheat oven to 180 degrees   \n",
      "\n",
      "                                                           Step 1  \\\n",
      "Baby Biscuits (sugar free)  Line 2 baking trays with baking paper   \n",
      "\n",
      "                                                                       Step 2  \\\n",
      "Baby Biscuits (sugar free)  Add rolled oats and dates to the mixing bowl. ...   \n",
      "\n",
      "                                                                       Step 3  \\\n",
      "Baby Biscuits (sugar free)  Add all the rest of the ingredients. Mix on sp...   \n",
      "\n",
      "                                                                       Step 4  \\\n",
      "Baby Biscuits (sugar free)  Place teaspoon-sized balls on the baking trays...   \n",
      "\n",
      "                                                                  ingredients  \n",
      "Baby Biscuits (sugar free)  [60 gram rolled oats, 40 gram pitted dates, 25...  \n"
     ]
    }
   ],
   "source": [
    "# step_info = pd.DataFrame(step_dic,index=[first_item_name])\n",
    "# print(step_info)\n",
    "\n",
    "item_info = pd.DataFrame(item_dic,index=[first_item_name])\n",
    "print(item_info)\n",
    "item_info.to_csv(r'crawler_items.csv', index = True,sep=\",\")"
   ]
  },
  {
   "cell_type": "code",
   "execution_count": 25,
   "metadata": {},
   "outputs": [],
   "source": [
    "item_info.to_csv(r'crawler_items.csv', index = True,sep=\",\")\n",
    "\n",
    "# step_info.to_csv(r'C:\\Users\\ljxia\\Documents\\web_crawler\\recipe_step.csv', index = True,sep=\",\")"
   ]
  },
  {
   "cell_type": "code",
   "execution_count": null,
   "metadata": {},
   "outputs": [],
   "source": []
  }
 ],
 "metadata": {
  "kernelspec": {
   "display_name": "Python 3",
   "language": "python",
   "name": "python3"
  },
  "language_info": {
   "codemirror_mode": {
    "name": "ipython",
    "version": 3
   },
   "file_extension": ".py",
   "mimetype": "text/x-python",
   "name": "python",
   "nbconvert_exporter": "python",
   "pygments_lexer": "ipython3",
   "version": "3.7.4"
  }
 },
 "nbformat": 4,
 "nbformat_minor": 2
}
