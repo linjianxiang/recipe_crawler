{
 "cells": [
  {
   "cell_type": "code",
   "execution_count": 10,
   "metadata": {},
   "outputs": [],
   "source": [
    "import pandas as pd\n",
    "import re"
   ]
  },
  {
   "cell_type": "code",
   "execution_count": 237,
   "metadata": {},
   "outputs": [],
   "source": [
    "def find_unit(test_string, units_list):\n",
    "    for unit in units_list:\n",
    "        if unit in test_string and re.search(\"\\d+\\s*\"+unit, test_string)!= None:\n",
    "            return unit\n",
    "    return None\n",
    "\n",
    "\n",
    "units_list = [\n",
    "    'grams','gram','g',\n",
    "    'slices','slice',\n",
    "    'cloves','clove',\n",
    "    'cups','cup of','cup',\n",
    "    'florets','floret',\n",
    "    'tbsp','tsp',\n",
    "    'level teaspoon','tablespoons','tablespoon',\n",
    "    'teaspoons','teaspoon','level tbsp',\n",
    "    'dash','can of','can',\n",
    "    'tin of','tin','pinches','pinch',\n",
    "    'a small','small','drops',\n",
    "    'mls','ml','Sheets','mc',\n",
    "    'handful of'\n",
    "]\n",
    "\n",
    "ingredients_list = []\n",
    "\n",
    "path = \"/home/linjian/projects/web_crawler/recipe_crawler/\"\n",
    "categories_info_file = path+\"crawler_categories.csv\"\n",
    "categories_data = pd.read_csv(categories_info_file, index_col=0)"
   ]
  },
  {
   "cell_type": "code",
   "execution_count": 238,
   "metadata": {},
   "outputs": [],
   "source": [
    "categories_indices = categories_data.index\n",
    "\n",
    "\n",
    "category = categories_indices[0].replace(\"/\",\"\")\n",
    "category_path = path+category\n",
    "category_csv = category_path+'/'+category+'.csv'\n",
    "category_data = pd.read_csv(category_csv, index_col=0)"
   ]
  },
  {
   "cell_type": "code",
   "execution_count": 239,
   "metadata": {
    "scrolled": false
   },
   "outputs": [],
   "source": [
    "\n",
    "for i in range(len(category_data)):\n",
    "# for i in range(5):  \n",
    "    ingredients_full_list = category_data['ingredients'][i].replace('[','').replace(']','')\n",
    "    ingredients_full_list = ingredients_full_list.split(\"', '\")\n",
    "#     print(ingredients_full_list)\n",
    "    for item in ingredients_full_list:  \n",
    "        try:\n",
    "            item = item.lower().replace(' of ','').replace('or ','').replace(' or ','').replace(' or','').replace('e.g','')\n",
    "            matched_unit = find_unit(item, units_list)\n",
    "    #         print(matched_unit)\n",
    "            if (matched_unit != None):\n",
    "            #     x = re.findall(\"\\d+\\s*\"+matched_unit+\"\\s*([a-zA-Z]*\\s*[a-zA-Z]*)\", test_string)\n",
    "                ingredient = re.findall(\"\\d+\\s*\"+matched_unit+\"\\s*([a-zA-Z/-]+\\s*/*\\s*[a-zA-Z/-]*\\s*/*\\s*[a-zA-Z/-]*)\", item)[0]\n",
    "            else:\n",
    "                ingredient = re.findall(\"\\d+\\s*([a-zA-Z]+\\s*[a-zA-Z]*\\s*[a-zA-Z]*)\", item)[0]\n",
    "\n",
    "    #         print(ingredient)\n",
    "            if ingredient not in ingredients_list:\n",
    "                ingredients_list.append(ingredient)\n",
    "        except:\n",
    "            continue\n",
    "            \n",
    "# len(ingredients_list)\n",
    "# print(ingredients_list)\n",
    "\n",
    "f=open('ingredients.txt','w')\n",
    "for item in ingredients_list:\n",
    "    f.write(item+'\\n')\n",
    "\n",
    "f.close()\n",
    "ingredients_list = []"
   ]
  },
  {
   "cell_type": "code",
   "execution_count": 205,
   "metadata": {
    "scrolled": false
   },
   "outputs": [
    {
     "name": "stdout",
     "output_type": "stream",
     "text": [
      "['rolled oats', 'pitted dates', 'desicated coconut', 'egg', 'ripe banana', 'butter', 'sr flour', 'chicken breast', 'vegetables/fruits', 'coconut milk/cream', 'apples', 'pear', 'cinnamon', 'water', 'fresh dates ', 'desiccated coconut', 'raw cacao powder', 'extra virgin coconut', 'premium beef mince', 'onion', 'garlic', 'carrots', 'zucchini', 'red capsicum', 'pumpkin', 'tomato paste', 'vegetable stock concentrate', 'breadcrumbs', 'sheets puff pastry', 'egg replacer ', 'rice', 'ganic brown rice', 'olive oil', 'chicken ', 'apricot nectar', 'sweet potato', 'apple', 'filtered water', 'extra virgin olive', 'carrot', 'celery', 'red lentils', 'tomato passata', 'potato', 'corn oil', 'pears', 'chicken tenderloins', 'corn', 'oil', 'banana', 'quick oats', 'milk', 'honey', 'coconut oil', 'apple puree', 'spelt flour', 'mixed vegetables', 'eggs', 'plain flour', 'quinoa grains', 'almonds ', 'macadamia nuts', 'cashew nuts', 'linseeds', 'sunflower seeds', 'chia seeds', 'ganic coconut ', 'goji berries', 'amaranth grains ', 'pears ', 'peach', 'prune', 'mixed spice', 'vanilla essence', 'full-cream milk', 'bread', 'spanish onion', 'green beans', 'cup frozen corn', 'chicken breasts', 'level tablespoons cornflour', 'mild paprika', 'ganic millet', 'ganic vegetablesyour choice', 'ganic rump steak', 'granny smith apples', 'apple juice', 'oatmeal', 'diced pumpkin', 'cancoconut cream ', 'sweet potatoe', 'ranny smith apple', 'sprigs parsley', 'pork loin', 'cauliflower florets', 'mulitgrain breadcrumbs', 'dried parsley', 'vegetable chicken salt', 'grated cheese', 'butternut pumpkin', 'dried apricots', 'garam masala', 'chopped tomatoes', 'stick celery', 'full cream milk', 'coco powder', 'vanilla bean paste', 'cornflour', 'bananas', 'raspberries', 'coconut milk', 'coconut cream', 'arrowroot cornflour', 'maple syrup', 'vanilla extract vanilla', 'cheese', 'vegetableschoice', 'dry cous cous', 'level tablespoon tm', 'cheddar cheese', 'beef', 'roughly chopped mixed', 'cooked chicken', 'spinach', 'tmx vegetable stock', 'chickpeas', 'quinoa flakes', 'avocados', 'bacon', 'egano dried', 'parsley dried', 'rosemary dried', 'bay leaf', 'stock', 'small shell pasta', 'zucchini / courgette', 'kiwi fruit', 'mint leaves', 'red apples', 'reen apples', 'ground cloves', 'almonds', 'lamb mince', 'edc vegetable stock', 'apple juice water', 'reen apple', 'fresh strawberries', 'warm water', 'potatoes', 'reen capsicum', 'sticks celery', 'brown onion', 'vegetable oil', 'chicken stock', 'pod vanilla bean', 'washed leek', 'unsalted butter', 'chicken thighs', 'medium size carrot', 'water overnight if', 'sweet potato butternut', 'ghee butter', 'split red lentils', 'ground ginger', 'ground cumin', 'ground corriander', 'ground tumeric', 'tm vegetable stock', 'egg yolk', 'corn flour', 'sugar', 'creamed corn', 'home made beef', 'yoghurt', 'heaped tablespoons butter', 'oat', 'berries', 'sage leaves', 'leek', 'firm tofu', 'avocado', 'brown sugar', 'raw sugar', 'salt', 'baking powder', 'wholemeal flours', 'lindseed meal flaxseed', 'linseed', 'brewers yeast', 'milk other liquid', 'oats', 'chocolate chips', 'mixed vege', 'home made stock', 'raw egg yolks', 'extra fat coconut', 'fermented food', 'handfull greens', 'grass fed beef', 'apples ', 'chicken thigh', 'medjool dates', 'grated parmesan cheese', 'almond meal lsa', 'chicken breast diced', 'thyme leaves', 'handful baby spinach', 'green beans snowpeas', 'fillet chicken thigh', 'zuchinni', 'parsnip', 'boiled water', 'brown rice', 'parmesan cheese', 'boiling water', 'celery stalk', 'large zuccini', 'arlic clove', 'couscous', 'pears peeled and', 'apples peeled and', 'corn kernels', 'bread crumbs', 'soy sauce', 'tasty cheese', 'sultanas', 'pieces dark chocolate', 'cocoa powder', 'lamb', 'bunch fresh', 'fresh tomatoes', 'tm stock concentrate', 'quinoa seed', 'rapadura raw sugar', 'butter olive oil', 'sweet potatoes', 'peas frozen', 'baby spinach', 'spiral bow pasta', 'tomato pasta sauce', 'chicken - cooked', 'flat leave parsley', 'fresh thyme sage', 'chicken stock cube', 'self rising flour', 'quinoa flour', 'extra large eggs', 'bananas ', 'peas', 'chicken thigh breast', 'leeks', 'ripe bananas', 'unslated butter', 'washed and roughly', 'sweet potato diced', 'frozen peas', 'baby spinach washed', 'bananas ripe', 'cinamon', 'raisins', 'spelt flakes spelt', 'dates', 'vanilla extract', 'baking pdr', 'sesame seeds', 'broccoli', 'lamb cutlet', 'spiced pear paste', 'self raising wholemeal', 'plain yoghurt', 'canola oil', 'celery half bunch', 'lamb leg steak', 'swede', 'pears canned in', 'spring onions', 'stalk celery', 'tin chick peas', 'sea salt', 'citric acid', 'chicken thigh mince', 'nuttlex spread', 'oat milk', 'chicken thigh fillets', 'carrot roughly chopped', 'zucchini roughly chopped', 'frozen corn kernals', 'frozen baby peas', 'meduim grain rice', 'blueberries', 'natural yoghurt', 'apple ', 'plum', 'gravy beef', 'mild curry powder', 'fully ripe bananas', 'self raising flour', 'whole wheat flour', 'melted coconut oil', 'grounded cinamon', 'coconut sugar', 'baby spinach leaves', 'chives', 'whole eggs', 'arrowroot flour', 'baking soda', 'creamtartar', 'thickened cream', 'ice cubes', 'fresh fruit', 'powdered gelatine', 'cold water', 'mixed veg', 'arborio rice', 'chicken stock paste', 'meat  steak', 'large carrot', 'medium zucchini', 'litre water', 'ground cinnamon', 'onion quarted', 'frozen peas / broccoli', 'cauliflower pieces', 'jasmine rice', 'salt reduced chicken', 'heaped tablespoon tomato', 'risoni pasta', 'cumin', 'medium carrots', 'ling fillets ', 'tasty/cheddar cheese', 'leaves', 'tinwhole peeled tomatoes', 'different colors', 'grapeseed oil', 'essential oil', 'almond meal / flour', 'tapioca flour', 'bicarb soda', 'coconut oil ', 'apple cider vinegar', 'ganic rolled oats', 'buckwheat', 'millet', 'celtic sea salt', 'level tablespoons water', 'pink red apples', 'strawberries', 'coconut milk cream', 'canned peaches', 'pomegranate', 'lemon juice', 'diced pork', 'broccoli florets', 'peas ', 'beef rump steak', 'kumara', 'bunch brocolli', 'bunch caulifower', 'bunch green beans', 'mixed herbs', 'brocoli', 'cm ginger', 'vegetable stock paste', 'instant cannelloni shells', 'dried basil', 'egano', 'tubricotta cheese', 'spinach kale', 'mushrooms', 'water vegetable broth', 'roasted cashews', 'golden syrup', 'diced chicken breast', 'punnet cherry tomatoes', 'oil butter', 'liquid ', 'honey dew melon', 'flour', 'carrot chopped', 'stickcelery', 'cauliflower', 'broccoli broccolini', 'cream cheese', 'smoked salmon', 'beef mince', 'light soy', 'sweet corn', 'brown rice flour', 'cooked quinoa millet', 'chickpea flour ', 'almond meal', 'tahini', 'macadamia oil', 'lemon', 'ange', 'a handful flat', 'clovegarlic', 'red onion', '- ', 'tin whole peeled', 'couscous - rinsed', 'any vegetables', 'chicken mince', 'cottage cheese', 'fresh beetroot', 'salt-reduced chickpeas', 'full fat cottage', 'parmesan cheddar', 'casserole beef', 'parsley', 'stalks broccolini', 'chicken', 'dried currants', 'gelatine', 'heaped tablespoons cocoa', 'vanilla essence / extract', 'cinnamon sugar', 'breast milk formula', 'vanilla', 'oats ', 'cheese cubed', 'white potato', 'tinsuper sweet corn', 'pink lady apples', 'nectarines', 'tin tomatoes diced', 'dried thyme', 'thermomix stock paste', 'quinoa grains ', 'spinach leaves', 'quinoa', 'pieces pitted prunes', 'dried prunes', 'butter ghee', 'milkchoice', 'saltanas', 'dessicated coconut', 'zucchini cubed', 'handfulsspinach', 'lentils', 'portions vegetableschoice', 'portion butter beans', 'portion tomatoes', 'cinnamon powder', 'cumin powder', 'finely chopped parsley', 'ripe avocado', 'raw honey', 'cocoa cacao', 'heaped tablespoon thick', 'piece apples pears', 'piece veg ', 'arlic cloves', 'chicken breast fillet', 'apricot', 'red apple', 'strawberry', 'wholemeal sr flour', 'vanilla paste', 'peaches', 'sweetcorn kernels tin', 'mixed cheeseschoice', 'cheddar tasty cheese', 'red onion ', 'fresh frozen mixed', 'onion quartered', 'corn kernals', 'bunch chives', 'feta', 'mixed berries', 'blueberries fresh frozen', 'soft butter', 'wholemeal self-raising flour', 'litres water', 'beef ', 'veggies', 'ganic lentils', 'vegetables', 'cumin seed', 'coriander seed', 'dry red lentils', 'veggies diced', 'raw cashews', 'flaxseed', 'cacao poweder', 'dark chocolate', 'pearl couscous', 'squash', 'pumpkin puree', 'coconut flour', 'litres filtered water', 'white chia seed', 'vanilla bean extract', 'kestrel potatoes', 'cancorn kernels', 'mixed frozen vegetables', 'prunes', 'pumpkin flesh', 'red onion peeled', 'level tsp vanilla', 'asparagus', 'frozen green peas', 'shallots', 'continental cucumber', 'wrapps', 'jar mayonaise', 'yoghurtchoice', 'marie biscuits', 'pieces broccoli', 'white fish fillet', 'self-raising flour', 'sweet chili sauce', 'large brown onion', 'fresh apricots', 'large zucchini', 'bunch kale', 'corn on cob', 'sweet paprika', 'dried pasta shapes', 'pieces free range', 'small button squash', 'bunch cauliflower pieces', 'bunch broccoli ', 'packages strawberry', 'ganic oats', 'flaxseeds', 'ganic vanilla paste', 'liquid', 'corn on the', 'sprig mint', 'mango', 'pineapple', 'rice cereal', 'veggie chicken stock', 'carrott', 'milk formula', 'minced garlic', 'diced lamb', 'moroccan spice mix', 'preservative free dried', 'apricots in pure', 'sticks celery stalk', 'oilchoice ', 'chicken thigh fillet', 'cm blocks', 'heaped tablespoons pureed', 'stock paste', 'chicken breast thigh', 'fgdgdfh', 'watermelon', 'gelatin powder', 'grated cheddar cheese']\n"
     ]
    }
   ],
   "source": [
    "f=open('ingredients.txt','r')\n",
    "new_ingredients_list = f.read().split('\\n')\n",
    "new_ingredients_list.pop()\n",
    "print(new_ingredients_list)"
   ]
  },
  {
   "cell_type": "code",
   "execution_count": 214,
   "metadata": {},
   "outputs": [
    {
     "name": "stdout",
     "output_type": "stream",
     "text": [
      "egg\n",
      "butter\n",
      "apples\n",
      "pear\n",
      "cinnamon\n",
      "water\n",
      "onion\n",
      "garlic\n",
      "carrots\n",
      "zucchini\n",
      "pumpkin\n",
      "breadcrumbs\n",
      "rice\n",
      "apple\n",
      "carrot\n",
      "celery\n",
      "potato\n",
      "pears\n",
      "corn\n",
      "oil\n",
      "banana\n",
      "milk\n",
      "honey\n",
      "eggs\n",
      "linseeds\n",
      "peach\n",
      "prune\n",
      "bread\n",
      "oatmeal\n",
      "cornflour\n",
      "bananas\n",
      "raspberries\n",
      "cheese\n",
      "vegetableschoice\n",
      "beef\n",
      "spinach\n",
      "chickpeas\n",
      "avocados\n",
      "bacon\n",
      "stock\n",
      "almonds\n",
      "potatoes\n",
      "sugar\n",
      "yoghurt\n",
      "oat\n",
      "berries\n",
      "leek\n",
      "avocado\n",
      "salt\n",
      "linseed\n",
      "oats\n",
      "zuchinni\n",
      "parsnip\n",
      "couscous\n",
      "sultanas\n",
      "lamb\n",
      "peas\n",
      "leeks\n",
      "cinamon\n",
      "raisins\n",
      "dates\n",
      "broccoli\n",
      "swede\n",
      "blueberries\n",
      "plum\n",
      "chives\n",
      "creamtartar\n",
      "cumin\n",
      "leaves\n",
      "buckwheat\n",
      "millet\n",
      "strawberries\n",
      "pomegranate\n",
      "kumara\n",
      "brocoli\n",
      "egano\n",
      "mushrooms\n",
      "flour\n",
      "stickcelery\n",
      "cauliflower\n",
      "tahini\n",
      "lemon\n",
      "ange\n",
      "clovegarlic\n",
      "parsley\n",
      "chicken\n",
      "gelatine\n",
      "vanilla\n",
      "nectarines\n",
      "quinoa\n",
      "milkchoice\n",
      "saltanas\n",
      "handfulsspinach\n",
      "lentils\n",
      "apricot\n",
      "strawberry\n",
      "peaches\n",
      "feta\n",
      "veggies\n",
      "vegetables\n",
      "flaxseed\n",
      "squash\n",
      "prunes\n",
      "asparagus\n",
      "shallots\n",
      "wrapps\n",
      "yoghurtchoice\n",
      "flaxseeds\n",
      "liquid\n",
      "mango\n",
      "pineapple\n",
      "carrott\n",
      "fgdgdfh\n",
      "watermelon\n"
     ]
    }
   ],
   "source": [
    "for item in new_ingredients_list:\n",
    "    if len(item.replace('/', ' ').split(' ')) == 1:\n",
    "        print(item)"
   ]
  },
  {
   "cell_type": "code",
   "execution_count": 192,
   "metadata": {},
   "outputs": [
    {
     "name": "stdout",
     "output_type": "stream",
     "text": [
      "[\"'120 grams onion quarted\", '40 grams Butter', '280 grams potato, peeled &amp; cubed', '140 grams Zuchinni, roughly cut', '300 grams water', '1 teaspoon vegetable stock concentrate', \"65 grams frozen peas / broccoli'\"]\n"
     ]
    }
   ],
   "source": [
    "test_ingredients = category_data['ingredients'][87].replace('[','').replace(']','')\n",
    "test_ingredients = test_ingredients.split(\"', '\")\n",
    "print(test_ingredients)"
   ]
  },
  {
   "cell_type": "code",
   "execution_count": 196,
   "metadata": {},
   "outputs": [
    {
     "name": "stdout",
     "output_type": "stream",
     "text": [
      "65 grams frozen peas / broccoli'\n",
      "grams\n",
      "frozen peas /\n"
     ]
    }
   ],
   "source": [
    "test_string = test_ingredients[-1]\n",
    "print(test_string)\n",
    "matched_unit = find_unit(test_string, units_list)\n",
    "print(matched_unit)\n",
    "if (matched_unit != None):\n",
    "#     x = re.findall(\"\\d+\\s*\"+matched_unit+\"\\s*([a-zA-Z]*\\s*[a-zA-Z]*)\", test_string)\n",
    "    x = re.findall(\"\\d+\\s*\"+matched_unit+\"\\s*([a-zA-Z/-]+\\s*[a-zA-Z/-]*\\s*[a-zAZ/-]*)\", test_string)[0]\n",
    "else:\n",
    "    x = re.findall(\"\\d+\\s*([a-zA-Z]+\\s*[a-zA-Z]*\\s*[a-zA-Z]*)\", test_string)[0]\n",
    "print(x)"
   ]
  },
  {
   "cell_type": "code",
   "execution_count": 203,
   "metadata": {},
   "outputs": [
    {
     "name": "stdout",
     "output_type": "stream",
     "text": [
      "65 grams frozen peas / broccoli'\n",
      "grams\n",
      "frozen peas / broccoli\n"
     ]
    }
   ],
   "source": [
    "test_string = test_ingredients[-1]\n",
    "print(test_string)\n",
    "matched_unit = find_unit(test_string, units_list)\n",
    "print(matched_unit)\n",
    "if (matched_unit != None):\n",
    "#     x = re.findall(\"\\d+\\s*\"+matched_unit+\"\\s*([a-zA-Z]*\\s*[a-zA-Z]*)\", test_string)\n",
    "    x = re.findall(\"\\d+\\s*\"+matched_unit+\"\\s*([a-zA-Z/-]+\\s*/*\\s*[a-zA-Z/-]*\\s*/*\\s*[a-zAZ/-]*)\", test_string)[0]\n",
    "else:\n",
    "    x = re.findall(\"\\d+\\s*([a-zA-Z]+\\s*[a-zA-Z]*\\s*[a-zA-Z]*)\", test_string)[0]\n",
    "print(x)"
   ]
  },
  {
   "cell_type": "code",
   "execution_count": 138,
   "metadata": {},
   "outputs": [
    {
     "name": "stdout",
     "output_type": "stream",
     "text": [
      "1\n"
     ]
    }
   ],
   "source": [
    "[\\s*/*\\s*]"
   ]
  },
  {
   "cell_type": "code",
   "execution_count": 53,
   "metadata": {},
   "outputs": [],
   "source": [
    "for unit in units_dic:\n",
    "    if unit in test_string:\n",
    "        unit\n",
    "    else:\n",
    "        None"
   ]
  },
  {
   "cell_type": "code",
   "execution_count": 198,
   "metadata": {},
   "outputs": [
    {
     "data": {
      "text/plain": [
       "'ab'"
      ]
     },
     "execution_count": 198,
     "metadata": {},
     "output_type": "execute_result"
    }
   ],
   "source": [
    "'Ab'.lower()"
   ]
  },
  {
   "cell_type": "code",
   "execution_count": 153,
   "metadata": {},
   "outputs": [
    {
     "data": {
      "text/plain": [
       "{1, 2, 3}"
      ]
     },
     "execution_count": 153,
     "metadata": {},
     "output_type": "execute_result"
    }
   ],
   "source": [
    "set([1,2,3])"
   ]
  },
  {
   "cell_type": "code",
   "execution_count": 154,
   "metadata": {},
   "outputs": [
    {
     "name": "stdout",
     "output_type": "stream",
     "text": [
      "1\n"
     ]
    }
   ],
   "source": [
    "a = [1,2,3]\n",
    "if 1 in a:\n",
    "    print(1)"
   ]
  },
  {
   "cell_type": "code",
   "execution_count": null,
   "metadata": {},
   "outputs": [],
   "source": []
  }
 ],
 "metadata": {
  "kernelspec": {
   "display_name": "Python 3",
   "language": "python",
   "name": "python3"
  },
  "language_info": {
   "codemirror_mode": {
    "name": "ipython",
    "version": 3
   },
   "file_extension": ".py",
   "mimetype": "text/x-python",
   "name": "python",
   "nbconvert_exporter": "python",
   "pygments_lexer": "ipython3",
   "version": "3.7.4"
  }
 },
 "nbformat": 4,
 "nbformat_minor": 4
}
