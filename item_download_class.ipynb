{
 "cells": [
  {
   "cell_type": "code",
   "execution_count": 1,
   "metadata": {},
   "outputs": [],
   "source": [
    "from categories_download import get_categories\n",
    "from requests import get\n",
    "from bs4 import BeautifulSoup,NavigableString\n",
    "import pandas as pd\n",
    "import os\n",
    "import re\n",
    "import urllib.request, urllib.error, urllib.parse\n",
    "import sys"
   ]
  },
  {
   "cell_type": "code",
   "execution_count": 2,
   "metadata": {},
   "outputs": [],
   "source": [
    "class recipe_info:\n",
    "    def __init__(self):\n",
    "        self.recipe_name = None\n",
    "        self.recipe_url = None\n",
    "        self.recipe_img_link = None\n",
    "        self.recipe_rating = None\n",
    "        self.recipe_difficulty = None\n",
    "        self.recipe_time = None\n",
    "        self.preparation_time = None\n",
    "        self.recipe_author = None\n",
    "        self.recipe_steps = None\n",
    "        self.recipe_ingredients = None\n",
    "        self.recipe_portion = None\n",
    "        self.recipe_accessories = None\n",
    "        self.number_vote = None\n",
    "        self.number_favorites = None\n",
    "        self.variation_link = None\n",
    "        self.variation_name = None\n",
    "        self.machine_name = None\n",
    "        self.machine_addtional_info = None\n",
    "        self.addtional_categories_dic = None\n",
    "        self.addtional_categories_name = None\n",
    "        self.tips = None\n",
    "        self.iftested = None\n",
    "        \n",
    "    def item_info_download(self,item):\n",
    "        #download author\n",
    "        author_container = item.find_all('div',class_='item-author')[0]\n",
    "        self.recipe_author = author_container.a.text\n",
    "#         print(item_author)\n",
    "        #download rating\n",
    "        item_rating_container = item.find('div',class_ = 'item-rating clearfix')\n",
    "        if (item_rating_container != None):\n",
    "            self.recipe_rating = item_rating_container.div['data-average']\n",
    "#             print(self.recipe_rating)\n",
    "            #downloadd number of vote\n",
    "            if (item_rating_container.span != None):\n",
    "                vote_string = item_rating_container.span.text.strip()\n",
    "                self.number_vote = re.findall('[0-9]+', vote_string)\n",
    "\n",
    "        favourite_container = item.find('div',class_ = 'col-xs-2 favourite-inf')\n",
    "        self.number_favorites = favourite_container.text.strip()\n",
    "#         print(self.favorites)\n",
    "        #download difficulty\n",
    "        item_difficulty_container = item.find('div',class_ = 'col-xs-3 difficulty-inf')\n",
    "        self.recipe_difficulty = item_difficulty_container.text.strip()\n",
    "#         print(item_difficulty)\n",
    "        #download cooking time\n",
    "        item_time_container = item.find('div',class_ = 'col-xs-3 cooking-time-inf')\n",
    "        self.recipe_time = item_time_container.text.strip()\n",
    "#         print(item_time)\n",
    "        #download name\n",
    "        self.recipe_name = item.a['title']\n",
    "#         print(item_name)\n",
    "        #download image link\n",
    "        self.recipe_img_link = item.img['src']\n",
    "#         print(item_img_link)\n",
    "        #download item url\n",
    "        item_url_add = item.a['href']\n",
    "        self.recipe_url = home_url+item_url_add\n",
    "#         print(item_extend_url)\n",
    "        \n",
    "\n",
    "    def insert_icon_text(self,step):\n",
    "        img_string = step.img\n",
    "        operation = '#'+img_string['title']+'#'\n",
    "        step_icon = str(step).replace(str(img_string),operation)\n",
    "        step_icon_soup = BeautifulSoup(step_icon, 'html.parser')\n",
    "        return step_icon_soup.text.strip()\n",
    "    \n",
    "    def download_recipe_steps_ingredients(self, step_list,ingredient_list):\n",
    "        self.recipe_steps = []\n",
    "        if len(step_list) == 1:\n",
    "            step_list_container = step_list[0].find_all('p')\n",
    "            if (len(step_list_container) > 1):\n",
    "                for step in step_list_container:\n",
    "                    step_text = step.text.strip()\n",
    "                    if step_text != '':\n",
    "                        self.recipe_steps.append(step_text)\n",
    "            elif(sum(1 for e in step_list[0].childGenerator())>4):\n",
    "                for step in step_list[0].childGenerator():\n",
    "                    if not (step and isinstance(step,NavigableString)):\n",
    "                        continue\n",
    "                    elif(str(step).strip() ==''):\n",
    "                        continue\n",
    "                    else:\n",
    "                        self.recipe_steps.append(str(step).strip())\n",
    "            else:\n",
    "                self.recipe_steps.append(\" \".join(step_list[0].text.split()))\n",
    "        else:\n",
    "            for i in range(len(step_list)):\n",
    "                if (step_list[i].img != None):\n",
    "                    self.recipe_steps.append(self.insert_icon_text(step_list[i]))\n",
    "                else:                \n",
    "                    self.recipe_steps.append(\" \".join(step_list[i].text.split()))   \n",
    "                \n",
    "        #append ingredients to dictionary\n",
    "        self.recipe_ingredients = []\n",
    "        for i in range(len(ingredient_list)):\n",
    "             self.recipe_ingredients.append(\" \".join(ingredient_list[i].text.split()))\n",
    "        \n",
    "    def recipe_download_details(self):\n",
    "        recipe_response = get(self.recipe_url)\n",
    "        recipe_html_soup = BeautifulSoup(recipe_response.text, 'html.parser')\n",
    "        \n",
    "        #download variations \n",
    "        variations_container = recipe_html_soup.find('div',class_= 'col-sm-12 sidebar-box variant-box')\n",
    "        if (variations_container != None):\n",
    "            self.variation_link = home_url+variations_container.a['href']\n",
    "            self.variation_name = variations_container.a.text\n",
    "        \n",
    "        #find recipe steps list\n",
    "        step_container = recipe_html_soup.find('ol', class_ = 'steps-list')\n",
    "        step_list = step_container.find_all('li')\n",
    "        \n",
    "        #find tips \n",
    "        tips_container = recipe_html_soup.find('div',class_='tips')\n",
    "#         print(tips_container.find('p'))\n",
    "        tips = tips_container.find('p')\n",
    "        if(tips!=None):\n",
    "            self.tips = tips.text\n",
    "        #find ingredients list and portion\n",
    "        ingredients_container = recipe_html_soup.find('div', class_ = 'ingredients')\n",
    "        ingredient_list = ingredients_container.find_all('li')\n",
    "        self.recipe_portion = ingredients_container.find('p',class_='padding-bottom-10').text.strip()\n",
    "\n",
    "        #download if tested \n",
    "        iftested_container = recipe_html_soup.find('span','recipe-testing-status-text')\n",
    "        self.iftested = re.findall('\\w+\\stested', iftested_container.text)[0]\n",
    "        \n",
    "        #process recipe step and ingredient list\n",
    "        self.download_recipe_steps_ingredients(step_list,ingredient_list)\n",
    "        \n",
    "        #accessories list download\n",
    "        accessories_container = recipe_html_soup.find('div', class_ = 'accessories-list')\n",
    "        if accessories_container == None:\n",
    "            self.accessories = []\n",
    "        else:\n",
    "            tools_list = accessories_container.find_all(\"meta\")\n",
    "            accessories = []\n",
    "            for tool in tools_list:\n",
    "                accessories.append(tool.get(\"content\"))\n",
    "            self.recipe_accessories = [accessories]\n",
    "        \n",
    "        #download addtional info\n",
    "        self.download_addtional_info(recipe_html_soup)\n",
    "       \n",
    "    def download_addtional_info(self,recipe_html_soup):\n",
    "        addtional_info_container = recipe_html_soup.find('div',class_= 'additional-info')\n",
    "        addtion_info_list = addtional_info_container.find_all('li')\n",
    "        #preparation time dowload\n",
    "        time_container = addtion_info_list[0]\n",
    "        preparation_time_container = time_container.find_all('div',class_='smallText')\n",
    "        self.preparation_time = preparation_time_container[0].find(\"span\", id=\"preparation-time-final\").text.strip()\n",
    "        #cooking method\n",
    "        cooking_method = preparation_time_container[1].text.strip()\n",
    "        #machine and machine addtional info\n",
    "        machine_contianer = addtion_info_list[2]\n",
    "        self.machine_name = machine_contianer.h5.text\n",
    "        self.machine_addtional_info = machine_contianer.find('div',class_=\"margin-top-10\")\n",
    "        if(self.machine_addtional_info!=None):\n",
    "            self.machine_addtional_info = self.machine_addtional_info.text.strip()\n",
    "        #addtional categroies\n",
    "        addtional_categories_container = addtion_info_list[4]\n",
    "        addtional_categories_list =addtional_categories_container.find_all('a',class_='catText preventDefault')\n",
    "        self.addtional_categories_dic ={}\n",
    "        self.addtional_categories_name = []\n",
    "        for category in addtional_categories_list:\n",
    "            self.addtional_categories_name.append(category.text)\n",
    "            self.addtional_categories_dic[category.text] = category['href']\n",
    "        \n",
    "    def create_data_frame(self):\n",
    "        #create data frame\n",
    "        item_dic = {}\n",
    "        item_dic['link'] = self.recipe_url\n",
    "        item_dic['img link']= self.recipe_img_link\n",
    "        item_dic['rating'] = self.recipe_rating\n",
    "        item_dic['number vote'] = self.number_vote\n",
    "        item_dic['difficulty'] = self.recipe_difficulty\n",
    "        item_dic['cooking time'] = self.recipe_time\n",
    "        item_dic['preparation time'] = self.preparation_time\n",
    "        item_dic['author'] = self.recipe_author\n",
    "        item_dic['steps'] = [self.recipe_steps]\n",
    "        item_dic['tips'] = self.tips\n",
    "        item_dic['ingredients'] = [self.recipe_ingredients]\n",
    "        item_dic['accessories'] = self.recipe_accessories\n",
    "        item_dic['number favorite'] = self.number_favorites\n",
    "        item_dic['variation link'] = self.variation_link\n",
    "        item_dic['variation name'] = self.variation_name\n",
    "        item_dic['portion'] = self.recipe_portion\n",
    "        item_dic['recipe created for'] = self.machine_name\n",
    "        item_dic['machine addtional info'] = self.machine_addtional_info\n",
    "#         item_dic['addtional categories'] = self.addtional_categories_dic\n",
    "        item_dic['addtional categories'] = [self.addtional_categories_name]\n",
    "        item_dic['if tested'] = self.iftested\n",
    "        return item_dic\n",
    "    \n",
    "    \n",
    "    def download_html(self,path):\n",
    "        #save html to file\n",
    "        response = urllib.request.urlopen(self.recipe_url)\n",
    "        webContent = response.read()\n",
    "\n",
    "        f = open(path+'/'+self.recipe_name+'.html', 'wb')\n",
    "        f.write(webContent)\n",
    "        f.close"
   ]
  },
  {
   "cell_type": "code",
   "execution_count": 3,
   "metadata": {},
   "outputs": [
    {
     "name": "stdout",
     "output_type": "stream",
     "text": [
      "/******************************/\n",
      "finish categories info download\n",
      "/******************************/\n"
     ]
    }
   ],
   "source": [
    "home_url = \"https://www.recipecommunity.com.au\"\n",
    "categories_info_file = get_categories()\n",
    "categories_data = pd.read_csv(categories_info_file, index_col=0)"
   ]
  },
  {
   "cell_type": "code",
   "execution_count": 4,
   "metadata": {
    "scrolled": true
   },
   "outputs": [
    {
     "name": "stdout",
     "output_type": "stream",
     "text": [
      "/*******************************/\n",
      "Start Download Category Baby food\n",
      "/*******************************/\n",
      "https://www.recipecommunity.com.au/categories/baby-food?page=1\n",
      "downloading Baby Biscuits (sugar free)\n",
      "https://www.recipecommunity.com.au/categories/baby-food?page=2\n",
      "downloading Baby Veggie Frittata\n"
     ]
    },
    {
     "ename": "NameError",
     "evalue": "name 'insert_icon_text' is not defined",
     "output_type": "error",
     "traceback": [
      "\u001b[0;31m---------------------------------------------------------------------------\u001b[0m",
      "\u001b[0;31mNameError\u001b[0m                                 Traceback (most recent call last)",
      "\u001b[0;32m<ipython-input-4-3e8bf418faaa>\u001b[0m in \u001b[0;36m<module>\u001b[0;34m\u001b[0m\n\u001b[1;32m     52\u001b[0m \u001b[0;34m\u001b[0m\u001b[0m\n\u001b[1;32m     53\u001b[0m     \u001b[0;31m#         #process recipe url\u001b[0m\u001b[0;34m\u001b[0m\u001b[0;34m\u001b[0m\u001b[0;34m\u001b[0m\u001b[0m\n\u001b[0;32m---> 54\u001b[0;31m             \u001b[0mrecipe_class\u001b[0m\u001b[0;34m.\u001b[0m\u001b[0mrecipe_download_details\u001b[0m\u001b[0;34m(\u001b[0m\u001b[0;34m)\u001b[0m\u001b[0;34m\u001b[0m\u001b[0;34m\u001b[0m\u001b[0m\n\u001b[0m\u001b[1;32m     55\u001b[0m \u001b[0;34m\u001b[0m\u001b[0m\n\u001b[1;32m     56\u001b[0m             \u001b[0;31m#create recipe data frame\u001b[0m\u001b[0;34m\u001b[0m\u001b[0;34m\u001b[0m\u001b[0;34m\u001b[0m\u001b[0m\n",
      "\u001b[0;32m<ipython-input-2-43cde78d24e0>\u001b[0m in \u001b[0;36mrecipe_download_details\u001b[0;34m(self)\u001b[0m\n\u001b[1;32m    130\u001b[0m \u001b[0;34m\u001b[0m\u001b[0m\n\u001b[1;32m    131\u001b[0m         \u001b[0;31m#process recipe step and ingredient list\u001b[0m\u001b[0;34m\u001b[0m\u001b[0;34m\u001b[0m\u001b[0;34m\u001b[0m\u001b[0m\n\u001b[0;32m--> 132\u001b[0;31m         \u001b[0mself\u001b[0m\u001b[0;34m.\u001b[0m\u001b[0mdownload_recipe_steps_ingredients\u001b[0m\u001b[0;34m(\u001b[0m\u001b[0mstep_list\u001b[0m\u001b[0;34m,\u001b[0m\u001b[0mingredient_list\u001b[0m\u001b[0;34m)\u001b[0m\u001b[0;34m\u001b[0m\u001b[0;34m\u001b[0m\u001b[0m\n\u001b[0m\u001b[1;32m    133\u001b[0m \u001b[0;34m\u001b[0m\u001b[0m\n\u001b[1;32m    134\u001b[0m         \u001b[0;31m#accessories list download\u001b[0m\u001b[0;34m\u001b[0m\u001b[0;34m\u001b[0m\u001b[0;34m\u001b[0m\u001b[0m\n",
      "\u001b[0;32m<ipython-input-2-43cde78d24e0>\u001b[0m in \u001b[0;36mdownload_recipe_steps_ingredients\u001b[0;34m(self, step_list, ingredient_list)\u001b[0m\n\u001b[1;32m     91\u001b[0m             \u001b[0;32mfor\u001b[0m \u001b[0mi\u001b[0m \u001b[0;32min\u001b[0m \u001b[0mrange\u001b[0m\u001b[0;34m(\u001b[0m\u001b[0mlen\u001b[0m\u001b[0;34m(\u001b[0m\u001b[0mstep_list\u001b[0m\u001b[0;34m)\u001b[0m\u001b[0;34m)\u001b[0m\u001b[0;34m:\u001b[0m\u001b[0;34m\u001b[0m\u001b[0;34m\u001b[0m\u001b[0m\n\u001b[1;32m     92\u001b[0m                 \u001b[0;32mif\u001b[0m \u001b[0;34m(\u001b[0m\u001b[0mstep_list\u001b[0m\u001b[0;34m[\u001b[0m\u001b[0mi\u001b[0m\u001b[0;34m]\u001b[0m\u001b[0;34m.\u001b[0m\u001b[0mimg\u001b[0m \u001b[0;34m!=\u001b[0m \u001b[0;32mNone\u001b[0m\u001b[0;34m)\u001b[0m\u001b[0;34m:\u001b[0m\u001b[0;34m\u001b[0m\u001b[0;34m\u001b[0m\u001b[0m\n\u001b[0;32m---> 93\u001b[0;31m                     \u001b[0mself\u001b[0m\u001b[0;34m.\u001b[0m\u001b[0mrecipe_steps\u001b[0m\u001b[0;34m.\u001b[0m\u001b[0mappend\u001b[0m\u001b[0;34m(\u001b[0m\u001b[0minsert_icon_text\u001b[0m\u001b[0;34m(\u001b[0m\u001b[0mstep_list\u001b[0m\u001b[0;34m[\u001b[0m\u001b[0mi\u001b[0m\u001b[0;34m]\u001b[0m\u001b[0;34m)\u001b[0m\u001b[0;34m)\u001b[0m\u001b[0;34m\u001b[0m\u001b[0;34m\u001b[0m\u001b[0m\n\u001b[0m\u001b[1;32m     94\u001b[0m                 \u001b[0;32melse\u001b[0m\u001b[0;34m:\u001b[0m\u001b[0;34m\u001b[0m\u001b[0;34m\u001b[0m\u001b[0m\n\u001b[1;32m     95\u001b[0m                     \u001b[0mself\u001b[0m\u001b[0;34m.\u001b[0m\u001b[0mrecipe_steps\u001b[0m\u001b[0;34m.\u001b[0m\u001b[0mappend\u001b[0m\u001b[0;34m(\u001b[0m\u001b[0;34m\" \"\u001b[0m\u001b[0;34m.\u001b[0m\u001b[0mjoin\u001b[0m\u001b[0;34m(\u001b[0m\u001b[0mstep_list\u001b[0m\u001b[0;34m[\u001b[0m\u001b[0mi\u001b[0m\u001b[0;34m]\u001b[0m\u001b[0;34m.\u001b[0m\u001b[0mtext\u001b[0m\u001b[0;34m.\u001b[0m\u001b[0msplit\u001b[0m\u001b[0;34m(\u001b[0m\u001b[0;34m)\u001b[0m\u001b[0;34m)\u001b[0m\u001b[0;34m)\u001b[0m\u001b[0;34m\u001b[0m\u001b[0;34m\u001b[0m\u001b[0m\n",
      "\u001b[0;31mNameError\u001b[0m: name 'insert_icon_text' is not defined"
     ]
    }
   ],
   "source": [
    "dataset_columns = ['link','img link','rating','number vote','number favorite',\n",
    "                   'difficulty','cooking time','portion','preparation time',\n",
    "                   'author','accessories','steps','tips','ingredients','if tested','recipe created for',\n",
    "                   'machine addtional info','addtional categories','variation link','variation name']\n",
    "\n",
    "\n",
    "categories_indices = categories_data.index\n",
    "counter = 0\n",
    "for category_index in categories_indices:\n",
    "    print('/*******************************/')\n",
    "    print('Start Download Category '+ str(category_index))\n",
    "    print('/*******************************/')\n",
    "    #creat folders and init file name\n",
    "    os.mkdir(str(category_index))\n",
    "    category_recipe_outfile = str(category_index) + '/'+str(category_index)+'.csv' \n",
    "    items_data = pd.DataFrame(columns=dataset_columns)\n",
    "    #get item url\n",
    "    category_url = categories_data['link'][category_index]\n",
    "#     print(item_url)\n",
    "    category_response = get(category_url)\n",
    "    category_html_soup = BeautifulSoup(category_response.text, 'html.parser')\n",
    "    \n",
    "    pager_container = category_html_soup.find('div',class_= 'pager')\n",
    "    lastpage_extend = pager_container.a['href']\n",
    "    pager_number = re.findall('[0-9]+', lastpage_extend)[0]\n",
    "    pager_number = int(pager_number)\n",
    "    \n",
    "    \n",
    "    for current_page in range(1,pager_number+1): \n",
    "        \n",
    "        page_url= category_url + '?page=' + str(current_page)\n",
    "        print(page_url)\n",
    "                        \n",
    "        #download url contents and apply beautifulsoup\n",
    "        item_response = get(page_url)\n",
    "        item_html_soup = BeautifulSoup(item_response.text, 'html.parser')\n",
    "\n",
    "\n",
    "        #find items on the first page\n",
    "        items_container = item_html_soup.find_all('div', class_ = 'thumbnail result-recipe result-grid-display')\n",
    "    #     print(len(items_container))\n",
    "        \n",
    "        for item in items_container:\n",
    "            #init recipe class\n",
    "            recipe_class = recipe_info()\n",
    "            recipe_class.item_info_download(item)\n",
    "            print(\"downloading \"+ recipe_class.recipe_name)\n",
    "\n",
    "            #download html\n",
    "            html_path = str(category_index)\n",
    "            recipe_class.download_html(html_path)\n",
    "            \n",
    "    #         #process recipe url\n",
    "            recipe_class.recipe_download_details()\n",
    "\n",
    "            #create recipe data frame\n",
    "            item_dic = recipe_class.create_data_frame()\n",
    "            item_info = pd.DataFrame(item_dic,index=[recipe_class.recipe_name])\n",
    "            items_data = items_data.append(item_info)\n",
    "            counter = counter +1\n",
    "            if counter >= 1:\n",
    "                break\n",
    "    print('/*******************************/')\n",
    "    print('Category '+ str(category_index)+' saved')\n",
    "    print('/*******************************/')\n",
    "    items_data.to_csv(category_recipe_outfile, index = True,sep=\",\")\n",
    "        #finish current pager crawler\n",
    "    #finish all pages\n",
    "    break"
   ]
  },
  {
   "cell_type": "code",
   "execution_count": 10,
   "metadata": {},
   "outputs": [],
   "source": [
    "item_url = 'https://www.recipecommunity.com.au/categories/baby-food?page=6'"
   ]
  },
  {
   "cell_type": "code",
   "execution_count": 72,
   "metadata": {},
   "outputs": [],
   "source": [
    "recipe_response = get('https://www.recipecommunity.com.au/baby-food-recipes/baby-banana-oatmeal/k99sgtcx-1cbf9-064157-beea0-u7qhz4ew')\n",
    "recipe_html_soup = BeautifulSoup(recipe_response.text, 'html.parser')\n",
    "\n",
    "#find recipe steps list\n",
    "step_container = recipe_html_soup.find('ol', class_ = 'steps-list')\n",
    "step_list = step_container.find_all('li')\n",
    "\n"
   ]
  },
  {
   "cell_type": "code",
   "execution_count": 75,
   "metadata": {},
   "outputs": [
    {
     "name": "stdout",
     "output_type": "stream",
     "text": [
      "['Add the rolled oats to the #Closed lid#', 'Add the remaining ingredients and cook 3 minutes, 100°C, speed #Gentle stir setting#', 'Depending on the age of your baby, add more boiling water and mix until you get the smoothness required.']\n"
     ]
    }
   ],
   "source": [
    "recipe_steps = []\n",
    "if len(step_list) == 1:\n",
    "    step_list_container = step_list[0].find_all('p')\n",
    "    if (len(step_list_container) > 1):\n",
    "        for step in step_list_container:\n",
    "            step_text = step.text.strip()\n",
    "            if step_text != '':\n",
    "                recipe_steps.append(step_text)\n",
    "    elif(sum(1 for e in step_list[0].childGenerator())>4):\n",
    "        for step in step_list[0].childGenerator():\n",
    "            if not (step and isinstance(step,NavigableString)):\n",
    "                continue\n",
    "            elif(str(step).strip() ==''):\n",
    "                continue\n",
    "            else:\n",
    "                recipe_steps.append(str(step).strip())\n",
    "    else:\n",
    "        for i in range(len(step_list)):\n",
    "            recipe_steps.append(\" \".join(step_list[i].text.split()))\n",
    "\n",
    "else:\n",
    "    for i in range(len(step_list)):\n",
    "        if (step_list[i].img != None):\n",
    "            recipe_steps.append(insert_icon_text(step_list[i]))\n",
    "        else:\n",
    "            recipe_steps.append(\" \".join(step_list[i].text.split()))\n",
    "print(recipe_steps)"
   ]
  },
  {
   "cell_type": "code",
   "execution_count": 37,
   "metadata": {},
   "outputs": [
    {
     "data": {
      "text/plain": [
       "<li>\n",
       "<p></p><p class=\"MsoNormal\">Add olive oil to vegetables and sauté 6 min/100c/Sp 2 reverse <img alt=\"Counter-clockwise operation\" class=\"tmrc-icons\" src=\"/bundles/tmrcfront/images/tinymce_icons/counterclock.png\" title=\"Counter-clockwise operation\">.</img></p><p> </p>\n",
       "</li>"
      ]
     },
     "execution_count": 37,
     "metadata": {},
     "output_type": "execute_result"
    }
   ],
   "source": [
    "step_list[2]"
   ]
  },
  {
   "cell_type": "code",
   "execution_count": 74,
   "metadata": {},
   "outputs": [],
   "source": [
    "def insert_icon_text(step):\n",
    "    img_string = step.img\n",
    "    operation = '#'+img_string['title']+'#'\n",
    "    step_icon = str(step).replace(str(img_string),operation)\n",
    "    step_icon_soup = BeautifulSoup(step_icon, 'html.parser')\n",
    "    return step_icon_soup.text.strip()"
   ]
  },
  {
   "cell_type": "code",
   "execution_count": 52,
   "metadata": {},
   "outputs": [
    {
     "name": "stdout",
     "output_type": "stream",
     "text": [
      "\n",
      "Add olive oil to vegetables and sauté 6 min/100c/Sp 2 reverse #Counter-clockwise operation# \n",
      "\n"
     ]
    }
   ],
   "source": []
  },
  {
   "cell_type": "code",
   "execution_count": 10,
   "metadata": {},
   "outputs": [],
   "source": [
    "recipe_response = get('https://www.recipecommunity.com.au/baby-food-recipes/apple-kiwi-and-clove-puree-for-reusable-pouches/kl3uxs3v-0745c-386041-cfcd2-c0f9cw9z')\n",
    "# recipe_response = get('https://www.recipecommunity.com.au/baby-food-recipes/baby-biscuits-sugar-free/vdttw1rs-09448-352970-cfcd2-icxafnee')\n",
    "recipe_html_soup = BeautifulSoup(recipe_response.text, 'html.parser')\n",
    "\n",
    "#download variations \n",
    "variations_container = recipe_html_soup.find('div',class_= 'col-sm-12 sidebar-box variant-box')\n",
    "if (variations_container != None):\n",
    "    variation_link = variations_container.a['href']\n",
    "    variation_name = variations_container.a.text\n",
    "\n",
    "#find recipe steps list\n",
    "step_container = recipe_html_soup.find('ol', class_ = 'steps-list')\n",
    "step_list = step_container.find_all('li')\n",
    "\n",
    "#find ingredients list\n",
    "ingredients_container = recipe_html_soup.find('div', class_ = 'ingredients')\n",
    "ingredient_list = ingredients_container.find_all('li')\n",
    "\n",
    "#process recipe step and ingredient list\n",
    "# download_recipe_steps_ingredients(step_list,ingredient_list)\n",
    "\n",
    "#accessories list download\n",
    "accessories_container = recipe_html_soup.find('div', class_ = 'accessories-list')\n",
    "if accessories_container == None:\n",
    "    accessories = []\n",
    "else:\n",
    "    tools_list = accessories_container.find_all(\"meta\")\n",
    "    accessories = []\n",
    "    for tool in tools_list:\n",
    "        accessories.append(tool.get(\"content\"))\n",
    "    recipe_accessories = [accessories]\n",
    "    \n",
    "addtional_info_container = recipe_html_soup.find('div',class_= 'additional-info')\n",
    "addtion_info_list = addtional_info_container.find_all('li')"
   ]
  },
  {
   "cell_type": "code",
   "execution_count": 157,
   "metadata": {},
   "outputs": [
    {
     "data": {
      "text/plain": [
       "''"
      ]
     },
     "execution_count": 157,
     "metadata": {},
     "output_type": "execute_result"
    }
   ],
   "source": [
    "time_container = addtion_info_list[0]\n",
    "time = time_container.h5.text\n",
    "preparation_time_container = time_container.find_all('div',class_='smallText')\n",
    "preparation_time = preparation_time_container[0].find(\"span\", id=\"preparation-time-final\").text.strip()"
   ]
  },
  {
   "cell_type": "code",
   "execution_count": 19,
   "metadata": {},
   "outputs": [
    {
     "name": "stdout",
     "output_type": "stream",
     "text": [
      "not tested\n"
     ]
    }
   ],
   "source": [
    "iftested_container = recipe_html_soup.find('span','recipe-testing-status-text')\n",
    "iftested = re.findall('\\w+\\stested', iftested_container.text)[0]\n",
    "print(iftested)"
   ]
  },
  {
   "cell_type": "code",
   "execution_count": 137,
   "metadata": {},
   "outputs": [
    {
     "name": "stdout",
     "output_type": "stream",
     "text": [
      "Baking/Cooking\n"
     ]
    }
   ],
   "source": [
    "cooking_method_container = preparation_time_container[1].text.strip()\n",
    "print(cooking_method_container)"
   ]
  },
  {
   "cell_type": "code",
   "execution_count": 140,
   "metadata": {},
   "outputs": [
    {
     "name": "stdout",
     "output_type": "stream",
     "text": [
      "<li>\n",
      "<div class=\"step-container\">\n",
      "<div class=\"edit-icon\"></div>\n",
      "<span class=\"step-number\">8</span>\n",
      "<div class=\"appliances-list\">\n",
      "<ul>\n",
      "<li class=\"media appliance-version no-border\">\n",
      "<div class=\"media-left\">\n",
      "<img alt=\"Appliance TM 31 image\" class=\"media-object\" data-holder-rendered=\"true\" data-src=\"holder.js/50x50\" src=\"//tmrcv3-common.s3.amazonaws.com/appliances/tm31_small.png\" style=\"\"/>\n",
      "</div>\n",
      "<div class=\"media-body\">\n",
      "<span class=\"smallText\">\n",
      "                Recipe is created for\n",
      "              </span>\n",
      "<h5 class=\"media-heading\">TM 31</h5>\n",
      "</div>\n",
      "</li>\n",
      "</ul>\n",
      "</div>\n",
      "</div>\n",
      "</li>\n"
     ]
    }
   ],
   "source": [
    "machine_contianer = addtion_info_list[2]\n",
    "print(machine_contianer)"
   ]
  },
  {
   "cell_type": "code",
   "execution_count": 142,
   "metadata": {},
   "outputs": [
    {
     "name": "stdout",
     "output_type": "stream",
     "text": [
      "None\n"
     ]
    }
   ],
   "source": [
    "machine_name = machine_contianer.h5.text\n",
    "machine_addtional_info = machine_contianer.find('div',class_=\"margin-top-10\")\n",
    "if(machine_addtional_info!=None):\n",
    "    machine_addtional_info = machine_addtional_info.text\n",
    "print(machine_addtional_info)"
   ]
  },
  {
   "cell_type": "code",
   "execution_count": 159,
   "metadata": {},
   "outputs": [
    {
     "data": {
      "text/plain": [
       "{}"
      ]
     },
     "execution_count": 159,
     "metadata": {},
     "output_type": "execute_result"
    }
   ],
   "source": [
    "addtional_categories_container = addtion_info_list[4]\n",
    "addtional_categories_list =addtional_categories_container.find_all('a',class_='catText preventDefault')\n",
    "addtional_categories_dic ={}\n",
    "for category in addtional_categories_list:\n",
    "    addtional_categories_dic[category.text] = category['href']\n",
    "addtional_categories_dic"
   ]
  },
  {
   "cell_type": "code",
   "execution_count": 160,
   "metadata": {},
   "outputs": [
    {
     "name": "stdout",
     "output_type": "stream",
     "text": [
      "<div class=\"tips\">\n",
      "<div class=\"step-container\">\n",
      "<div class=\"edit-icon\"></div>\n",
      "<span class=\"step-number\">11</span>\n",
      "<h2 class=\"h3\">Tip</h2>\n",
      "<p><p> </p> </p>\n",
      "</div>\n",
      "</div>\n"
     ]
    }
   ],
   "source": [
    "tips_container = recipe_html_soup.find('div',class_='tips')\n",
    "tips = tips_container.find('p').text\n",
    "print(tips_container)\n"
   ]
  },
  {
   "cell_type": "code",
   "execution_count": 161,
   "metadata": {},
   "outputs": [
    {
     "name": "stdout",
     "output_type": "stream",
     "text": [
      "  \n"
     ]
    }
   ],
   "source": [
    "tips = tips_container.find('p').text\n",
    "print(tips)"
   ]
  },
  {
   "cell_type": "code",
   "execution_count": 155,
   "metadata": {},
   "outputs": [
    {
     "name": "stdout",
     "output_type": "stream",
     "text": [
      "\n",
      " 6 portion(s)\n",
      "\n"
     ]
    }
   ],
   "source": [
    "portion= ingredients_container.find('p',class_='padding-bottom-10').text\n",
    "print(portion)"
   ]
  },
  {
   "cell_type": "code",
   "execution_count": null,
   "metadata": {},
   "outputs": [],
   "source": []
  }
 ],
 "metadata": {
  "kernelspec": {
   "display_name": "Python 3",
   "language": "python",
   "name": "python3"
  },
  "language_info": {
   "codemirror_mode": {
    "name": "ipython",
    "version": 3
   },
   "file_extension": ".py",
   "mimetype": "text/x-python",
   "name": "python",
   "nbconvert_exporter": "python",
   "pygments_lexer": "ipython3",
   "version": "3.6.9"
  }
 },
 "nbformat": 4,
 "nbformat_minor": 2
}
