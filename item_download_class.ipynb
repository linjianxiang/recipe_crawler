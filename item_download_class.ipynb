{
 "cells": [
  {
   "cell_type": "code",
   "execution_count": 6,
   "metadata": {},
   "outputs": [],
   "source": [
    "from categories_download import get_categories\n",
    "from requests import get\n",
    "from bs4 import BeautifulSoup,NavigableString\n",
    "import pandas as pd\n",
    "import os\n",
    "import re\n",
    "import pdfkit\n",
    "import sys"
   ]
  },
  {
   "cell_type": "code",
   "execution_count": 34,
   "metadata": {},
   "outputs": [],
   "source": [
    "class recipe_info:\n",
    "    def __init__(self):\n",
    "        self.recipe_name = None\n",
    "        self.recipe_url = None\n",
    "        self.recipe_img_link = None\n",
    "        self.recipe_rating = None\n",
    "        self.recipe_difficulty = None\n",
    "        self.recipe_time = None\n",
    "        self.recipe_author = None\n",
    "        self.recipe_steps = None\n",
    "        self.recipe_ingredients = None\n",
    "        self.recipe_accessories = None\n",
    "        self.number_vote = None\n",
    "        self.number_favorites = None\n",
    "        self.variation_link = None\n",
    "        self.variation_name = None\n",
    "        \n",
    "    def item_info_download(self,item):\n",
    "        #download author\n",
    "        author_container = item.find_all('div',class_='item-author')[0]\n",
    "        self.recipe_author = author_container.a.text\n",
    "#         print(item_author)\n",
    "        #download rating\n",
    "        item_rating_container = item.find('div',class_ = 'item-rating clearfix')\n",
    "        if (item_rating_container != None):\n",
    "            self.recipe_rating = item_rating_container.div['data-average']\n",
    "#             print(self.recipe_rating)\n",
    "            #downloadd number of vote\n",
    "            if (item_rating_container.span != None):\n",
    "                vote_string = item_rating_container.span.text.strip()\n",
    "                self.number_vote = re.findall('[0-9]+', vote_string)\n",
    "\n",
    "        favourite_container = item.find('div',class_ = 'col-xs-2 favourite-inf')\n",
    "        self.number_favorites = favourite_container.text.strip()\n",
    "#         print(self.favorites)\n",
    "        #download difficulty\n",
    "        item_difficulty_container = item.find('div',class_ = 'col-xs-3 difficulty-inf')\n",
    "        self.recipe_difficulty = item_difficulty_container.text.strip()\n",
    "#         print(item_difficulty)\n",
    "        #download cooking time\n",
    "        item_time_container = item.find('div',class_ = 'col-xs-3 cooking-time-inf')\n",
    "        self.recipe_time = item_time_container.text.strip()\n",
    "#         print(item_time)\n",
    "        #download name\n",
    "        self.recipe_name = item.a['title']\n",
    "#         print(item_name)\n",
    "        #download image link\n",
    "        self.recipe_img_link = item.img['src']\n",
    "#         print(item_img_link)\n",
    "        #download item url\n",
    "        item_url_add = item.a['href']\n",
    "        self.recipe_url = home_url+item_url_add\n",
    "#         print(item_extend_url)\n",
    "        \n",
    "\n",
    "    def download_recipe_steps_ingredients(self, step_list,ingredient_list):\n",
    "        self.recipe_steps = []\n",
    "        if len(step_list) == 1:\n",
    "            step_list_container = step_list[0].find_all('p')\n",
    "            if (len(step_list_container) > 1):\n",
    "                for step in step_list_container:\n",
    "                    step_text = step.text.strip()\n",
    "                    if step_text != '':\n",
    "                        self.recipe_steps.append(step_text)\n",
    "            elif(sum(1 for e in step_list[0].childGenerator())>4):\n",
    "                for step in step_list[0].childGenerator():\n",
    "                    if not (step and isinstance(step,NavigableString)):\n",
    "                        continue\n",
    "                    elif(str(step).strip() ==''):\n",
    "                        continue\n",
    "                    else:\n",
    "                        self.recipe_steps.append(str(step).strip())\n",
    "            else:\n",
    "                self.recipe_steps.append(\" \".join(step_list[0].text.split()))\n",
    "        else:\n",
    "#             try:\n",
    "            for i in range(len(step_list)):\n",
    "                self.recipe_steps.append(\" \".join(step_list[i].text.split()))\n",
    "#             except:\n",
    "#                 for i in range(len(step_list)):\n",
    "#                     self.recipe_steps.append(step_list[i].p.text)\n",
    "        \n",
    "        self.recipe_ingredients = []\n",
    "        #append ingredients to dictionary\n",
    "        for i in range(len(ingredient_list)):\n",
    "             self.recipe_ingredients.append(\" \".join(ingredient_list[i].text.split()))\n",
    "        \n",
    "    def recipe_download_details(self):\n",
    "        recipe_response = get(self.recipe_url)\n",
    "        recipe_html_soup = BeautifulSoup(recipe_response.text, 'html.parser')\n",
    "        \n",
    "        #download variations \n",
    "        variations_container = recipe_html_soup.find('div',class_= 'col-sm-12 sidebar-box variant-box')\n",
    "        if (variations_container != None):\n",
    "            self.variation_link = variations_container.a['href']\n",
    "            self.variation_name = variations_container.a.text\n",
    "        \n",
    "        #find recipe steps list\n",
    "        step_container = recipe_html_soup.find('ol', class_ = 'steps-list')\n",
    "        step_list = step_container.find_all('li')\n",
    "\n",
    "        #find ingredients list\n",
    "        ingredients_container = recipe_html_soup.find('div', class_ = 'ingredients')\n",
    "        ingredient_list = ingredients_container.find_all('li')\n",
    "    \n",
    "        #process recipe step and ingredient list\n",
    "        self.download_recipe_steps_ingredients(step_list,ingredient_list)\n",
    "        \n",
    "        #accessories list download\n",
    "        accessories_container = recipe_html_soup.find('div', class_ = 'accessories-list')\n",
    "        if accessories_container == None:\n",
    "            self.accessories = []\n",
    "        else:\n",
    "            tools_list = accessories_container.find_all(\"meta\")\n",
    "            accessories = []\n",
    "            for tool in tools_list:\n",
    "                accessories.append(tool.get(\"content\"))\n",
    "            self.recipe_accessories = [accessories]\n",
    "            \n",
    "    def create_data_frame(self):\n",
    "        #create data frame\n",
    "        item_dic = {}\n",
    "        item_dic['link'] = self.recipe_url\n",
    "        item_dic['img link']= self.recipe_img_link\n",
    "        item_dic['rating'] = self.recipe_rating\n",
    "        item_dic['number vote'] = self.number_vote\n",
    "        item_dic['difficulty'] = self.recipe_difficulty\n",
    "        item_dic['cooking time'] = self.recipe_time\n",
    "        item_dic['author'] = self.recipe_author\n",
    "        item_dic['steps'] = [self.recipe_steps]\n",
    "        item_dic['ingredients'] = [self.recipe_ingredients]\n",
    "        item_dic['accessories'] = self.recipe_accessories\n",
    "        item_dic['number favorite'] = self.number_favorites\n",
    "        item_dic['variation link'] = self.variation_link\n",
    "        item_dic['variation name'] = self.variation_name\n",
    "        \n",
    "        return item_dic\n"
   ]
  },
  {
   "cell_type": "code",
   "execution_count": 8,
   "metadata": {},
   "outputs": [
    {
     "name": "stdout",
     "output_type": "stream",
     "text": [
      "/******************************/\n",
      "finish categories info download\n",
      "/******************************/\n"
     ]
    }
   ],
   "source": [
    "home_url = \"https://www.recipecommunity.com.au\"\n",
    "categories_info_file = get_categories()\n",
    "categories_data = pd.read_csv(categories_info_file, index_col=0)"
   ]
  },
  {
   "cell_type": "code",
   "execution_count": 35,
   "metadata": {
    "scrolled": true
   },
   "outputs": [
    {
     "name": "stdout",
     "output_type": "stream",
     "text": [
      "/*******************************/\n",
      "Start Download Category Baby food\n",
      "/*******************************/\n",
      "https://www.recipecommunity.com.au/categories/baby-food?page=1\n",
      "downloading Baby Biscuits (sugar free)\n",
      "https://www.recipecommunity.com.au/categories/baby-food?page=2\n",
      "downloading Baby Veggie Frittata\n",
      "https://www.recipecommunity.com.au/categories/baby-food?page=3\n",
      "downloading Cous Cous Patties\n",
      "https://www.recipecommunity.com.au/categories/baby-food?page=4\n",
      "downloading Baby Custard - sugar free whole egg custard\n",
      "https://www.recipecommunity.com.au/categories/baby-food?page=5\n",
      "downloading baby food (4 months +)\n",
      "https://www.recipecommunity.com.au/categories/baby-food?page=6\n",
      "downloading Sweet Potato and Lamb Casserole\n",
      "https://www.recipecommunity.com.au/categories/baby-food?page=7\n",
      "downloading Sugar Free Strawberry Yogurt Muffins for Babies\n",
      "https://www.recipecommunity.com.au/categories/baby-food?page=8\n",
      "downloading Baby First Food\n",
      "https://www.recipecommunity.com.au/categories/baby-food?page=9\n",
      "downloading Gluten Free Baby Cereal with Quinoa\n",
      "https://www.recipecommunity.com.au/categories/baby-food?page=10\n",
      "downloading baby food (6 months +)\n",
      "https://www.recipecommunity.com.au/categories/baby-food?page=11\n",
      "downloading Beef and three-vegetable puree\n",
      "https://www.recipecommunity.com.au/categories/baby-food?page=12\n",
      "downloading Apple, Cinnamon and Quinoa Porridge\n",
      "https://www.recipecommunity.com.au/categories/baby-food?page=13\n",
      "downloading Baby banana oatmeal\n",
      "https://www.recipecommunity.com.au/categories/baby-food?page=14\n",
      "downloading Huevo duro\n",
      "https://www.recipecommunity.com.au/categories/baby-food?page=15\n",
      "downloading QUICK CARROT BABY PUREE\n",
      "https://www.recipecommunity.com.au/categories/baby-food?page=16\n",
      "downloading baby food (6 months +)\n",
      "https://www.recipecommunity.com.au/categories/baby-food?page=17\n",
      "downloading Baby moroccan lamb with vegetables\n",
      "https://www.recipecommunity.com.au/categories/baby-food?page=18\n",
      "downloading Tuna and Sweet Potato Patties\n",
      "/*******************************/\n",
      "Category Baby food saved\n",
      "/*******************************/\n"
     ]
    }
   ],
   "source": [
    "categories_indices = categories_data.index\n",
    "counter = 0\n",
    "for category_index in categories_indices:\n",
    "    print('/*******************************/')\n",
    "    print('Start Download Category '+ str(category_index))\n",
    "    print('/*******************************/')\n",
    "    #init \n",
    "    os.mkdir(str(category_index))\n",
    "    category_recipe_outfile = str(category_index) + '/'+str(category_index)+'.csv' \n",
    "    items_data = pd.DataFrame(columns=['link','img link','rating','number vote',\n",
    "                                       'number favorite','variation link','variation name',\n",
    "                                       'difficulty','cooking time','author','accessories','steps','ingredients'])\n",
    "    os.mkdir(str(category_index+'data'))\n",
    "    #get item url\n",
    "    category_url = categories_data['link'][category_index]\n",
    "#     print(item_url)\n",
    "    category_response = get(category_url)\n",
    "    category_html_soup = BeautifulSoup(category_response.text, 'html.parser')\n",
    "    \n",
    "    pager_container = category_html_soup.find('div',class_= 'pager')\n",
    "    lastpage_extend = pager_container.a['href']\n",
    "    pager_number = re.findall('[0-9]+', lastpage_extend)[0]\n",
    "    pager_number = int(pager_number)\n",
    "    \n",
    "    \n",
    "    for current_page in range(1,pager_number+1): \n",
    "        \n",
    "        page_url= category_url + '?page=' + str(current_page)\n",
    "        print(page_url)\n",
    "        #download url contents and apply beautifulsoup\n",
    "        item_response = get(page_url)\n",
    "        item_html_soup = BeautifulSoup(item_response.text, 'html.parser')\n",
    "\n",
    "\n",
    "        #find items on the first page\n",
    "        items_container = item_html_soup.find_all('div', class_ = 'thumbnail result-recipe result-grid-display')\n",
    "    #     print(len(items_container))\n",
    "        \n",
    "        for item in items_container:\n",
    "            #init recipe class\n",
    "            recipe_class = recipe_info()\n",
    "            recipe_class.item_info_download(item)\n",
    "            print(\"downloading \"+ recipe_class.recipe_name)\n",
    "\n",
    "    #         #process recipe url\n",
    "            recipe_class.recipe_download_details()\n",
    "\n",
    "            #create recipe data frame\n",
    "            item_dic = recipe_class.create_data_frame()\n",
    "            item_info = pd.DataFrame(item_dic,index=[recipe_class.recipe_name])\n",
    "            items_data = items_data.append(item_info)\n",
    "            counter = counter +1\n",
    "            if counter >= 1:\n",
    "                break\n",
    "    print('/*******************************/')\n",
    "    print('Category '+ str(category_index)+' saved')\n",
    "    print('/*******************************/')\n",
    "    items_data.to_csv(category_recipe_outfile, index = True,sep=\",\")\n",
    "        #finish current pager crawler\n",
    "    #finish all pages\n",
    "    break"
   ]
  },
  {
   "cell_type": "code",
   "execution_count": 10,
   "metadata": {},
   "outputs": [],
   "source": [
    "item_url = 'https://www.recipecommunity.com.au/categories/baby-food?page=6'"
   ]
  },
  {
   "cell_type": "code",
   "execution_count": 11,
   "metadata": {},
   "outputs": [],
   "source": [
    "recipe_response = get('https://www.recipecommunity.com.au/baby-food-recipes/beef-and-three-vegetable-puree/1etj02hr-9d870-628097-beea0-13numfvs')\n",
    "recipe_html_soup = BeautifulSoup(recipe_response.text, 'html.parser')\n",
    "\n",
    "#find recipe steps list\n",
    "step_container = recipe_html_soup.find('ol', class_ = 'steps-list')\n",
    "step_list = step_container.find_all('li')\n",
    "\n",
    "#find ingredients list\n",
    "ingredients_container = recipe_html_soup.find('div', class_ = 'ingredients')\n",
    "ingredient_list = ingredients_container.find_all('li')\n",
    "\n",
    "recipe_steps = []\n",
    "try:\n",
    "    for i in range(len(step_list)):\n",
    "        recipe_steps.append(\" \".join(step_list[i].text.split()))\n",
    "except:\n",
    "    for i in range(len(step_list)):\n",
    "        recipe_steps.append(step_list[i].p.text)\n",
    "\n",
    "recipe_ingredients = []\n",
    "#append ingredients to dictionary\n",
    "for i in range(len(ingredient_list)):\n",
    "     recipe_ingredients.append(\" \".join(ingredient_list[i].text.split()))\n",
    "\n"
   ]
  },
  {
   "cell_type": "code",
   "execution_count": 12,
   "metadata": {},
   "outputs": [
    {
     "data": {
      "text/plain": [
       "[<li style=\"list-style-type:none\">\n",
       "                                     Place beef into mixing bowl and press briefly<br/>\n",
       " 2 – 3 times/1 sec/<img alt=\"Closed lid\" class=\"tmrc-icons\" src=\"/bundles/tmrcfront/images/tinymce_icons/locked.png\" title=\"Closed lid\">/Turbo. Set aside.<br/>\n",
       " <br/>\n",
       " Place carrot and pumpkin into mixing bowl and press<br/>\n",
       " briefly 2 – 3 times/1 sec/<img alt=\"Closed lid\" class=\"tmrc-icons\" src=\"/bundles/tmrcfront/images/tinymce_icons/locked.png\" title=\"Closed lid\">/Turbo.<br/>\n",
       " <br/>\n",
       " Add water and reserved meat to mixing bowl and cook<br/>\n",
       " 8 min/100°C/speed 2.<br/>\n",
       " <br/>\n",
       " Add olive oil and peas and cook 2 min/100°C/speed 2<br/>\n",
       " and then purée 20 sec/speed 8 or until desired<br/>\n",
       " consistency is achieved.<br/>\n",
       " <br/>\n",
       " Set aside one serving and freeze the remainder in portions.<br/>\n",
       " If needed, add a little water or your baby’s milk before<br/>\n",
       " serving to achieve the correct consistency.\n",
       "                                 </img></img></li>]"
      ]
     },
     "execution_count": 12,
     "metadata": {},
     "output_type": "execute_result"
    }
   ],
   "source": [
    "step_list"
   ]
  },
  {
   "cell_type": "code",
   "execution_count": 29,
   "metadata": {},
   "outputs": [],
   "source": [
    "recipe_steps = []\n",
    "if len(step_list) == 1:\n",
    "    step_list_container = step_list[0].find_all('p')\n",
    "    if (len(step_list_container) > 1):\n",
    "        for step in step_list_container:\n",
    "            step_text = step.text.strip()\n",
    "            if step_text != '':\n",
    "                recipe_steps.append(step_text)\n",
    "    elif(sum(1 for e in step_list[0].childGenerator())>4):\n",
    "        for step in step_list[0].childGenerator():\n",
    "            if not (step and isinstance(step,NavigableString)):\n",
    "                continue\n",
    "            elif(str(step).strip() ==''):\n",
    "                continue\n",
    "            else:\n",
    "                recipe_steps.append(str(step).strip())\n",
    "    else:\n",
    "        for i in range(len(step_list)):\n",
    "            recipe_steps.append(\" \".join(step_list[i].text.split()))\n",
    "\n",
    "else:\n",
    "#             try:\n",
    "    for i in range(len(step_list)):\n",
    "        recipe_steps.append(\" \".join(step_list[i].text.split()))"
   ]
  },
  {
   "cell_type": "code",
   "execution_count": 30,
   "metadata": {},
   "outputs": [
    {
     "data": {
      "text/plain": [
       "['Place beef into mixing bowl and press briefly 2 – 3 times/1 sec//Turbo. Set aside. Place carrot and pumpkin into mixing bowl and press briefly 2 – 3 times/1 sec//Turbo. Add water and reserved meat to mixing bowl and cook 8 min/100°C/speed 2. Add olive oil and peas and cook 2 min/100°C/speed 2 and then purée 20 sec/speed 8 or until desired consistency is achieved. Set aside one serving and freeze the remainder in portions. If needed, add a little water or your baby’s milk before serving to achieve the correct consistency.']"
      ]
     },
     "execution_count": 30,
     "metadata": {},
     "output_type": "execute_result"
    }
   ],
   "source": [
    "recipe_steps"
   ]
  },
  {
   "cell_type": "code",
   "execution_count": 15,
   "metadata": {},
   "outputs": [
    {
     "name": "stdout",
     "output_type": "stream",
     "text": [
      "<class 'bs4.element.NavigableString'>\n",
      "<class 'bs4.element.Tag'>\n",
      "0\n",
      "<class 'bs4.element.NavigableString'>\n",
      "<class 'bs4.element.Tag'>\n",
      "0\n",
      "['\\n                                    Place beef into mixing bowl and press briefly', '\\r\\n2 – 3 times/1 sec/']\n"
     ]
    }
   ],
   "source": [
    "recipe_steps = []\n",
    "for step in step_list[0].childGenerator():\n",
    "    print(type(step))\n",
    "    if not (step and isinstance(step,NavigableString)):\n",
    "        print(0)\n",
    "        continue\n",
    "    elif(str(step).strip() ==''):\n",
    "        print(1)\n",
    "        continue\n",
    "    else:\n",
    "#         recipe_steps.append(str(step).strip())\n",
    "        recipe_steps.append(step)\n",
    "print(recipe_steps)"
   ]
  },
  {
   "cell_type": "code",
   "execution_count": 267,
   "metadata": {},
   "outputs": [
    {
     "data": {
      "text/plain": [
       "'<img alt=\"Closed lid\" class=\"tmrc-icons\" src=\"/bundles/tmrcfront/images/tinymce_icons/locked.png\" title=\"Closed lid\">/Turbo. Set aside.<br/>\\n<br/>\\r\\nPlace carrot and pumpkin into mixing bowl and press<br/>\\r\\nbriefly 2 – 3 times/1 sec/<img alt=\"Closed lid\" class=\"tmrc-icons\" src=\"/bundles/tmrcfront/images/tinymce_icons/locked.png\" title=\"Closed lid\">/Turbo.<br/>\\n<br/>\\r\\nAdd water and reserved meat to mixing bowl and cook<br/>\\r\\n8 min/100°C/speed 2.<br/>\\n<br/>\\r\\nAdd olive oil and peas and cook 2 min/100°C/speed 2<br/>\\r\\nand then purée 20 sec/speed 8 or until desired<br/>\\r\\nconsistency is achieved.<br/>\\n<br/>\\r\\nSet aside one serving and freeze the remainder in portions.<br/>\\r\\nIf needed, add a little water or your baby’s milk before<br/>\\r\\nserving to achieve the correct consistency.\\n                                </img></img>'"
      ]
     },
     "execution_count": 267,
     "metadata": {},
     "output_type": "execute_result"
    }
   ],
   "source": [
    "isinstance(step,NavigableString)\n",
    "str(step).strip()\n"
   ]
  },
  {
   "cell_type": "code",
   "execution_count": 270,
   "metadata": {},
   "outputs": [
    {
     "data": {
      "text/plain": [
       "'Place beef into mixing bowl and press briefly 2 – 3 times/1 sec//Turbo. Set aside. Place carrot and pumpkin into mixing bowl and press briefly 2 – 3 times/1 sec//Turbo. Add water and reserved meat to mixing bowl and cook 8 min/100°C/speed 2. Add olive oil and peas and cook 2 min/100°C/speed 2 and then purée 20 sec/speed 8 or until desired consistency is achieved. Set aside one serving and freeze the remainder in portions. If needed, add a little water or your baby’s milk before serving to achieve the correct consistency.'"
      ]
     },
     "execution_count": 270,
     "metadata": {},
     "output_type": "execute_result"
    }
   ],
   "source": [
    "\" \".join(step_list[0].text.split())"
   ]
  },
  {
   "cell_type": "code",
   "execution_count": 217,
   "metadata": {},
   "outputs": [
    {
     "data": {
      "text/plain": [
       "56"
      ]
     },
     "execution_count": 217,
     "metadata": {},
     "output_type": "execute_result"
    }
   ],
   "source": [
    "sys.getsizeof(step_list[0].childGenerator())"
   ]
  },
  {
   "cell_type": "code",
   "execution_count": 281,
   "metadata": {},
   "outputs": [
    {
     "data": {
      "text/plain": [
       "611"
      ]
     },
     "execution_count": 281,
     "metadata": {},
     "output_type": "execute_result"
    }
   ],
   "source": [
    "len(step_list[0].text)"
   ]
  },
  {
   "cell_type": "code",
   "execution_count": 220,
   "metadata": {},
   "outputs": [
    {
     "data": {
      "text/plain": [
       "bs4.element.Tag"
      ]
     },
     "execution_count": 220,
     "metadata": {},
     "output_type": "execute_result"
    }
   ],
   "source": [
    "type(step_list[0])"
   ]
  },
  {
   "cell_type": "code",
   "execution_count": 221,
   "metadata": {},
   "outputs": [
    {
     "data": {
      "text/plain": [
       "list_iterator"
      ]
     },
     "execution_count": 221,
     "metadata": {},
     "output_type": "execute_result"
    }
   ],
   "source": [
    "type(step_list[0].childGenerator())"
   ]
  },
  {
   "cell_type": "code",
   "execution_count": 222,
   "metadata": {},
   "outputs": [
    {
     "data": {
      "text/plain": [
       "21"
      ]
     },
     "execution_count": 222,
     "metadata": {},
     "output_type": "execute_result"
    }
   ],
   "source": [
    "sum(1 for e in step_list[0].childGenerator())"
   ]
  },
  {
   "cell_type": "code",
   "execution_count": 5,
   "metadata": {},
   "outputs": [
    {
     "name": "stdout",
     "output_type": "stream",
     "text": [
      "Loading pages (1/6)\n",
      "[>                                                           ] 0%\r",
      "[======>                                                     ] 10%\r",
      "QSslSocket: cannot resolve CRYPTO_num_locks\n",
      "QSslSocket: cannot resolve CRYPTO_set_id_callback\n",
      "QSslSocket: cannot resolve CRYPTO_set_locking_callback\n",
      "QSslSocket: cannot resolve sk_free\n",
      "QSslSocket: cannot resolve sk_num\n",
      "QSslSocket: cannot resolve sk_pop_free\n",
      "QSslSocket: cannot resolve sk_value\n",
      "QSslSocket: cannot resolve SSL_library_init\n",
      "QSslSocket: cannot resolve SSL_load_error_strings\n",
      "QSslSocket: cannot resolve SSLv3_client_method\n",
      "QSslSocket: cannot resolve SSLv23_client_method\n",
      "QSslSocket: cannot resolve SSLv3_server_method\n",
      "QSslSocket: cannot resolve SSLv23_server_method\n",
      "QSslSocket: cannot resolve X509_STORE_CTX_get_chain\n",
      "QSslSocket: cannot resolve OPENSSL_add_all_algorithms_noconf\n",
      "QSslSocket: cannot resolve OPENSSL_add_all_algorithms_conf\n",
      "QSslSocket: cannot resolve SSLeay\n",
      "QSslSocket: cannot call unresolved function CRYPTO_num_locks\n",
      "QSslSocket: cannot call unresolved function CRYPTO_set_id_callback\n",
      "QSslSocket: cannot call unresolved function CRYPTO_set_locking_callback\n",
      "QSslSocket: cannot call unresolved function SSL_library_init\n",
      "QSslSocket: cannot call unresolved function SSLv23_client_method\n",
      "QSslSocket: cannot call unresolved function sk_num\n",
      "[======================>                                     ] 37%\r",
      "QSslSocket: cannot call unresolved function SSLv23_client_method\n",
      "QSslSocket: cannot call unresolved function SSL_library_init\n",
      "Warning: Failed to load https://ssl.gstatic.com/gb/images/b_8d5afc09.png (ignore)\n",
      "[==========================>                                 ] 44%\r",
      "[==============================>                             ] 50%\r",
      "[=================================>                          ] 56%\r",
      "[====================================>                       ] 61%\r",
      "[======================================>                     ] 64%\r",
      "[========================================>                   ] 67%\r",
      "[==========================================>                 ] 70%\r",
      "[===========================================>                ] 73%\r",
      "[=============================================>              ] 75%\r",
      "[==============================================>             ] 78%\r",
      "[=================================================>          ] 82%\r",
      "[==================================================>         ] 84%\r",
      "[====================================================>       ] 88%\r",
      "[============================================================] 100%\r",
      "Counting pages (2/6)                                               \n",
      "[============================================================] Object 1 of 1\r",
      "Resolving links (4/6)                                                       \n",
      "[============================================================] Object 1 of 1\r",
      "Loading headers and footers (5/6)                                           \n",
      "Printing pages (6/6)\n",
      "[>                                                           ] Preparing\r",
      "[============================================================] Page 1 of 1\r",
      "Done                                                                      \n",
      "QSslSocket: cannot call unresolved function CRYPTO_num_locks\n",
      "QSslSocket: cannot call unresolved function CRYPTO_set_id_callback\n",
      "QSslSocket: cannot call unresolved function CRYPTO_set_locking_callback\n"
     ]
    },
    {
     "data": {
      "text/plain": [
       "True"
      ]
     },
     "execution_count": 5,
     "metadata": {},
     "output_type": "execute_result"
    }
   ],
   "source": [
    "pdfkit.from_url('http://google.com', 'out.pdf')"
   ]
  },
  {
   "cell_type": "code",
   "execution_count": 15,
   "metadata": {},
   "outputs": [],
   "source": [
    "os.mkdir(str(category_index))\n",
    "category_recipe_outfile = str(category_index) + '/'+str(category_index)+'.csv' "
   ]
  },
  {
   "cell_type": "code",
   "execution_count": 19,
   "metadata": {},
   "outputs": [
    {
     "data": {
      "text/plain": [
       "'https://www.recipecommunity.com.au/categories/baby-food?page=18'"
      ]
     },
     "execution_count": 19,
     "metadata": {},
     "output_type": "execute_result"
    }
   ],
   "source": [
    "page_url"
   ]
  },
  {
   "cell_type": "code",
   "execution_count": 16,
   "metadata": {},
   "outputs": [
    {
     "ename": "OSError",
     "evalue": "wkhtmltopdf reported an error:\nLoading pages (1/6)\n[>                                                           ] 0%\r[======>                                                     ] 10%\rQSslSocket: cannot resolve CRYPTO_num_locks\nQSslSocket: cannot resolve CRYPTO_set_id_callback\nQSslSocket: cannot resolve CRYPTO_set_locking_callback\nQSslSocket: cannot resolve sk_free\nQSslSocket: cannot resolve sk_num\nQSslSocket: cannot resolve sk_pop_free\nQSslSocket: cannot resolve sk_value\nQSslSocket: cannot resolve SSL_library_init\nQSslSocket: cannot resolve SSL_load_error_strings\nQSslSocket: cannot resolve SSLv3_client_method\nQSslSocket: cannot resolve SSLv23_client_method\nQSslSocket: cannot resolve SSLv3_server_method\nQSslSocket: cannot resolve SSLv23_server_method\nQSslSocket: cannot resolve X509_STORE_CTX_get_chain\nQSslSocket: cannot resolve OPENSSL_add_all_algorithms_noconf\nQSslSocket: cannot resolve OPENSSL_add_all_algorithms_conf\nQSslSocket: cannot resolve SSLeay\nQSslSocket: cannot call unresolved function CRYPTO_num_locks\nQSslSocket: cannot call unresolved function CRYPTO_set_id_callback\nQSslSocket: cannot call unresolved function CRYPTO_set_locking_callback\nQSslSocket: cannot call unresolved function SSL_library_init\nQSslSocket: cannot call unresolved function SSLv23_client_method\nQSslSocket: cannot call unresolved function sk_num\nQSslSocket: cannot call unresolved function SSLv23_client_method\nQSslSocket: cannot call unresolved function SSL_library_init\nError: Failed loading page https://www.recipecommunity.com.au/categories/baby-food?page=18 (sometimes it will work just to ignore this error with --load-error-handling ignore)\nExit with code 1 due to network error: UnknownNetworkError\nQSslSocket: cannot call unresolved function CRYPTO_num_locks\nQSslSocket: cannot call unresolved function CRYPTO_set_id_callback\nQSslSocket: cannot call unresolved function CRYPTO_set_locking_callback\n",
     "output_type": "error",
     "traceback": [
      "\u001b[0;31m---------------------------------------------------------------------------\u001b[0m",
      "\u001b[0;31mOSError\u001b[0m                                   Traceback (most recent call last)",
      "\u001b[0;32m<ipython-input-16-9d78ca277b07>\u001b[0m in \u001b[0;36m<module>\u001b[0;34m\u001b[0m\n\u001b[0;32m----> 1\u001b[0;31m \u001b[0mpdfkit\u001b[0m\u001b[0;34m.\u001b[0m\u001b[0mfrom_url\u001b[0m\u001b[0;34m(\u001b[0m\u001b[0mpage_url\u001b[0m\u001b[0;34m,\u001b[0m \u001b[0;34m'out.pdf'\u001b[0m\u001b[0;34m)\u001b[0m\u001b[0;34m\u001b[0m\u001b[0;34m\u001b[0m\u001b[0m\n\u001b[0m",
      "\u001b[0;32m~/anaconda3/envs/py_3.6/lib/python3.6/site-packages/pdfkit/api.py\u001b[0m in \u001b[0;36mfrom_url\u001b[0;34m(url, output_path, options, toc, cover, configuration, cover_first)\u001b[0m\n\u001b[1;32m     24\u001b[0m                configuration=configuration, cover_first=cover_first)\n\u001b[1;32m     25\u001b[0m \u001b[0;34m\u001b[0m\u001b[0m\n\u001b[0;32m---> 26\u001b[0;31m     \u001b[0;32mreturn\u001b[0m \u001b[0mr\u001b[0m\u001b[0;34m.\u001b[0m\u001b[0mto_pdf\u001b[0m\u001b[0;34m(\u001b[0m\u001b[0moutput_path\u001b[0m\u001b[0;34m)\u001b[0m\u001b[0;34m\u001b[0m\u001b[0;34m\u001b[0m\u001b[0m\n\u001b[0m\u001b[1;32m     27\u001b[0m \u001b[0;34m\u001b[0m\u001b[0m\n\u001b[1;32m     28\u001b[0m \u001b[0;34m\u001b[0m\u001b[0m\n",
      "\u001b[0;32m~/anaconda3/envs/py_3.6/lib/python3.6/site-packages/pdfkit/pdfkit.py\u001b[0m in \u001b[0;36mto_pdf\u001b[0;34m(self, path)\u001b[0m\n\u001b[1;32m    154\u001b[0m \u001b[0;34m\u001b[0m\u001b[0m\n\u001b[1;32m    155\u001b[0m         \u001b[0;32mif\u001b[0m \u001b[0;34m'Error'\u001b[0m \u001b[0;32min\u001b[0m \u001b[0mstderr\u001b[0m\u001b[0;34m:\u001b[0m\u001b[0;34m\u001b[0m\u001b[0;34m\u001b[0m\u001b[0m\n\u001b[0;32m--> 156\u001b[0;31m             \u001b[0;32mraise\u001b[0m \u001b[0mIOError\u001b[0m\u001b[0;34m(\u001b[0m\u001b[0;34m'wkhtmltopdf reported an error:\\n'\u001b[0m \u001b[0;34m+\u001b[0m \u001b[0mstderr\u001b[0m\u001b[0;34m)\u001b[0m\u001b[0;34m\u001b[0m\u001b[0;34m\u001b[0m\u001b[0m\n\u001b[0m\u001b[1;32m    157\u001b[0m \u001b[0;34m\u001b[0m\u001b[0m\n\u001b[1;32m    158\u001b[0m         \u001b[0;32mif\u001b[0m \u001b[0mexit_code\u001b[0m \u001b[0;34m!=\u001b[0m \u001b[0;36m0\u001b[0m\u001b[0;34m:\u001b[0m\u001b[0;34m\u001b[0m\u001b[0;34m\u001b[0m\u001b[0m\n",
      "\u001b[0;31mOSError\u001b[0m: wkhtmltopdf reported an error:\nLoading pages (1/6)\n[>                                                           ] 0%\r[======>                                                     ] 10%\rQSslSocket: cannot resolve CRYPTO_num_locks\nQSslSocket: cannot resolve CRYPTO_set_id_callback\nQSslSocket: cannot resolve CRYPTO_set_locking_callback\nQSslSocket: cannot resolve sk_free\nQSslSocket: cannot resolve sk_num\nQSslSocket: cannot resolve sk_pop_free\nQSslSocket: cannot resolve sk_value\nQSslSocket: cannot resolve SSL_library_init\nQSslSocket: cannot resolve SSL_load_error_strings\nQSslSocket: cannot resolve SSLv3_client_method\nQSslSocket: cannot resolve SSLv23_client_method\nQSslSocket: cannot resolve SSLv3_server_method\nQSslSocket: cannot resolve SSLv23_server_method\nQSslSocket: cannot resolve X509_STORE_CTX_get_chain\nQSslSocket: cannot resolve OPENSSL_add_all_algorithms_noconf\nQSslSocket: cannot resolve OPENSSL_add_all_algorithms_conf\nQSslSocket: cannot resolve SSLeay\nQSslSocket: cannot call unresolved function CRYPTO_num_locks\nQSslSocket: cannot call unresolved function CRYPTO_set_id_callback\nQSslSocket: cannot call unresolved function CRYPTO_set_locking_callback\nQSslSocket: cannot call unresolved function SSL_library_init\nQSslSocket: cannot call unresolved function SSLv23_client_method\nQSslSocket: cannot call unresolved function sk_num\nQSslSocket: cannot call unresolved function SSLv23_client_method\nQSslSocket: cannot call unresolved function SSL_library_init\nError: Failed loading page https://www.recipecommunity.com.au/categories/baby-food?page=18 (sometimes it will work just to ignore this error with --load-error-handling ignore)\nExit with code 1 due to network error: UnknownNetworkError\nQSslSocket: cannot call unresolved function CRYPTO_num_locks\nQSslSocket: cannot call unresolved function CRYPTO_set_id_callback\nQSslSocket: cannot call unresolved function CRYPTO_set_locking_callback\n"
     ]
    }
   ],
   "source": [
    "pdfkit.from_url(page_url, 'out.pdf')"
   ]
  },
  {
   "cell_type": "code",
   "execution_count": 20,
   "metadata": {},
   "outputs": [
    {
     "ename": "AttributeError",
     "evalue": "module 'os' has no attribute 'wkhtmltopdf'",
     "output_type": "error",
     "traceback": [
      "\u001b[0;31m---------------------------------------------------------------------------\u001b[0m",
      "\u001b[0;31mAttributeError\u001b[0m                            Traceback (most recent call last)",
      "\u001b[0;32m<ipython-input-20-816ce3fc032b>\u001b[0m in \u001b[0;36m<module>\u001b[0;34m\u001b[0m\n\u001b[0;32m----> 1\u001b[0;31m \u001b[0mos\u001b[0m\u001b[0;34m.\u001b[0m\u001b[0mwkhtmltopdf\u001b[0m\u001b[0;34m\u001b[0m\u001b[0;34m\u001b[0m\u001b[0m\n\u001b[0m",
      "\u001b[0;31mAttributeError\u001b[0m: module 'os' has no attribute 'wkhtmltopdf'"
     ]
    }
   ],
   "source": [
    "pdfkit.from_url(page_url, 'out.pdf')"
   ]
  },
  {
   "cell_type": "code",
   "execution_count": 41,
   "metadata": {},
   "outputs": [
    {
     "ename": "OSError",
     "evalue": "wkhtmltopdf reported an error:\nLoading pages (1/6)\n[>                                                           ] 0%\r[======>                                                     ] 10%\rQSslSocket: cannot resolve CRYPTO_num_locks\nQSslSocket: cannot resolve CRYPTO_set_id_callback\nQSslSocket: cannot resolve CRYPTO_set_locking_callback\nQSslSocket: cannot resolve sk_free\nQSslSocket: cannot resolve sk_num\nQSslSocket: cannot resolve sk_pop_free\nQSslSocket: cannot resolve sk_value\nQSslSocket: cannot resolve SSL_library_init\nQSslSocket: cannot resolve SSL_load_error_strings\nQSslSocket: cannot resolve SSLv3_client_method\nQSslSocket: cannot resolve SSLv23_client_method\nQSslSocket: cannot resolve SSLv3_server_method\nQSslSocket: cannot resolve SSLv23_server_method\nQSslSocket: cannot resolve X509_STORE_CTX_get_chain\nQSslSocket: cannot resolve OPENSSL_add_all_algorithms_noconf\nQSslSocket: cannot resolve OPENSSL_add_all_algorithms_conf\nQSslSocket: cannot resolve SSLeay\nQSslSocket: cannot call unresolved function CRYPTO_num_locks\nQSslSocket: cannot call unresolved function CRYPTO_set_id_callback\nQSslSocket: cannot call unresolved function CRYPTO_set_locking_callback\nQSslSocket: cannot call unresolved function SSL_library_init\nQSslSocket: cannot call unresolved function SSLv23_client_method\nQSslSocket: cannot call unresolved function sk_num\nQSslSocket: cannot call unresolved function SSLv23_client_method\nQSslSocket: cannot call unresolved function SSL_library_init\nError: Failed loading page https://www.recipecommunity.com.au/categories/baby-food?page=18 (sometimes it will work just to ignore this error with --load-error-handling ignore)\nExit with code 1 due to network error: UnknownNetworkError\nQSslSocket: cannot call unresolved function CRYPTO_num_locks\nQSslSocket: cannot call unresolved function CRYPTO_set_id_callback\nQSslSocket: cannot call unresolved function CRYPTO_set_locking_callback\n",
     "output_type": "error",
     "traceback": [
      "\u001b[0;31m---------------------------------------------------------------------------\u001b[0m",
      "\u001b[0;31mOSError\u001b[0m                                   Traceback (most recent call last)",
      "\u001b[0;32m<ipython-input-41-9d78ca277b07>\u001b[0m in \u001b[0;36m<module>\u001b[0;34m\u001b[0m\n\u001b[0;32m----> 1\u001b[0;31m \u001b[0mpdfkit\u001b[0m\u001b[0;34m.\u001b[0m\u001b[0mfrom_url\u001b[0m\u001b[0;34m(\u001b[0m\u001b[0mpage_url\u001b[0m\u001b[0;34m,\u001b[0m \u001b[0;34m'out.pdf'\u001b[0m\u001b[0;34m)\u001b[0m\u001b[0;34m\u001b[0m\u001b[0;34m\u001b[0m\u001b[0m\n\u001b[0m",
      "\u001b[0;32m~/anaconda3/envs/py_3.6/lib/python3.6/site-packages/pdfkit/api.py\u001b[0m in \u001b[0;36mfrom_url\u001b[0;34m(url, output_path, options, toc, cover, configuration, cover_first)\u001b[0m\n\u001b[1;32m     24\u001b[0m                configuration=configuration, cover_first=cover_first)\n\u001b[1;32m     25\u001b[0m \u001b[0;34m\u001b[0m\u001b[0m\n\u001b[0;32m---> 26\u001b[0;31m     \u001b[0;32mreturn\u001b[0m \u001b[0mr\u001b[0m\u001b[0;34m.\u001b[0m\u001b[0mto_pdf\u001b[0m\u001b[0;34m(\u001b[0m\u001b[0moutput_path\u001b[0m\u001b[0;34m)\u001b[0m\u001b[0;34m\u001b[0m\u001b[0;34m\u001b[0m\u001b[0m\n\u001b[0m\u001b[1;32m     27\u001b[0m \u001b[0;34m\u001b[0m\u001b[0m\n\u001b[1;32m     28\u001b[0m \u001b[0;34m\u001b[0m\u001b[0m\n",
      "\u001b[0;32m~/anaconda3/envs/py_3.6/lib/python3.6/site-packages/pdfkit/pdfkit.py\u001b[0m in \u001b[0;36mto_pdf\u001b[0;34m(self, path)\u001b[0m\n\u001b[1;32m    154\u001b[0m \u001b[0;34m\u001b[0m\u001b[0m\n\u001b[1;32m    155\u001b[0m         \u001b[0;32mif\u001b[0m \u001b[0;34m'Error'\u001b[0m \u001b[0;32min\u001b[0m \u001b[0mstderr\u001b[0m\u001b[0;34m:\u001b[0m\u001b[0;34m\u001b[0m\u001b[0;34m\u001b[0m\u001b[0m\n\u001b[0;32m--> 156\u001b[0;31m             \u001b[0;32mraise\u001b[0m \u001b[0mIOError\u001b[0m\u001b[0;34m(\u001b[0m\u001b[0;34m'wkhtmltopdf reported an error:\\n'\u001b[0m \u001b[0;34m+\u001b[0m \u001b[0mstderr\u001b[0m\u001b[0;34m)\u001b[0m\u001b[0;34m\u001b[0m\u001b[0;34m\u001b[0m\u001b[0m\n\u001b[0m\u001b[1;32m    157\u001b[0m \u001b[0;34m\u001b[0m\u001b[0m\n\u001b[1;32m    158\u001b[0m         \u001b[0;32mif\u001b[0m \u001b[0mexit_code\u001b[0m \u001b[0;34m!=\u001b[0m \u001b[0;36m0\u001b[0m\u001b[0;34m:\u001b[0m\u001b[0;34m\u001b[0m\u001b[0;34m\u001b[0m\u001b[0m\n",
      "\u001b[0;31mOSError\u001b[0m: wkhtmltopdf reported an error:\nLoading pages (1/6)\n[>                                                           ] 0%\r[======>                                                     ] 10%\rQSslSocket: cannot resolve CRYPTO_num_locks\nQSslSocket: cannot resolve CRYPTO_set_id_callback\nQSslSocket: cannot resolve CRYPTO_set_locking_callback\nQSslSocket: cannot resolve sk_free\nQSslSocket: cannot resolve sk_num\nQSslSocket: cannot resolve sk_pop_free\nQSslSocket: cannot resolve sk_value\nQSslSocket: cannot resolve SSL_library_init\nQSslSocket: cannot resolve SSL_load_error_strings\nQSslSocket: cannot resolve SSLv3_client_method\nQSslSocket: cannot resolve SSLv23_client_method\nQSslSocket: cannot resolve SSLv3_server_method\nQSslSocket: cannot resolve SSLv23_server_method\nQSslSocket: cannot resolve X509_STORE_CTX_get_chain\nQSslSocket: cannot resolve OPENSSL_add_all_algorithms_noconf\nQSslSocket: cannot resolve OPENSSL_add_all_algorithms_conf\nQSslSocket: cannot resolve SSLeay\nQSslSocket: cannot call unresolved function CRYPTO_num_locks\nQSslSocket: cannot call unresolved function CRYPTO_set_id_callback\nQSslSocket: cannot call unresolved function CRYPTO_set_locking_callback\nQSslSocket: cannot call unresolved function SSL_library_init\nQSslSocket: cannot call unresolved function SSLv23_client_method\nQSslSocket: cannot call unresolved function sk_num\nQSslSocket: cannot call unresolved function SSLv23_client_method\nQSslSocket: cannot call unresolved function SSL_library_init\nError: Failed loading page https://www.recipecommunity.com.au/categories/baby-food?page=18 (sometimes it will work just to ignore this error with --load-error-handling ignore)\nExit with code 1 due to network error: UnknownNetworkError\nQSslSocket: cannot call unresolved function CRYPTO_num_locks\nQSslSocket: cannot call unresolved function CRYPTO_set_id_callback\nQSslSocket: cannot call unresolved function CRYPTO_set_locking_callback\n"
     ]
    }
   ],
   "source": [
    "pdfkit.from_url(page_url, 'out.pdf')"
   ]
  },
  {
   "cell_type": "code",
   "execution_count": null,
   "metadata": {},
   "outputs": [],
   "source": []
  }
 ],
 "metadata": {
  "kernelspec": {
   "display_name": "Python 3",
   "language": "python",
   "name": "python3"
  },
  "language_info": {
   "codemirror_mode": {
    "name": "ipython",
    "version": 3
   },
   "file_extension": ".py",
   "mimetype": "text/x-python",
   "name": "python",
   "nbconvert_exporter": "python",
   "pygments_lexer": "ipython3",
   "version": "3.6.9"
  }
 },
 "nbformat": 4,
 "nbformat_minor": 2
}
